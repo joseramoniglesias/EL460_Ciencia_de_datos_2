{
 "nbformat": 4,
 "nbformat_minor": 0,
 "metadata": {
  "colab": {
   "provenance": [],
   "include_colab_link": true
  },
  "kernelspec": {
   "name": "python3",
   "display_name": "Python 3 (ipykernel)",
   "language": "python"
  },
  "language_info": {
   "name": "python"
  },
  "widgets": {
   "application/vnd.jupyter.widget-state+json": {
    "6af52a612dba4499a32e28cc1b20ec2f": {
     "model_module": "@jupyter-widgets/controls",
     "model_name": "VBoxModel",
     "model_module_version": "1.5.0",
     "state": {
      "_dom_classes": [
       "widget-interact"
      ],
      "_model_module": "@jupyter-widgets/controls",
      "_model_module_version": "1.5.0",
      "_model_name": "VBoxModel",
      "_view_count": null,
      "_view_module": "@jupyter-widgets/controls",
      "_view_module_version": "1.5.0",
      "_view_name": "VBoxView",
      "box_style": "",
      "children": [
       "IPY_MODEL_4f551a599189406a8a62d785ec8fa2a7",
       "IPY_MODEL_c8b56c210db04ef1af5793ae9f1720cb"
      ],
      "layout": "IPY_MODEL_0f13dadf8f454949bcce4101af82386a"
     }
    },
    "4f551a599189406a8a62d785ec8fa2a7": {
     "model_module": "@jupyter-widgets/controls",
     "model_name": "IntSliderModel",
     "model_module_version": "1.5.0",
     "state": {
      "_dom_classes": [],
      "_model_module": "@jupyter-widgets/controls",
      "_model_module_version": "1.5.0",
      "_model_name": "IntSliderModel",
      "_view_count": null,
      "_view_module": "@jupyter-widgets/controls",
      "_view_module_version": "1.5.0",
      "_view_name": "IntSliderView",
      "continuous_update": true,
      "description": "x",
      "description_tooltip": null,
      "disabled": false,
      "layout": "IPY_MODEL_07248f044fcc4663a4423900b040254f",
      "max": 100,
      "min": 5,
      "orientation": "horizontal",
      "readout": true,
      "readout_format": "d",
      "step": 1,
      "style": "IPY_MODEL_2270fb4d7e0f41ce92672c8178d8106d",
      "value": 5
     }
    },
    "c8b56c210db04ef1af5793ae9f1720cb": {
     "model_module": "@jupyter-widgets/output",
     "model_name": "OutputModel",
     "model_module_version": "1.0.0",
     "state": {
      "_dom_classes": [],
      "_model_module": "@jupyter-widgets/output",
      "_model_module_version": "1.0.0",
      "_model_name": "OutputModel",
      "_view_count": null,
      "_view_module": "@jupyter-widgets/output",
      "_view_module_version": "1.0.0",
      "_view_name": "OutputView",
      "layout": "IPY_MODEL_c49759a419d2458386dfcf26fc8f46be",
      "msg_id": "",
      "outputs": [
       {
        "output_type": "display_data",
        "data": {
         "text/plain": "         periodo equipo_ope tipo_equi_ope cto_equi_ope tipo_elemento  \\\nevento                                                                 \n7549809   201901   MAZ30L13   interruptor     MAZ30L13            33   \n7549809   201901   MAZ30L13   interruptor     MAZ30L13            33   \n7549809   201901   MAZ30L13   interruptor     MAZ30L13            33   \n7549809   201901   MAZ30L13   interruptor     MAZ30L13            33   \n7549809   201901   MAZ30L13   interruptor     MAZ30L13            33   \n\n                     inicio                 fin  duracion_h tipo_duracion  \\\nevento                                                                      \n7549809 2019-01-01 00:00:01 2019-01-01 01:01:49    1.030000       > 3 min   \n7549809 2019-01-01 00:00:01 2019-01-01 01:09:36    1.159722       > 3 min   \n7549809 2019-01-01 00:00:01 2019-01-01 01:18:21    1.305556       > 3 min   \n7549809 2019-01-01 00:00:01 2019-01-01 02:41:00    2.683056       > 3 min   \n7549809 2019-01-01 00:00:01 2019-01-01 13:22:25   13.373333       > 3 min   \n\n        causa tipo_causa  CNT_TRAFOS_AFEC  cnt_usus     SAIDI     SAIFI  \nevento                                                                   \n7549809  37.0         NP                1         1  0.000002  0.000002  \n7549809  37.0         NP               32       325  0.000757  0.000653  \n7549809  37.0         NP               54      3015  0.007904  0.006054  \n7549809  37.0         NP              209      2498  0.013459  0.005016  \n7549809  37.0         NP                1         3  0.000081  0.000006  ",
         "text/html": "\n  <div id=\"df-6432d78c-4ffc-4721-812c-aa9117761b64\" class=\"colab-df-container\">\n    <div>\n<style scoped>\n    .dataframe tbody tr th:only-of-type {\n        vertical-align: middle;\n    }\n\n    .dataframe tbody tr th {\n        vertical-align: top;\n    }\n\n    .dataframe thead th {\n        text-align: right;\n    }\n</style>\n<table border=\"1\" class=\"dataframe\">\n  <thead>\n    <tr style=\"text-align: right;\">\n      <th></th>\n      <th>periodo</th>\n      <th>equipo_ope</th>\n      <th>tipo_equi_ope</th>\n      <th>cto_equi_ope</th>\n      <th>tipo_elemento</th>\n      <th>inicio</th>\n      <th>fin</th>\n      <th>duracion_h</th>\n      <th>tipo_duracion</th>\n      <th>causa</th>\n      <th>tipo_causa</th>\n      <th>CNT_TRAFOS_AFEC</th>\n      <th>cnt_usus</th>\n      <th>SAIDI</th>\n      <th>SAIFI</th>\n    </tr>\n    <tr>\n      <th>evento</th>\n      <th></th>\n      <th></th>\n      <th></th>\n      <th></th>\n      <th></th>\n      <th></th>\n      <th></th>\n      <th></th>\n      <th></th>\n      <th></th>\n      <th></th>\n      <th></th>\n      <th></th>\n      <th></th>\n      <th></th>\n    </tr>\n  </thead>\n  <tbody>\n    <tr>\n      <th>7549809</th>\n      <td>201901</td>\n      <td>MAZ30L13</td>\n      <td>interruptor</td>\n      <td>MAZ30L13</td>\n      <td>33</td>\n      <td>2019-01-01 00:00:01</td>\n      <td>2019-01-01 01:01:49</td>\n      <td>1.030000</td>\n      <td>&gt; 3 min</td>\n      <td>37.0</td>\n      <td>NP</td>\n      <td>1</td>\n      <td>1</td>\n      <td>0.000002</td>\n      <td>0.000002</td>\n    </tr>\n    <tr>\n      <th>7549809</th>\n      <td>201901</td>\n      <td>MAZ30L13</td>\n      <td>interruptor</td>\n      <td>MAZ30L13</td>\n      <td>33</td>\n      <td>2019-01-01 00:00:01</td>\n      <td>2019-01-01 01:09:36</td>\n      <td>1.159722</td>\n      <td>&gt; 3 min</td>\n      <td>37.0</td>\n      <td>NP</td>\n      <td>32</td>\n      <td>325</td>\n      <td>0.000757</td>\n      <td>0.000653</td>\n    </tr>\n    <tr>\n      <th>7549809</th>\n      <td>201901</td>\n      <td>MAZ30L13</td>\n      <td>interruptor</td>\n      <td>MAZ30L13</td>\n      <td>33</td>\n      <td>2019-01-01 00:00:01</td>\n      <td>2019-01-01 01:18:21</td>\n      <td>1.305556</td>\n      <td>&gt; 3 min</td>\n      <td>37.0</td>\n      <td>NP</td>\n      <td>54</td>\n      <td>3015</td>\n      <td>0.007904</td>\n      <td>0.006054</td>\n    </tr>\n    <tr>\n      <th>7549809</th>\n      <td>201901</td>\n      <td>MAZ30L13</td>\n      <td>interruptor</td>\n      <td>MAZ30L13</td>\n      <td>33</td>\n      <td>2019-01-01 00:00:01</td>\n      <td>2019-01-01 02:41:00</td>\n      <td>2.683056</td>\n      <td>&gt; 3 min</td>\n      <td>37.0</td>\n      <td>NP</td>\n      <td>209</td>\n      <td>2498</td>\n      <td>0.013459</td>\n      <td>0.005016</td>\n    </tr>\n    <tr>\n      <th>7549809</th>\n      <td>201901</td>\n      <td>MAZ30L13</td>\n      <td>interruptor</td>\n      <td>MAZ30L13</td>\n      <td>33</td>\n      <td>2019-01-01 00:00:01</td>\n      <td>2019-01-01 13:22:25</td>\n      <td>13.373333</td>\n      <td>&gt; 3 min</td>\n      <td>37.0</td>\n      <td>NP</td>\n      <td>1</td>\n      <td>3</td>\n      <td>0.000081</td>\n      <td>0.000006</td>\n    </tr>\n  </tbody>\n</table>\n</div>\n    <div class=\"colab-df-buttons\">\n\n  <div class=\"colab-df-container\">\n    <button class=\"colab-df-convert\" onclick=\"convertToInteractive('df-6432d78c-4ffc-4721-812c-aa9117761b64')\"\n            title=\"Convert this dataframe to an interactive table.\"\n            style=\"display:none;\">\n\n  <svg xmlns=\"http://www.w3.org/2000/svg\" height=\"24px\" viewBox=\"0 -960 960 960\">\n    <path d=\"M120-120v-720h720v720H120Zm60-500h600v-160H180v160Zm220 220h160v-160H400v160Zm0 220h160v-160H400v160ZM180-400h160v-160H180v160Zm440 0h160v-160H620v160ZM180-180h160v-160H180v160Zm440 0h160v-160H620v160Z\"/>\n  </svg>\n    </button>\n\n  <style>\n    .colab-df-container {\n      display:flex;\n      gap: 12px;\n    }\n\n    .colab-df-convert {\n      background-color: #E8F0FE;\n      border: none;\n      border-radius: 50%;\n      cursor: pointer;\n      display: none;\n      fill: #1967D2;\n      height: 32px;\n      padding: 0 0 0 0;\n      width: 32px;\n    }\n\n    .colab-df-convert:hover {\n      background-color: #E2EBFA;\n      box-shadow: 0px 1px 2px rgba(60, 64, 67, 0.3), 0px 1px 3px 1px rgba(60, 64, 67, 0.15);\n      fill: #174EA6;\n    }\n\n    .colab-df-buttons div {\n      margin-bottom: 4px;\n    }\n\n    [theme=dark] .colab-df-convert {\n      background-color: #3B4455;\n      fill: #D2E3FC;\n    }\n\n    [theme=dark] .colab-df-convert:hover {\n      background-color: #434B5C;\n      box-shadow: 0px 1px 3px 1px rgba(0, 0, 0, 0.15);\n      filter: drop-shadow(0px 1px 2px rgba(0, 0, 0, 0.3));\n      fill: #FFFFFF;\n    }\n  </style>\n\n    <script>\n      const buttonEl =\n        document.querySelector('#df-6432d78c-4ffc-4721-812c-aa9117761b64 button.colab-df-convert');\n      buttonEl.style.display =\n        google.colab.kernel.accessAllowed ? 'block' : 'none';\n\n      async function convertToInteractive(key) {\n        const element = document.querySelector('#df-6432d78c-4ffc-4721-812c-aa9117761b64');\n        const dataTable =\n          await google.colab.kernel.invokeFunction('convertToInteractive',\n                                                    [key], {});\n        if (!dataTable) return;\n\n        const docLinkHtml = 'Like what you see? Visit the ' +\n          '<a target=\"_blank\" href=https://colab.research.google.com/notebooks/data_table.ipynb>data table notebook</a>'\n          + ' to learn more about interactive tables.';\n        element.innerHTML = '';\n        dataTable['output_type'] = 'display_data';\n        await google.colab.output.renderOutput(dataTable, element);\n        const docLink = document.createElement('div');\n        docLink.innerHTML = docLinkHtml;\n        element.appendChild(docLink);\n      }\n    </script>\n  </div>\n\n\n<div id=\"df-17ca9df5-7265-406f-b79f-a01a62077e8a\">\n  <button class=\"colab-df-quickchart\" onclick=\"quickchart('df-17ca9df5-7265-406f-b79f-a01a62077e8a')\"\n            title=\"Suggest charts\"\n            style=\"display:none;\">\n\n<svg xmlns=\"http://www.w3.org/2000/svg\" height=\"24px\"viewBox=\"0 0 24 24\"\n     width=\"24px\">\n    <g>\n        <path d=\"M19 3H5c-1.1 0-2 .9-2 2v14c0 1.1.9 2 2 2h14c1.1 0 2-.9 2-2V5c0-1.1-.9-2-2-2zM9 17H7v-7h2v7zm4 0h-2V7h2v10zm4 0h-2v-4h2v4z\"/>\n    </g>\n</svg>\n  </button>\n\n<style>\n  .colab-df-quickchart {\n      --bg-color: #E8F0FE;\n      --fill-color: #1967D2;\n      --hover-bg-color: #E2EBFA;\n      --hover-fill-color: #174EA6;\n      --disabled-fill-color: #AAA;\n      --disabled-bg-color: #DDD;\n  }\n\n  [theme=dark] .colab-df-quickchart {\n      --bg-color: #3B4455;\n      --fill-color: #D2E3FC;\n      --hover-bg-color: #434B5C;\n      --hover-fill-color: #FFFFFF;\n      --disabled-bg-color: #3B4455;\n      --disabled-fill-color: #666;\n  }\n\n  .colab-df-quickchart {\n    background-color: var(--bg-color);\n    border: none;\n    border-radius: 50%;\n    cursor: pointer;\n    display: none;\n    fill: var(--fill-color);\n    height: 32px;\n    padding: 0;\n    width: 32px;\n  }\n\n  .colab-df-quickchart:hover {\n    background-color: var(--hover-bg-color);\n    box-shadow: 0 1px 2px rgba(60, 64, 67, 0.3), 0 1px 3px 1px rgba(60, 64, 67, 0.15);\n    fill: var(--button-hover-fill-color);\n  }\n\n  .colab-df-quickchart-complete:disabled,\n  .colab-df-quickchart-complete:disabled:hover {\n    background-color: var(--disabled-bg-color);\n    fill: var(--disabled-fill-color);\n    box-shadow: none;\n  }\n\n  .colab-df-spinner {\n    border: 2px solid var(--fill-color);\n    border-color: transparent;\n    border-bottom-color: var(--fill-color);\n    animation:\n      spin 1s steps(1) infinite;\n  }\n\n  @keyframes spin {\n    0% {\n      border-color: transparent;\n      border-bottom-color: var(--fill-color);\n      border-left-color: var(--fill-color);\n    }\n    20% {\n      border-color: transparent;\n      border-left-color: var(--fill-color);\n      border-top-color: var(--fill-color);\n    }\n    30% {\n      border-color: transparent;\n      border-left-color: var(--fill-color);\n      border-top-color: var(--fill-color);\n      border-right-color: var(--fill-color);\n    }\n    40% {\n      border-color: transparent;\n      border-right-color: var(--fill-color);\n      border-top-color: var(--fill-color);\n    }\n    60% {\n      border-color: transparent;\n      border-right-color: var(--fill-color);\n    }\n    80% {\n      border-color: transparent;\n      border-right-color: var(--fill-color);\n      border-bottom-color: var(--fill-color);\n    }\n    90% {\n      border-color: transparent;\n      border-bottom-color: var(--fill-color);\n    }\n  }\n</style>\n\n  <script>\n    async function quickchart(key) {\n      const quickchartButtonEl =\n        document.querySelector('#' + key + ' button');\n      quickchartButtonEl.disabled = true;  // To prevent multiple clicks.\n      quickchartButtonEl.classList.add('colab-df-spinner');\n      try {\n        const charts = await google.colab.kernel.invokeFunction(\n            'suggestCharts', [key], {});\n      } catch (error) {\n        console.error('Error during call to suggestCharts:', error);\n      }\n      quickchartButtonEl.classList.remove('colab-df-spinner');\n      quickchartButtonEl.classList.add('colab-df-quickchart-complete');\n    }\n    (() => {\n      let quickchartButtonEl =\n        document.querySelector('#df-17ca9df5-7265-406f-b79f-a01a62077e8a button');\n      quickchartButtonEl.style.display =\n        google.colab.kernel.accessAllowed ? 'block' : 'none';\n    })();\n  </script>\n</div>\n\n    </div>\n  </div>\n",
         "application/vnd.google.colaboratory.intrinsic+json": {
          "type": "dataframe",
          "summary": "{\n  \"name\": \"    display(interrupciones\",\n  \"rows\": 5,\n  \"fields\": [\n    {\n      \"column\": \"evento\",\n      \"properties\": {\n        \"dtype\": \"number\",\n        \"std\": 0,\n        \"min\": 7549809,\n        \"max\": 7549809,\n        \"num_unique_values\": 1,\n        \"samples\": [\n          7549809\n        ],\n        \"semantic_type\": \"\",\n        \"description\": \"\"\n      }\n    },\n    {\n      \"column\": \"periodo\",\n      \"properties\": {\n        \"dtype\": \"number\",\n        \"std\": 0,\n        \"min\": 201901,\n        \"max\": 201901,\n        \"num_unique_values\": 1,\n        \"samples\": [\n          201901\n        ],\n        \"semantic_type\": \"\",\n        \"description\": \"\"\n      }\n    },\n    {\n      \"column\": \"equipo_ope\",\n      \"properties\": {\n        \"dtype\": \"category\",\n        \"num_unique_values\": 1,\n        \"samples\": [\n          \"MAZ30L13\"\n        ],\n        \"semantic_type\": \"\",\n        \"description\": \"\"\n      }\n    },\n    {\n      \"column\": \"tipo_equi_ope\",\n      \"properties\": {\n        \"dtype\": \"category\",\n        \"num_unique_values\": 1,\n        \"samples\": [\n          \"interruptor\"\n        ],\n        \"semantic_type\": \"\",\n        \"description\": \"\"\n      }\n    },\n    {\n      \"column\": \"cto_equi_ope\",\n      \"properties\": {\n        \"dtype\": \"category\",\n        \"num_unique_values\": 1,\n        \"samples\": [\n          \"MAZ30L13\"\n        ],\n        \"semantic_type\": \"\",\n        \"description\": \"\"\n      }\n    },\n    {\n      \"column\": \"tipo_elemento\",\n      \"properties\": {\n        \"dtype\": \"category\",\n        \"num_unique_values\": 1,\n        \"samples\": [\n          \"33\"\n        ],\n        \"semantic_type\": \"\",\n        \"description\": \"\"\n      }\n    },\n    {\n      \"column\": \"inicio\",\n      \"properties\": {\n        \"dtype\": \"date\",\n        \"min\": \"2019-01-01 00:00:01\",\n        \"max\": \"2019-01-01 00:00:01\",\n        \"num_unique_values\": 1,\n        \"samples\": [\n          \"2019-01-01 00:00:01\"\n        ],\n        \"semantic_type\": \"\",\n        \"description\": \"\"\n      }\n    },\n    {\n      \"column\": \"fin\",\n      \"properties\": {\n        \"dtype\": \"date\",\n        \"min\": \"2019-01-01 01:01:49\",\n        \"max\": \"2019-01-01 13:22:25\",\n        \"num_unique_values\": 5,\n        \"samples\": [\n          \"2019-01-01 01:09:36\"\n        ],\n        \"semantic_type\": \"\",\n        \"description\": \"\"\n      }\n    },\n    {\n      \"column\": \"duracion_h\",\n      \"properties\": {\n        \"dtype\": \"number\",\n        \"std\": 5.331548268605159,\n        \"min\": 1.03,\n        \"max\": 13.3733333,\n        \"num_unique_values\": 5,\n        \"samples\": [\n          1.1597222\n        ],\n        \"semantic_type\": \"\",\n        \"description\": \"\"\n      }\n    },\n    {\n      \"column\": \"tipo_duracion\",\n      \"properties\": {\n        \"dtype\": \"category\",\n        \"num_unique_values\": 1,\n        \"samples\": [\n          \"> 3 min\"\n        ],\n        \"semantic_type\": \"\",\n        \"description\": \"\"\n      }\n    },\n    {\n      \"column\": \"causa\",\n      \"properties\": {\n        \"dtype\": \"category\",\n        \"num_unique_values\": 1,\n        \"samples\": [\n          \"37.0\"\n        ],\n        \"semantic_type\": \"\",\n        \"description\": \"\"\n      }\n    },\n    {\n      \"column\": \"tipo_causa\",\n      \"properties\": {\n        \"dtype\": \"category\",\n        \"num_unique_values\": 1,\n        \"samples\": [\n          \"NP\"\n        ],\n        \"semantic_type\": \"\",\n        \"description\": \"\"\n      }\n    },\n    {\n      \"column\": \"CNT_TRAFOS_AFEC\",\n      \"properties\": {\n        \"dtype\": \"number\",\n        \"std\": 86,\n        \"min\": 1,\n        \"max\": 209,\n        \"num_unique_values\": 4,\n        \"samples\": [\n          32\n        ],\n        \"semantic_type\": \"\",\n        \"description\": \"\"\n      }\n    },\n    {\n      \"column\": \"cnt_usus\",\n      \"properties\": {\n        \"dtype\": \"number\",\n        \"std\": 1467,\n        \"min\": 1,\n        \"max\": 3015,\n        \"num_unique_values\": 5,\n        \"samples\": [\n          325\n        ],\n        \"semantic_type\": \"\",\n        \"description\": \"\"\n      }\n    },\n    {\n      \"column\": \"SAIDI\",\n      \"properties\": {\n        \"dtype\": \"number\",\n        \"std\": 0.006033357130683132,\n        \"min\": 2.0683353e-06,\n        \"max\": 0.0134587846695,\n        \"num_unique_values\": 5,\n        \"samples\": [\n          0.0007568696126\n        ],\n        \"semantic_type\": \"\",\n        \"description\": \"\"\n      }\n    },\n    {\n      \"column\": \"SAIFI\",\n      \"properties\": {\n        \"dtype\": \"number\",\n        \"std\": 0.0029461653289219684,\n        \"min\": 2.0080926132e-06,\n        \"max\": 0.0060543992288921,\n        \"num_unique_values\": 5,\n        \"samples\": [\n          0.0006526300993\n        ],\n        \"semantic_type\": \"\",\n        \"description\": \"\"\n      }\n    }\n  ]\n}"
         }
        },
        "metadata": {}
       }
      ]
     }
    },
    "0f13dadf8f454949bcce4101af82386a": {
     "model_module": "@jupyter-widgets/base",
     "model_name": "LayoutModel",
     "model_module_version": "1.2.0",
     "state": {
      "_model_module": "@jupyter-widgets/base",
      "_model_module_version": "1.2.0",
      "_model_name": "LayoutModel",
      "_view_count": null,
      "_view_module": "@jupyter-widgets/base",
      "_view_module_version": "1.2.0",
      "_view_name": "LayoutView",
      "align_content": null,
      "align_items": null,
      "align_self": null,
      "border": null,
      "bottom": null,
      "display": null,
      "flex": null,
      "flex_flow": null,
      "grid_area": null,
      "grid_auto_columns": null,
      "grid_auto_flow": null,
      "grid_auto_rows": null,
      "grid_column": null,
      "grid_gap": null,
      "grid_row": null,
      "grid_template_areas": null,
      "grid_template_columns": null,
      "grid_template_rows": null,
      "height": null,
      "justify_content": null,
      "justify_items": null,
      "left": null,
      "margin": null,
      "max_height": null,
      "max_width": null,
      "min_height": null,
      "min_width": null,
      "object_fit": null,
      "object_position": null,
      "order": null,
      "overflow": null,
      "overflow_x": null,
      "overflow_y": null,
      "padding": null,
      "right": null,
      "top": null,
      "visibility": null,
      "width": null
     }
    },
    "07248f044fcc4663a4423900b040254f": {
     "model_module": "@jupyter-widgets/base",
     "model_name": "LayoutModel",
     "model_module_version": "1.2.0",
     "state": {
      "_model_module": "@jupyter-widgets/base",
      "_model_module_version": "1.2.0",
      "_model_name": "LayoutModel",
      "_view_count": null,
      "_view_module": "@jupyter-widgets/base",
      "_view_module_version": "1.2.0",
      "_view_name": "LayoutView",
      "align_content": null,
      "align_items": null,
      "align_self": null,
      "border": null,
      "bottom": null,
      "display": null,
      "flex": null,
      "flex_flow": null,
      "grid_area": null,
      "grid_auto_columns": null,
      "grid_auto_flow": null,
      "grid_auto_rows": null,
      "grid_column": null,
      "grid_gap": null,
      "grid_row": null,
      "grid_template_areas": null,
      "grid_template_columns": null,
      "grid_template_rows": null,
      "height": null,
      "justify_content": null,
      "justify_items": null,
      "left": null,
      "margin": null,
      "max_height": null,
      "max_width": null,
      "min_height": null,
      "min_width": null,
      "object_fit": null,
      "object_position": null,
      "order": null,
      "overflow": null,
      "overflow_x": null,
      "overflow_y": null,
      "padding": null,
      "right": null,
      "top": null,
      "visibility": null,
      "width": null
     }
    },
    "2270fb4d7e0f41ce92672c8178d8106d": {
     "model_module": "@jupyter-widgets/controls",
     "model_name": "SliderStyleModel",
     "model_module_version": "1.5.0",
     "state": {
      "_model_module": "@jupyter-widgets/controls",
      "_model_module_version": "1.5.0",
      "_model_name": "SliderStyleModel",
      "_view_count": null,
      "_view_module": "@jupyter-widgets/base",
      "_view_module_version": "1.2.0",
      "_view_name": "StyleView",
      "description_width": "",
      "handle_color": null
     }
    },
    "c49759a419d2458386dfcf26fc8f46be": {
     "model_module": "@jupyter-widgets/base",
     "model_name": "LayoutModel",
     "model_module_version": "1.2.0",
     "state": {
      "_model_module": "@jupyter-widgets/base",
      "_model_module_version": "1.2.0",
      "_model_name": "LayoutModel",
      "_view_count": null,
      "_view_module": "@jupyter-widgets/base",
      "_view_module_version": "1.2.0",
      "_view_name": "LayoutView",
      "align_content": null,
      "align_items": null,
      "align_self": null,
      "border": null,
      "bottom": null,
      "display": null,
      "flex": null,
      "flex_flow": null,
      "grid_area": null,
      "grid_auto_columns": null,
      "grid_auto_flow": null,
      "grid_auto_rows": null,
      "grid_column": null,
      "grid_gap": null,
      "grid_row": null,
      "grid_template_areas": null,
      "grid_template_columns": null,
      "grid_template_rows": null,
      "height": null,
      "justify_content": null,
      "justify_items": null,
      "left": null,
      "margin": null,
      "max_height": null,
      "max_width": null,
      "min_height": null,
      "min_width": null,
      "object_fit": null,
      "object_position": null,
      "order": null,
      "overflow": null,
      "overflow_x": null,
      "overflow_y": null,
      "padding": null,
      "right": null,
      "top": null,
      "visibility": null,
      "width": null
     }
    },
    "0794b4d858844a9e97658936452665ad": {
     "model_module": "@jupyter-widgets/controls",
     "model_name": "CheckboxModel",
     "model_module_version": "1.5.0",
     "state": {
      "_dom_classes": [],
      "_model_module": "@jupyter-widgets/controls",
      "_model_module_version": "1.5.0",
      "_model_name": "CheckboxModel",
      "_view_count": null,
      "_view_module": "@jupyter-widgets/controls",
      "_view_module_version": "1.5.0",
      "_view_name": "CheckboxView",
      "description": "periodo",
      "description_tooltip": null,
      "disabled": false,
      "indent": true,
      "layout": "IPY_MODEL_40f20a905e604322bcb48ec6abc90403",
      "style": "IPY_MODEL_57ff449e3ad9451f898e4557d9322447",
      "value": false
     }
    },
    "40f20a905e604322bcb48ec6abc90403": {
     "model_module": "@jupyter-widgets/base",
     "model_name": "LayoutModel",
     "model_module_version": "1.2.0",
     "state": {
      "_model_module": "@jupyter-widgets/base",
      "_model_module_version": "1.2.0",
      "_model_name": "LayoutModel",
      "_view_count": null,
      "_view_module": "@jupyter-widgets/base",
      "_view_module_version": "1.2.0",
      "_view_name": "LayoutView",
      "align_content": null,
      "align_items": null,
      "align_self": null,
      "border": null,
      "bottom": null,
      "display": null,
      "flex": null,
      "flex_flow": null,
      "grid_area": null,
      "grid_auto_columns": null,
      "grid_auto_flow": null,
      "grid_auto_rows": null,
      "grid_column": null,
      "grid_gap": null,
      "grid_row": null,
      "grid_template_areas": null,
      "grid_template_columns": null,
      "grid_template_rows": null,
      "height": null,
      "justify_content": null,
      "justify_items": null,
      "left": null,
      "margin": null,
      "max_height": null,
      "max_width": null,
      "min_height": null,
      "min_width": null,
      "object_fit": null,
      "object_position": null,
      "order": null,
      "overflow": null,
      "overflow_x": null,
      "overflow_y": null,
      "padding": null,
      "right": null,
      "top": null,
      "visibility": null,
      "width": null
     }
    },
    "57ff449e3ad9451f898e4557d9322447": {
     "model_module": "@jupyter-widgets/controls",
     "model_name": "DescriptionStyleModel",
     "model_module_version": "1.5.0",
     "state": {
      "_model_module": "@jupyter-widgets/controls",
      "_model_module_version": "1.5.0",
      "_model_name": "DescriptionStyleModel",
      "_view_count": null,
      "_view_module": "@jupyter-widgets/base",
      "_view_module_version": "1.2.0",
      "_view_name": "StyleView",
      "description_width": ""
     }
    },
    "693cf2c63f8b42f6832bec98e5de38fa": {
     "model_module": "@jupyter-widgets/controls",
     "model_name": "CheckboxModel",
     "model_module_version": "1.5.0",
     "state": {
      "_dom_classes": [],
      "_model_module": "@jupyter-widgets/controls",
      "_model_module_version": "1.5.0",
      "_model_name": "CheckboxModel",
      "_view_count": null,
      "_view_module": "@jupyter-widgets/controls",
      "_view_module_version": "1.5.0",
      "_view_name": "CheckboxView",
      "description": "equipo_ope",
      "description_tooltip": null,
      "disabled": false,
      "indent": true,
      "layout": "IPY_MODEL_d42cdabcee6a408aa087dd6ef66fcfc0",
      "style": "IPY_MODEL_a46fcbba852d49408aed03b57427c805",
      "value": false
     }
    },
    "d42cdabcee6a408aa087dd6ef66fcfc0": {
     "model_module": "@jupyter-widgets/base",
     "model_name": "LayoutModel",
     "model_module_version": "1.2.0",
     "state": {
      "_model_module": "@jupyter-widgets/base",
      "_model_module_version": "1.2.0",
      "_model_name": "LayoutModel",
      "_view_count": null,
      "_view_module": "@jupyter-widgets/base",
      "_view_module_version": "1.2.0",
      "_view_name": "LayoutView",
      "align_content": null,
      "align_items": null,
      "align_self": null,
      "border": null,
      "bottom": null,
      "display": null,
      "flex": null,
      "flex_flow": null,
      "grid_area": null,
      "grid_auto_columns": null,
      "grid_auto_flow": null,
      "grid_auto_rows": null,
      "grid_column": null,
      "grid_gap": null,
      "grid_row": null,
      "grid_template_areas": null,
      "grid_template_columns": null,
      "grid_template_rows": null,
      "height": null,
      "justify_content": null,
      "justify_items": null,
      "left": null,
      "margin": null,
      "max_height": null,
      "max_width": null,
      "min_height": null,
      "min_width": null,
      "object_fit": null,
      "object_position": null,
      "order": null,
      "overflow": null,
      "overflow_x": null,
      "overflow_y": null,
      "padding": null,
      "right": null,
      "top": null,
      "visibility": null,
      "width": null
     }
    },
    "a46fcbba852d49408aed03b57427c805": {
     "model_module": "@jupyter-widgets/controls",
     "model_name": "DescriptionStyleModel",
     "model_module_version": "1.5.0",
     "state": {
      "_model_module": "@jupyter-widgets/controls",
      "_model_module_version": "1.5.0",
      "_model_name": "DescriptionStyleModel",
      "_view_count": null,
      "_view_module": "@jupyter-widgets/base",
      "_view_module_version": "1.2.0",
      "_view_name": "StyleView",
      "description_width": ""
     }
    },
    "d7915a73d0734c1b98d1d794929ff146": {
     "model_module": "@jupyter-widgets/controls",
     "model_name": "CheckboxModel",
     "model_module_version": "1.5.0",
     "state": {
      "_dom_classes": [],
      "_model_module": "@jupyter-widgets/controls",
      "_model_module_version": "1.5.0",
      "_model_name": "CheckboxModel",
      "_view_count": null,
      "_view_module": "@jupyter-widgets/controls",
      "_view_module_version": "1.5.0",
      "_view_name": "CheckboxView",
      "description": "tipo_equi_ope",
      "description_tooltip": null,
      "disabled": false,
      "indent": true,
      "layout": "IPY_MODEL_a63a7174b0234d0eaea33b55effa0a7b",
      "style": "IPY_MODEL_f3baf9b4ad764947b3de46cbf33473fd",
      "value": false
     }
    },
    "a63a7174b0234d0eaea33b55effa0a7b": {
     "model_module": "@jupyter-widgets/base",
     "model_name": "LayoutModel",
     "model_module_version": "1.2.0",
     "state": {
      "_model_module": "@jupyter-widgets/base",
      "_model_module_version": "1.2.0",
      "_model_name": "LayoutModel",
      "_view_count": null,
      "_view_module": "@jupyter-widgets/base",
      "_view_module_version": "1.2.0",
      "_view_name": "LayoutView",
      "align_content": null,
      "align_items": null,
      "align_self": null,
      "border": null,
      "bottom": null,
      "display": null,
      "flex": null,
      "flex_flow": null,
      "grid_area": null,
      "grid_auto_columns": null,
      "grid_auto_flow": null,
      "grid_auto_rows": null,
      "grid_column": null,
      "grid_gap": null,
      "grid_row": null,
      "grid_template_areas": null,
      "grid_template_columns": null,
      "grid_template_rows": null,
      "height": null,
      "justify_content": null,
      "justify_items": null,
      "left": null,
      "margin": null,
      "max_height": null,
      "max_width": null,
      "min_height": null,
      "min_width": null,
      "object_fit": null,
      "object_position": null,
      "order": null,
      "overflow": null,
      "overflow_x": null,
      "overflow_y": null,
      "padding": null,
      "right": null,
      "top": null,
      "visibility": null,
      "width": null
     }
    },
    "f3baf9b4ad764947b3de46cbf33473fd": {
     "model_module": "@jupyter-widgets/controls",
     "model_name": "DescriptionStyleModel",
     "model_module_version": "1.5.0",
     "state": {
      "_model_module": "@jupyter-widgets/controls",
      "_model_module_version": "1.5.0",
      "_model_name": "DescriptionStyleModel",
      "_view_count": null,
      "_view_module": "@jupyter-widgets/base",
      "_view_module_version": "1.2.0",
      "_view_name": "StyleView",
      "description_width": ""
     }
    },
    "36b9d8e3a2a9464ca436028a3d071b6c": {
     "model_module": "@jupyter-widgets/controls",
     "model_name": "CheckboxModel",
     "model_module_version": "1.5.0",
     "state": {
      "_dom_classes": [],
      "_model_module": "@jupyter-widgets/controls",
      "_model_module_version": "1.5.0",
      "_model_name": "CheckboxModel",
      "_view_count": null,
      "_view_module": "@jupyter-widgets/controls",
      "_view_module_version": "1.5.0",
      "_view_name": "CheckboxView",
      "description": "cto_equi_ope",
      "description_tooltip": null,
      "disabled": false,
      "indent": true,
      "layout": "IPY_MODEL_9ea888dd93294474a4cab048ef0eabbc",
      "style": "IPY_MODEL_1c5754bea6b24d1b9fe28d9b84ce4d1a",
      "value": false
     }
    },
    "9ea888dd93294474a4cab048ef0eabbc": {
     "model_module": "@jupyter-widgets/base",
     "model_name": "LayoutModel",
     "model_module_version": "1.2.0",
     "state": {
      "_model_module": "@jupyter-widgets/base",
      "_model_module_version": "1.2.0",
      "_model_name": "LayoutModel",
      "_view_count": null,
      "_view_module": "@jupyter-widgets/base",
      "_view_module_version": "1.2.0",
      "_view_name": "LayoutView",
      "align_content": null,
      "align_items": null,
      "align_self": null,
      "border": null,
      "bottom": null,
      "display": null,
      "flex": null,
      "flex_flow": null,
      "grid_area": null,
      "grid_auto_columns": null,
      "grid_auto_flow": null,
      "grid_auto_rows": null,
      "grid_column": null,
      "grid_gap": null,
      "grid_row": null,
      "grid_template_areas": null,
      "grid_template_columns": null,
      "grid_template_rows": null,
      "height": null,
      "justify_content": null,
      "justify_items": null,
      "left": null,
      "margin": null,
      "max_height": null,
      "max_width": null,
      "min_height": null,
      "min_width": null,
      "object_fit": null,
      "object_position": null,
      "order": null,
      "overflow": null,
      "overflow_x": null,
      "overflow_y": null,
      "padding": null,
      "right": null,
      "top": null,
      "visibility": null,
      "width": null
     }
    },
    "1c5754bea6b24d1b9fe28d9b84ce4d1a": {
     "model_module": "@jupyter-widgets/controls",
     "model_name": "DescriptionStyleModel",
     "model_module_version": "1.5.0",
     "state": {
      "_model_module": "@jupyter-widgets/controls",
      "_model_module_version": "1.5.0",
      "_model_name": "DescriptionStyleModel",
      "_view_count": null,
      "_view_module": "@jupyter-widgets/base",
      "_view_module_version": "1.2.0",
      "_view_name": "StyleView",
      "description_width": ""
     }
    },
    "dc1909ee569a4f2782579750a10dc5dd": {
     "model_module": "@jupyter-widgets/controls",
     "model_name": "CheckboxModel",
     "model_module_version": "1.5.0",
     "state": {
      "_dom_classes": [],
      "_model_module": "@jupyter-widgets/controls",
      "_model_module_version": "1.5.0",
      "_model_name": "CheckboxModel",
      "_view_count": null,
      "_view_module": "@jupyter-widgets/controls",
      "_view_module_version": "1.5.0",
      "_view_name": "CheckboxView",
      "description": "tipo_elemento",
      "description_tooltip": null,
      "disabled": false,
      "indent": true,
      "layout": "IPY_MODEL_1ab2a4f8f40e43e9b2687223dfbf5b4d",
      "style": "IPY_MODEL_0403f71b64fe4d858f93f11784fde5c8",
      "value": false
     }
    },
    "1ab2a4f8f40e43e9b2687223dfbf5b4d": {
     "model_module": "@jupyter-widgets/base",
     "model_name": "LayoutModel",
     "model_module_version": "1.2.0",
     "state": {
      "_model_module": "@jupyter-widgets/base",
      "_model_module_version": "1.2.0",
      "_model_name": "LayoutModel",
      "_view_count": null,
      "_view_module": "@jupyter-widgets/base",
      "_view_module_version": "1.2.0",
      "_view_name": "LayoutView",
      "align_content": null,
      "align_items": null,
      "align_self": null,
      "border": null,
      "bottom": null,
      "display": null,
      "flex": null,
      "flex_flow": null,
      "grid_area": null,
      "grid_auto_columns": null,
      "grid_auto_flow": null,
      "grid_auto_rows": null,
      "grid_column": null,
      "grid_gap": null,
      "grid_row": null,
      "grid_template_areas": null,
      "grid_template_columns": null,
      "grid_template_rows": null,
      "height": null,
      "justify_content": null,
      "justify_items": null,
      "left": null,
      "margin": null,
      "max_height": null,
      "max_width": null,
      "min_height": null,
      "min_width": null,
      "object_fit": null,
      "object_position": null,
      "order": null,
      "overflow": null,
      "overflow_x": null,
      "overflow_y": null,
      "padding": null,
      "right": null,
      "top": null,
      "visibility": null,
      "width": null
     }
    },
    "0403f71b64fe4d858f93f11784fde5c8": {
     "model_module": "@jupyter-widgets/controls",
     "model_name": "DescriptionStyleModel",
     "model_module_version": "1.5.0",
     "state": {
      "_model_module": "@jupyter-widgets/controls",
      "_model_module_version": "1.5.0",
      "_model_name": "DescriptionStyleModel",
      "_view_count": null,
      "_view_module": "@jupyter-widgets/base",
      "_view_module_version": "1.2.0",
      "_view_name": "StyleView",
      "description_width": ""
     }
    },
    "e9d0d4d5902e4bf29217000417fea982": {
     "model_module": "@jupyter-widgets/controls",
     "model_name": "CheckboxModel",
     "model_module_version": "1.5.0",
     "state": {
      "_dom_classes": [],
      "_model_module": "@jupyter-widgets/controls",
      "_model_module_version": "1.5.0",
      "_model_name": "CheckboxModel",
      "_view_count": null,
      "_view_module": "@jupyter-widgets/controls",
      "_view_module_version": "1.5.0",
      "_view_name": "CheckboxView",
      "description": "inicio",
      "description_tooltip": null,
      "disabled": false,
      "indent": true,
      "layout": "IPY_MODEL_690f730f96f4400a8847876f8941cfa5",
      "style": "IPY_MODEL_0975cfd8afc248029211584c0e54029c",
      "value": false
     }
    },
    "690f730f96f4400a8847876f8941cfa5": {
     "model_module": "@jupyter-widgets/base",
     "model_name": "LayoutModel",
     "model_module_version": "1.2.0",
     "state": {
      "_model_module": "@jupyter-widgets/base",
      "_model_module_version": "1.2.0",
      "_model_name": "LayoutModel",
      "_view_count": null,
      "_view_module": "@jupyter-widgets/base",
      "_view_module_version": "1.2.0",
      "_view_name": "LayoutView",
      "align_content": null,
      "align_items": null,
      "align_self": null,
      "border": null,
      "bottom": null,
      "display": null,
      "flex": null,
      "flex_flow": null,
      "grid_area": null,
      "grid_auto_columns": null,
      "grid_auto_flow": null,
      "grid_auto_rows": null,
      "grid_column": null,
      "grid_gap": null,
      "grid_row": null,
      "grid_template_areas": null,
      "grid_template_columns": null,
      "grid_template_rows": null,
      "height": null,
      "justify_content": null,
      "justify_items": null,
      "left": null,
      "margin": null,
      "max_height": null,
      "max_width": null,
      "min_height": null,
      "min_width": null,
      "object_fit": null,
      "object_position": null,
      "order": null,
      "overflow": null,
      "overflow_x": null,
      "overflow_y": null,
      "padding": null,
      "right": null,
      "top": null,
      "visibility": null,
      "width": null
     }
    },
    "0975cfd8afc248029211584c0e54029c": {
     "model_module": "@jupyter-widgets/controls",
     "model_name": "DescriptionStyleModel",
     "model_module_version": "1.5.0",
     "state": {
      "_model_module": "@jupyter-widgets/controls",
      "_model_module_version": "1.5.0",
      "_model_name": "DescriptionStyleModel",
      "_view_count": null,
      "_view_module": "@jupyter-widgets/base",
      "_view_module_version": "1.2.0",
      "_view_name": "StyleView",
      "description_width": ""
     }
    },
    "e5e9458b5b2a43fcb53a2b3d046e7438": {
     "model_module": "@jupyter-widgets/controls",
     "model_name": "CheckboxModel",
     "model_module_version": "1.5.0",
     "state": {
      "_dom_classes": [],
      "_model_module": "@jupyter-widgets/controls",
      "_model_module_version": "1.5.0",
      "_model_name": "CheckboxModel",
      "_view_count": null,
      "_view_module": "@jupyter-widgets/controls",
      "_view_module_version": "1.5.0",
      "_view_name": "CheckboxView",
      "description": "fin",
      "description_tooltip": null,
      "disabled": false,
      "indent": true,
      "layout": "IPY_MODEL_c3b59ef315404b95aa798ffeb626f8de",
      "style": "IPY_MODEL_0a3af5f7a4924842af148a6a1e7097cd",
      "value": false
     }
    },
    "c3b59ef315404b95aa798ffeb626f8de": {
     "model_module": "@jupyter-widgets/base",
     "model_name": "LayoutModel",
     "model_module_version": "1.2.0",
     "state": {
      "_model_module": "@jupyter-widgets/base",
      "_model_module_version": "1.2.0",
      "_model_name": "LayoutModel",
      "_view_count": null,
      "_view_module": "@jupyter-widgets/base",
      "_view_module_version": "1.2.0",
      "_view_name": "LayoutView",
      "align_content": null,
      "align_items": null,
      "align_self": null,
      "border": null,
      "bottom": null,
      "display": null,
      "flex": null,
      "flex_flow": null,
      "grid_area": null,
      "grid_auto_columns": null,
      "grid_auto_flow": null,
      "grid_auto_rows": null,
      "grid_column": null,
      "grid_gap": null,
      "grid_row": null,
      "grid_template_areas": null,
      "grid_template_columns": null,
      "grid_template_rows": null,
      "height": null,
      "justify_content": null,
      "justify_items": null,
      "left": null,
      "margin": null,
      "max_height": null,
      "max_width": null,
      "min_height": null,
      "min_width": null,
      "object_fit": null,
      "object_position": null,
      "order": null,
      "overflow": null,
      "overflow_x": null,
      "overflow_y": null,
      "padding": null,
      "right": null,
      "top": null,
      "visibility": null,
      "width": null
     }
    },
    "0a3af5f7a4924842af148a6a1e7097cd": {
     "model_module": "@jupyter-widgets/controls",
     "model_name": "DescriptionStyleModel",
     "model_module_version": "1.5.0",
     "state": {
      "_model_module": "@jupyter-widgets/controls",
      "_model_module_version": "1.5.0",
      "_model_name": "DescriptionStyleModel",
      "_view_count": null,
      "_view_module": "@jupyter-widgets/base",
      "_view_module_version": "1.2.0",
      "_view_name": "StyleView",
      "description_width": ""
     }
    },
    "27404a0d4dea44fab715ac70a049a71a": {
     "model_module": "@jupyter-widgets/controls",
     "model_name": "CheckboxModel",
     "model_module_version": "1.5.0",
     "state": {
      "_dom_classes": [],
      "_model_module": "@jupyter-widgets/controls",
      "_model_module_version": "1.5.0",
      "_model_name": "CheckboxModel",
      "_view_count": null,
      "_view_module": "@jupyter-widgets/controls",
      "_view_module_version": "1.5.0",
      "_view_name": "CheckboxView",
      "description": "duracion_h",
      "description_tooltip": null,
      "disabled": false,
      "indent": true,
      "layout": "IPY_MODEL_7314cc556681423e908cac3a4a4f7e9e",
      "style": "IPY_MODEL_68c092345e5d4d54af33eadf4d72a658",
      "value": false
     }
    },
    "7314cc556681423e908cac3a4a4f7e9e": {
     "model_module": "@jupyter-widgets/base",
     "model_name": "LayoutModel",
     "model_module_version": "1.2.0",
     "state": {
      "_model_module": "@jupyter-widgets/base",
      "_model_module_version": "1.2.0",
      "_model_name": "LayoutModel",
      "_view_count": null,
      "_view_module": "@jupyter-widgets/base",
      "_view_module_version": "1.2.0",
      "_view_name": "LayoutView",
      "align_content": null,
      "align_items": null,
      "align_self": null,
      "border": null,
      "bottom": null,
      "display": null,
      "flex": null,
      "flex_flow": null,
      "grid_area": null,
      "grid_auto_columns": null,
      "grid_auto_flow": null,
      "grid_auto_rows": null,
      "grid_column": null,
      "grid_gap": null,
      "grid_row": null,
      "grid_template_areas": null,
      "grid_template_columns": null,
      "grid_template_rows": null,
      "height": null,
      "justify_content": null,
      "justify_items": null,
      "left": null,
      "margin": null,
      "max_height": null,
      "max_width": null,
      "min_height": null,
      "min_width": null,
      "object_fit": null,
      "object_position": null,
      "order": null,
      "overflow": null,
      "overflow_x": null,
      "overflow_y": null,
      "padding": null,
      "right": null,
      "top": null,
      "visibility": null,
      "width": null
     }
    },
    "68c092345e5d4d54af33eadf4d72a658": {
     "model_module": "@jupyter-widgets/controls",
     "model_name": "DescriptionStyleModel",
     "model_module_version": "1.5.0",
     "state": {
      "_model_module": "@jupyter-widgets/controls",
      "_model_module_version": "1.5.0",
      "_model_name": "DescriptionStyleModel",
      "_view_count": null,
      "_view_module": "@jupyter-widgets/base",
      "_view_module_version": "1.2.0",
      "_view_name": "StyleView",
      "description_width": ""
     }
    },
    "dc6a2a86c3e9403f95e5f4ba59a853d6": {
     "model_module": "@jupyter-widgets/controls",
     "model_name": "CheckboxModel",
     "model_module_version": "1.5.0",
     "state": {
      "_dom_classes": [],
      "_model_module": "@jupyter-widgets/controls",
      "_model_module_version": "1.5.0",
      "_model_name": "CheckboxModel",
      "_view_count": null,
      "_view_module": "@jupyter-widgets/controls",
      "_view_module_version": "1.5.0",
      "_view_name": "CheckboxView",
      "description": "tipo_duracion",
      "description_tooltip": null,
      "disabled": false,
      "indent": true,
      "layout": "IPY_MODEL_5edd4d849ccd476fb5bcada53441bf2c",
      "style": "IPY_MODEL_e2087b7c519149aa80e749442edbf654",
      "value": false
     }
    },
    "5edd4d849ccd476fb5bcada53441bf2c": {
     "model_module": "@jupyter-widgets/base",
     "model_name": "LayoutModel",
     "model_module_version": "1.2.0",
     "state": {
      "_model_module": "@jupyter-widgets/base",
      "_model_module_version": "1.2.0",
      "_model_name": "LayoutModel",
      "_view_count": null,
      "_view_module": "@jupyter-widgets/base",
      "_view_module_version": "1.2.0",
      "_view_name": "LayoutView",
      "align_content": null,
      "align_items": null,
      "align_self": null,
      "border": null,
      "bottom": null,
      "display": null,
      "flex": null,
      "flex_flow": null,
      "grid_area": null,
      "grid_auto_columns": null,
      "grid_auto_flow": null,
      "grid_auto_rows": null,
      "grid_column": null,
      "grid_gap": null,
      "grid_row": null,
      "grid_template_areas": null,
      "grid_template_columns": null,
      "grid_template_rows": null,
      "height": null,
      "justify_content": null,
      "justify_items": null,
      "left": null,
      "margin": null,
      "max_height": null,
      "max_width": null,
      "min_height": null,
      "min_width": null,
      "object_fit": null,
      "object_position": null,
      "order": null,
      "overflow": null,
      "overflow_x": null,
      "overflow_y": null,
      "padding": null,
      "right": null,
      "top": null,
      "visibility": null,
      "width": null
     }
    },
    "e2087b7c519149aa80e749442edbf654": {
     "model_module": "@jupyter-widgets/controls",
     "model_name": "DescriptionStyleModel",
     "model_module_version": "1.5.0",
     "state": {
      "_model_module": "@jupyter-widgets/controls",
      "_model_module_version": "1.5.0",
      "_model_name": "DescriptionStyleModel",
      "_view_count": null,
      "_view_module": "@jupyter-widgets/base",
      "_view_module_version": "1.2.0",
      "_view_name": "StyleView",
      "description_width": ""
     }
    },
    "b4b9e0c272ea4c56a6f11dd0b39b90dc": {
     "model_module": "@jupyter-widgets/controls",
     "model_name": "CheckboxModel",
     "model_module_version": "1.5.0",
     "state": {
      "_dom_classes": [],
      "_model_module": "@jupyter-widgets/controls",
      "_model_module_version": "1.5.0",
      "_model_name": "CheckboxModel",
      "_view_count": null,
      "_view_module": "@jupyter-widgets/controls",
      "_view_module_version": "1.5.0",
      "_view_name": "CheckboxView",
      "description": "causa",
      "description_tooltip": null,
      "disabled": false,
      "indent": true,
      "layout": "IPY_MODEL_b91f55d82ea646f4be75d52bad03487b",
      "style": "IPY_MODEL_d952d76085a7431ea3132f3eeba1021d",
      "value": false
     }
    },
    "b91f55d82ea646f4be75d52bad03487b": {
     "model_module": "@jupyter-widgets/base",
     "model_name": "LayoutModel",
     "model_module_version": "1.2.0",
     "state": {
      "_model_module": "@jupyter-widgets/base",
      "_model_module_version": "1.2.0",
      "_model_name": "LayoutModel",
      "_view_count": null,
      "_view_module": "@jupyter-widgets/base",
      "_view_module_version": "1.2.0",
      "_view_name": "LayoutView",
      "align_content": null,
      "align_items": null,
      "align_self": null,
      "border": null,
      "bottom": null,
      "display": null,
      "flex": null,
      "flex_flow": null,
      "grid_area": null,
      "grid_auto_columns": null,
      "grid_auto_flow": null,
      "grid_auto_rows": null,
      "grid_column": null,
      "grid_gap": null,
      "grid_row": null,
      "grid_template_areas": null,
      "grid_template_columns": null,
      "grid_template_rows": null,
      "height": null,
      "justify_content": null,
      "justify_items": null,
      "left": null,
      "margin": null,
      "max_height": null,
      "max_width": null,
      "min_height": null,
      "min_width": null,
      "object_fit": null,
      "object_position": null,
      "order": null,
      "overflow": null,
      "overflow_x": null,
      "overflow_y": null,
      "padding": null,
      "right": null,
      "top": null,
      "visibility": null,
      "width": null
     }
    },
    "d952d76085a7431ea3132f3eeba1021d": {
     "model_module": "@jupyter-widgets/controls",
     "model_name": "DescriptionStyleModel",
     "model_module_version": "1.5.0",
     "state": {
      "_model_module": "@jupyter-widgets/controls",
      "_model_module_version": "1.5.0",
      "_model_name": "DescriptionStyleModel",
      "_view_count": null,
      "_view_module": "@jupyter-widgets/base",
      "_view_module_version": "1.2.0",
      "_view_name": "StyleView",
      "description_width": ""
     }
    },
    "a7b40dc9fac94249b903a0dd0510ce7b": {
     "model_module": "@jupyter-widgets/controls",
     "model_name": "CheckboxModel",
     "model_module_version": "1.5.0",
     "state": {
      "_dom_classes": [],
      "_model_module": "@jupyter-widgets/controls",
      "_model_module_version": "1.5.0",
      "_model_name": "CheckboxModel",
      "_view_count": null,
      "_view_module": "@jupyter-widgets/controls",
      "_view_module_version": "1.5.0",
      "_view_name": "CheckboxView",
      "description": "tipo_causa",
      "description_tooltip": null,
      "disabled": false,
      "indent": true,
      "layout": "IPY_MODEL_9ee1c8e44ebf4ceab3ce18026b1be316",
      "style": "IPY_MODEL_0ada9d3ab4494ddeb34abce607376c8e",
      "value": false
     }
    },
    "9ee1c8e44ebf4ceab3ce18026b1be316": {
     "model_module": "@jupyter-widgets/base",
     "model_name": "LayoutModel",
     "model_module_version": "1.2.0",
     "state": {
      "_model_module": "@jupyter-widgets/base",
      "_model_module_version": "1.2.0",
      "_model_name": "LayoutModel",
      "_view_count": null,
      "_view_module": "@jupyter-widgets/base",
      "_view_module_version": "1.2.0",
      "_view_name": "LayoutView",
      "align_content": null,
      "align_items": null,
      "align_self": null,
      "border": null,
      "bottom": null,
      "display": null,
      "flex": null,
      "flex_flow": null,
      "grid_area": null,
      "grid_auto_columns": null,
      "grid_auto_flow": null,
      "grid_auto_rows": null,
      "grid_column": null,
      "grid_gap": null,
      "grid_row": null,
      "grid_template_areas": null,
      "grid_template_columns": null,
      "grid_template_rows": null,
      "height": null,
      "justify_content": null,
      "justify_items": null,
      "left": null,
      "margin": null,
      "max_height": null,
      "max_width": null,
      "min_height": null,
      "min_width": null,
      "object_fit": null,
      "object_position": null,
      "order": null,
      "overflow": null,
      "overflow_x": null,
      "overflow_y": null,
      "padding": null,
      "right": null,
      "top": null,
      "visibility": null,
      "width": null
     }
    },
    "0ada9d3ab4494ddeb34abce607376c8e": {
     "model_module": "@jupyter-widgets/controls",
     "model_name": "DescriptionStyleModel",
     "model_module_version": "1.5.0",
     "state": {
      "_model_module": "@jupyter-widgets/controls",
      "_model_module_version": "1.5.0",
      "_model_name": "DescriptionStyleModel",
      "_view_count": null,
      "_view_module": "@jupyter-widgets/base",
      "_view_module_version": "1.2.0",
      "_view_name": "StyleView",
      "description_width": ""
     }
    },
    "930dfe2834e54f928c04dacd3263ecd8": {
     "model_module": "@jupyter-widgets/controls",
     "model_name": "CheckboxModel",
     "model_module_version": "1.5.0",
     "state": {
      "_dom_classes": [],
      "_model_module": "@jupyter-widgets/controls",
      "_model_module_version": "1.5.0",
      "_model_name": "CheckboxModel",
      "_view_count": null,
      "_view_module": "@jupyter-widgets/controls",
      "_view_module_version": "1.5.0",
      "_view_name": "CheckboxView",
      "description": "CNT_TRAFOS_AFEC",
      "description_tooltip": null,
      "disabled": false,
      "indent": true,
      "layout": "IPY_MODEL_c0b5a558b1ac42cd890338500a592d80",
      "style": "IPY_MODEL_c730df119fe947f982868e27acf70681",
      "value": false
     }
    },
    "c0b5a558b1ac42cd890338500a592d80": {
     "model_module": "@jupyter-widgets/base",
     "model_name": "LayoutModel",
     "model_module_version": "1.2.0",
     "state": {
      "_model_module": "@jupyter-widgets/base",
      "_model_module_version": "1.2.0",
      "_model_name": "LayoutModel",
      "_view_count": null,
      "_view_module": "@jupyter-widgets/base",
      "_view_module_version": "1.2.0",
      "_view_name": "LayoutView",
      "align_content": null,
      "align_items": null,
      "align_self": null,
      "border": null,
      "bottom": null,
      "display": null,
      "flex": null,
      "flex_flow": null,
      "grid_area": null,
      "grid_auto_columns": null,
      "grid_auto_flow": null,
      "grid_auto_rows": null,
      "grid_column": null,
      "grid_gap": null,
      "grid_row": null,
      "grid_template_areas": null,
      "grid_template_columns": null,
      "grid_template_rows": null,
      "height": null,
      "justify_content": null,
      "justify_items": null,
      "left": null,
      "margin": null,
      "max_height": null,
      "max_width": null,
      "min_height": null,
      "min_width": null,
      "object_fit": null,
      "object_position": null,
      "order": null,
      "overflow": null,
      "overflow_x": null,
      "overflow_y": null,
      "padding": null,
      "right": null,
      "top": null,
      "visibility": null,
      "width": null
     }
    },
    "c730df119fe947f982868e27acf70681": {
     "model_module": "@jupyter-widgets/controls",
     "model_name": "DescriptionStyleModel",
     "model_module_version": "1.5.0",
     "state": {
      "_model_module": "@jupyter-widgets/controls",
      "_model_module_version": "1.5.0",
      "_model_name": "DescriptionStyleModel",
      "_view_count": null,
      "_view_module": "@jupyter-widgets/base",
      "_view_module_version": "1.2.0",
      "_view_name": "StyleView",
      "description_width": ""
     }
    },
    "eac06aeb605d4f7bb3d2e25c003829c0": {
     "model_module": "@jupyter-widgets/controls",
     "model_name": "CheckboxModel",
     "model_module_version": "1.5.0",
     "state": {
      "_dom_classes": [],
      "_model_module": "@jupyter-widgets/controls",
      "_model_module_version": "1.5.0",
      "_model_name": "CheckboxModel",
      "_view_count": null,
      "_view_module": "@jupyter-widgets/controls",
      "_view_module_version": "1.5.0",
      "_view_name": "CheckboxView",
      "description": "cnt_usus",
      "description_tooltip": null,
      "disabled": false,
      "indent": true,
      "layout": "IPY_MODEL_5c0d4dd2e15e411899e0b59c84e9286d",
      "style": "IPY_MODEL_47fa8eb14339443b8a84bb78697cb2a7",
      "value": false
     }
    },
    "5c0d4dd2e15e411899e0b59c84e9286d": {
     "model_module": "@jupyter-widgets/base",
     "model_name": "LayoutModel",
     "model_module_version": "1.2.0",
     "state": {
      "_model_module": "@jupyter-widgets/base",
      "_model_module_version": "1.2.0",
      "_model_name": "LayoutModel",
      "_view_count": null,
      "_view_module": "@jupyter-widgets/base",
      "_view_module_version": "1.2.0",
      "_view_name": "LayoutView",
      "align_content": null,
      "align_items": null,
      "align_self": null,
      "border": null,
      "bottom": null,
      "display": null,
      "flex": null,
      "flex_flow": null,
      "grid_area": null,
      "grid_auto_columns": null,
      "grid_auto_flow": null,
      "grid_auto_rows": null,
      "grid_column": null,
      "grid_gap": null,
      "grid_row": null,
      "grid_template_areas": null,
      "grid_template_columns": null,
      "grid_template_rows": null,
      "height": null,
      "justify_content": null,
      "justify_items": null,
      "left": null,
      "margin": null,
      "max_height": null,
      "max_width": null,
      "min_height": null,
      "min_width": null,
      "object_fit": null,
      "object_position": null,
      "order": null,
      "overflow": null,
      "overflow_x": null,
      "overflow_y": null,
      "padding": null,
      "right": null,
      "top": null,
      "visibility": null,
      "width": null
     }
    },
    "47fa8eb14339443b8a84bb78697cb2a7": {
     "model_module": "@jupyter-widgets/controls",
     "model_name": "DescriptionStyleModel",
     "model_module_version": "1.5.0",
     "state": {
      "_model_module": "@jupyter-widgets/controls",
      "_model_module_version": "1.5.0",
      "_model_name": "DescriptionStyleModel",
      "_view_count": null,
      "_view_module": "@jupyter-widgets/base",
      "_view_module_version": "1.2.0",
      "_view_name": "StyleView",
      "description_width": ""
     }
    },
    "2749c1f2035b4268a97dc2c6e9924b4f": {
     "model_module": "@jupyter-widgets/controls",
     "model_name": "CheckboxModel",
     "model_module_version": "1.5.0",
     "state": {
      "_dom_classes": [],
      "_model_module": "@jupyter-widgets/controls",
      "_model_module_version": "1.5.0",
      "_model_name": "CheckboxModel",
      "_view_count": null,
      "_view_module": "@jupyter-widgets/controls",
      "_view_module_version": "1.5.0",
      "_view_name": "CheckboxView",
      "description": "SAIDI",
      "description_tooltip": null,
      "disabled": false,
      "indent": true,
      "layout": "IPY_MODEL_607b4e5c992142be9cb31cf3bb00434e",
      "style": "IPY_MODEL_e979d44e39c444339693b861333443d1",
      "value": false
     }
    },
    "607b4e5c992142be9cb31cf3bb00434e": {
     "model_module": "@jupyter-widgets/base",
     "model_name": "LayoutModel",
     "model_module_version": "1.2.0",
     "state": {
      "_model_module": "@jupyter-widgets/base",
      "_model_module_version": "1.2.0",
      "_model_name": "LayoutModel",
      "_view_count": null,
      "_view_module": "@jupyter-widgets/base",
      "_view_module_version": "1.2.0",
      "_view_name": "LayoutView",
      "align_content": null,
      "align_items": null,
      "align_self": null,
      "border": null,
      "bottom": null,
      "display": null,
      "flex": null,
      "flex_flow": null,
      "grid_area": null,
      "grid_auto_columns": null,
      "grid_auto_flow": null,
      "grid_auto_rows": null,
      "grid_column": null,
      "grid_gap": null,
      "grid_row": null,
      "grid_template_areas": null,
      "grid_template_columns": null,
      "grid_template_rows": null,
      "height": null,
      "justify_content": null,
      "justify_items": null,
      "left": null,
      "margin": null,
      "max_height": null,
      "max_width": null,
      "min_height": null,
      "min_width": null,
      "object_fit": null,
      "object_position": null,
      "order": null,
      "overflow": null,
      "overflow_x": null,
      "overflow_y": null,
      "padding": null,
      "right": null,
      "top": null,
      "visibility": null,
      "width": null
     }
    },
    "e979d44e39c444339693b861333443d1": {
     "model_module": "@jupyter-widgets/controls",
     "model_name": "DescriptionStyleModel",
     "model_module_version": "1.5.0",
     "state": {
      "_model_module": "@jupyter-widgets/controls",
      "_model_module_version": "1.5.0",
      "_model_name": "DescriptionStyleModel",
      "_view_count": null,
      "_view_module": "@jupyter-widgets/base",
      "_view_module_version": "1.2.0",
      "_view_name": "StyleView",
      "description_width": ""
     }
    },
    "25c016c984074e2fb12cafd802778a29": {
     "model_module": "@jupyter-widgets/controls",
     "model_name": "CheckboxModel",
     "model_module_version": "1.5.0",
     "state": {
      "_dom_classes": [],
      "_model_module": "@jupyter-widgets/controls",
      "_model_module_version": "1.5.0",
      "_model_name": "CheckboxModel",
      "_view_count": null,
      "_view_module": "@jupyter-widgets/controls",
      "_view_module_version": "1.5.0",
      "_view_name": "CheckboxView",
      "description": "SAIFI",
      "description_tooltip": null,
      "disabled": false,
      "indent": true,
      "layout": "IPY_MODEL_18fb3a9bab3e4cdc9aa6fe6b4a06967b",
      "style": "IPY_MODEL_1a9bb9ef9f774e3ba5fb8da04a886409",
      "value": false
     }
    },
    "18fb3a9bab3e4cdc9aa6fe6b4a06967b": {
     "model_module": "@jupyter-widgets/base",
     "model_name": "LayoutModel",
     "model_module_version": "1.2.0",
     "state": {
      "_model_module": "@jupyter-widgets/base",
      "_model_module_version": "1.2.0",
      "_model_name": "LayoutModel",
      "_view_count": null,
      "_view_module": "@jupyter-widgets/base",
      "_view_module_version": "1.2.0",
      "_view_name": "LayoutView",
      "align_content": null,
      "align_items": null,
      "align_self": null,
      "border": null,
      "bottom": null,
      "display": null,
      "flex": null,
      "flex_flow": null,
      "grid_area": null,
      "grid_auto_columns": null,
      "grid_auto_flow": null,
      "grid_auto_rows": null,
      "grid_column": null,
      "grid_gap": null,
      "grid_row": null,
      "grid_template_areas": null,
      "grid_template_columns": null,
      "grid_template_rows": null,
      "height": null,
      "justify_content": null,
      "justify_items": null,
      "left": null,
      "margin": null,
      "max_height": null,
      "max_width": null,
      "min_height": null,
      "min_width": null,
      "object_fit": null,
      "object_position": null,
      "order": null,
      "overflow": null,
      "overflow_x": null,
      "overflow_y": null,
      "padding": null,
      "right": null,
      "top": null,
      "visibility": null,
      "width": null
     }
    },
    "1a9bb9ef9f774e3ba5fb8da04a886409": {
     "model_module": "@jupyter-widgets/controls",
     "model_name": "DescriptionStyleModel",
     "model_module_version": "1.5.0",
     "state": {
      "_model_module": "@jupyter-widgets/controls",
      "_model_module_version": "1.5.0",
      "_model_name": "DescriptionStyleModel",
      "_view_count": null,
      "_view_module": "@jupyter-widgets/base",
      "_view_module_version": "1.2.0",
      "_view_name": "StyleView",
      "description_width": ""
     }
    },
    "c8985b3b81df4ab781c6e1d607a17934": {
     "model_module": "@jupyter-widgets/controls",
     "model_name": "ButtonModel",
     "model_module_version": "1.5.0",
     "state": {
      "_dom_classes": [],
      "_model_module": "@jupyter-widgets/controls",
      "_model_module_version": "1.5.0",
      "_model_name": "ButtonModel",
      "_view_count": null,
      "_view_module": "@jupyter-widgets/controls",
      "_view_module_version": "1.5.0",
      "_view_name": "ButtonView",
      "button_style": "",
      "description": "Verificar",
      "disabled": false,
      "icon": "",
      "layout": "IPY_MODEL_92422777055e47bb9ef98922cb4c1137",
      "style": "IPY_MODEL_ec6df1059b084acda82b9d4f5496383e",
      "tooltip": ""
     }
    },
    "92422777055e47bb9ef98922cb4c1137": {
     "model_module": "@jupyter-widgets/base",
     "model_name": "LayoutModel",
     "model_module_version": "1.2.0",
     "state": {
      "_model_module": "@jupyter-widgets/base",
      "_model_module_version": "1.2.0",
      "_model_name": "LayoutModel",
      "_view_count": null,
      "_view_module": "@jupyter-widgets/base",
      "_view_module_version": "1.2.0",
      "_view_name": "LayoutView",
      "align_content": null,
      "align_items": null,
      "align_self": null,
      "border": null,
      "bottom": null,
      "display": null,
      "flex": null,
      "flex_flow": null,
      "grid_area": null,
      "grid_auto_columns": null,
      "grid_auto_flow": null,
      "grid_auto_rows": null,
      "grid_column": null,
      "grid_gap": null,
      "grid_row": null,
      "grid_template_areas": null,
      "grid_template_columns": null,
      "grid_template_rows": null,
      "height": null,
      "justify_content": null,
      "justify_items": null,
      "left": null,
      "margin": null,
      "max_height": null,
      "max_width": null,
      "min_height": null,
      "min_width": null,
      "object_fit": null,
      "object_position": null,
      "order": null,
      "overflow": null,
      "overflow_x": null,
      "overflow_y": null,
      "padding": null,
      "right": null,
      "top": null,
      "visibility": null,
      "width": null
     }
    },
    "ec6df1059b084acda82b9d4f5496383e": {
     "model_module": "@jupyter-widgets/controls",
     "model_name": "ButtonStyleModel",
     "model_module_version": "1.5.0",
     "state": {
      "_model_module": "@jupyter-widgets/controls",
      "_model_module_version": "1.5.0",
      "_model_name": "ButtonStyleModel",
      "_view_count": null,
      "_view_module": "@jupyter-widgets/base",
      "_view_module_version": "1.2.0",
      "_view_name": "StyleView",
      "button_color": null,
      "font_weight": ""
     }
    },
    "a35b6361068143919f4d8d9aa9e44d89": {
     "model_module": "@jupyter-widgets/output",
     "model_name": "OutputModel",
     "model_module_version": "1.0.0",
     "state": {
      "_dom_classes": [],
      "_model_module": "@jupyter-widgets/output",
      "_model_module_version": "1.0.0",
      "_model_name": "OutputModel",
      "_view_count": null,
      "_view_module": "@jupyter-widgets/output",
      "_view_module_version": "1.0.0",
      "_view_name": "OutputView",
      "layout": "IPY_MODEL_4ec20bdc1dd94273837a336836df248c",
      "msg_id": "",
      "outputs": []
     }
    },
    "4ec20bdc1dd94273837a336836df248c": {
     "model_module": "@jupyter-widgets/base",
     "model_name": "LayoutModel",
     "model_module_version": "1.2.0",
     "state": {
      "_model_module": "@jupyter-widgets/base",
      "_model_module_version": "1.2.0",
      "_model_name": "LayoutModel",
      "_view_count": null,
      "_view_module": "@jupyter-widgets/base",
      "_view_module_version": "1.2.0",
      "_view_name": "LayoutView",
      "align_content": null,
      "align_items": null,
      "align_self": null,
      "border": null,
      "bottom": null,
      "display": null,
      "flex": null,
      "flex_flow": null,
      "grid_area": null,
      "grid_auto_columns": null,
      "grid_auto_flow": null,
      "grid_auto_rows": null,
      "grid_column": null,
      "grid_gap": null,
      "grid_row": null,
      "grid_template_areas": null,
      "grid_template_columns": null,
      "grid_template_rows": null,
      "height": null,
      "justify_content": null,
      "justify_items": null,
      "left": null,
      "margin": null,
      "max_height": null,
      "max_width": null,
      "min_height": null,
      "min_width": null,
      "object_fit": null,
      "object_position": null,
      "order": null,
      "overflow": null,
      "overflow_x": null,
      "overflow_y": null,
      "padding": null,
      "right": null,
      "top": null,
      "visibility": null,
      "width": null
     }
    },
    "7f3903b44e7e400382c5a21e82af52e7": {
     "model_module": "@jupyter-widgets/controls",
     "model_name": "HTMLModel",
     "model_module_version": "1.5.0",
     "state": {
      "_dom_classes": [],
      "_model_module": "@jupyter-widgets/controls",
      "_model_module_version": "1.5.0",
      "_model_name": "HTMLModel",
      "_view_count": null,
      "_view_module": "@jupyter-widgets/controls",
      "_view_module_version": "1.5.0",
      "_view_name": "HTMLView",
      "description": "",
      "description_tooltip": null,
      "layout": "IPY_MODEL_b56f9ee6eb24419d952174592d3e54ea",
      "placeholder": "​",
      "style": "IPY_MODEL_55efc85c05d84de290c8e59575c183cf",
      "value": "<b>¿Cuál es la cantidad promedio de usuarios afectados? (Incluir los primeros dos decimales)</b>"
     }
    },
    "b56f9ee6eb24419d952174592d3e54ea": {
     "model_module": "@jupyter-widgets/base",
     "model_name": "LayoutModel",
     "model_module_version": "1.2.0",
     "state": {
      "_model_module": "@jupyter-widgets/base",
      "_model_module_version": "1.2.0",
      "_model_name": "LayoutModel",
      "_view_count": null,
      "_view_module": "@jupyter-widgets/base",
      "_view_module_version": "1.2.0",
      "_view_name": "LayoutView",
      "align_content": null,
      "align_items": null,
      "align_self": null,
      "border": null,
      "bottom": null,
      "display": null,
      "flex": null,
      "flex_flow": null,
      "grid_area": null,
      "grid_auto_columns": null,
      "grid_auto_flow": null,
      "grid_auto_rows": null,
      "grid_column": null,
      "grid_gap": null,
      "grid_row": null,
      "grid_template_areas": null,
      "grid_template_columns": null,
      "grid_template_rows": null,
      "height": null,
      "justify_content": null,
      "justify_items": null,
      "left": null,
      "margin": null,
      "max_height": null,
      "max_width": null,
      "min_height": null,
      "min_width": null,
      "object_fit": null,
      "object_position": null,
      "order": null,
      "overflow": null,
      "overflow_x": null,
      "overflow_y": null,
      "padding": null,
      "right": null,
      "top": null,
      "visibility": null,
      "width": null
     }
    },
    "55efc85c05d84de290c8e59575c183cf": {
     "model_module": "@jupyter-widgets/controls",
     "model_name": "DescriptionStyleModel",
     "model_module_version": "1.5.0",
     "state": {
      "_model_module": "@jupyter-widgets/controls",
      "_model_module_version": "1.5.0",
      "_model_name": "DescriptionStyleModel",
      "_view_count": null,
      "_view_module": "@jupyter-widgets/base",
      "_view_module_version": "1.2.0",
      "_view_name": "StyleView",
      "description_width": ""
     }
    },
    "3d96c619b74b4aedbdf6ca97b138cc10": {
     "model_module": "@jupyter-widgets/controls",
     "model_name": "FloatTextModel",
     "model_module_version": "1.5.0",
     "state": {
      "_dom_classes": [],
      "_model_module": "@jupyter-widgets/controls",
      "_model_module_version": "1.5.0",
      "_model_name": "FloatTextModel",
      "_view_count": null,
      "_view_module": "@jupyter-widgets/controls",
      "_view_module_version": "1.5.0",
      "_view_name": "FloatTextView",
      "continuous_update": false,
      "description": "Respuesta:",
      "description_tooltip": null,
      "disabled": false,
      "layout": "IPY_MODEL_524a84532dd54218aed13800d7f05068",
      "step": null,
      "style": "IPY_MODEL_ea3fd265adf1467caa2ebdb1ec6e9881",
      "value": 0
     }
    },
    "524a84532dd54218aed13800d7f05068": {
     "model_module": "@jupyter-widgets/base",
     "model_name": "LayoutModel",
     "model_module_version": "1.2.0",
     "state": {
      "_model_module": "@jupyter-widgets/base",
      "_model_module_version": "1.2.0",
      "_model_name": "LayoutModel",
      "_view_count": null,
      "_view_module": "@jupyter-widgets/base",
      "_view_module_version": "1.2.0",
      "_view_name": "LayoutView",
      "align_content": null,
      "align_items": null,
      "align_self": null,
      "border": null,
      "bottom": null,
      "display": null,
      "flex": null,
      "flex_flow": null,
      "grid_area": null,
      "grid_auto_columns": null,
      "grid_auto_flow": null,
      "grid_auto_rows": null,
      "grid_column": null,
      "grid_gap": null,
      "grid_row": null,
      "grid_template_areas": null,
      "grid_template_columns": null,
      "grid_template_rows": null,
      "height": null,
      "justify_content": null,
      "justify_items": null,
      "left": null,
      "margin": null,
      "max_height": null,
      "max_width": null,
      "min_height": null,
      "min_width": null,
      "object_fit": null,
      "object_position": null,
      "order": null,
      "overflow": null,
      "overflow_x": null,
      "overflow_y": null,
      "padding": null,
      "right": null,
      "top": null,
      "visibility": null,
      "width": null
     }
    },
    "ea3fd265adf1467caa2ebdb1ec6e9881": {
     "model_module": "@jupyter-widgets/controls",
     "model_name": "DescriptionStyleModel",
     "model_module_version": "1.5.0",
     "state": {
      "_model_module": "@jupyter-widgets/controls",
      "_model_module_version": "1.5.0",
      "_model_name": "DescriptionStyleModel",
      "_view_count": null,
      "_view_module": "@jupyter-widgets/base",
      "_view_module_version": "1.2.0",
      "_view_name": "StyleView",
      "description_width": ""
     }
    },
    "06c2137f8a794c95b2034535068c3d96": {
     "model_module": "@jupyter-widgets/controls",
     "model_name": "ButtonModel",
     "model_module_version": "1.5.0",
     "state": {
      "_dom_classes": [],
      "_model_module": "@jupyter-widgets/controls",
      "_model_module_version": "1.5.0",
      "_model_name": "ButtonModel",
      "_view_count": null,
      "_view_module": "@jupyter-widgets/controls",
      "_view_module_version": "1.5.0",
      "_view_name": "ButtonView",
      "button_style": "",
      "description": "Verificar",
      "disabled": false,
      "icon": "",
      "layout": "IPY_MODEL_2890bc64368f4194b1846158982b1f8e",
      "style": "IPY_MODEL_75272d20f3e3433c8d130e89315ed3e1",
      "tooltip": ""
     }
    },
    "2890bc64368f4194b1846158982b1f8e": {
     "model_module": "@jupyter-widgets/base",
     "model_name": "LayoutModel",
     "model_module_version": "1.2.0",
     "state": {
      "_model_module": "@jupyter-widgets/base",
      "_model_module_version": "1.2.0",
      "_model_name": "LayoutModel",
      "_view_count": null,
      "_view_module": "@jupyter-widgets/base",
      "_view_module_version": "1.2.0",
      "_view_name": "LayoutView",
      "align_content": null,
      "align_items": null,
      "align_self": null,
      "border": null,
      "bottom": null,
      "display": null,
      "flex": null,
      "flex_flow": null,
      "grid_area": null,
      "grid_auto_columns": null,
      "grid_auto_flow": null,
      "grid_auto_rows": null,
      "grid_column": null,
      "grid_gap": null,
      "grid_row": null,
      "grid_template_areas": null,
      "grid_template_columns": null,
      "grid_template_rows": null,
      "height": null,
      "justify_content": null,
      "justify_items": null,
      "left": null,
      "margin": null,
      "max_height": null,
      "max_width": null,
      "min_height": null,
      "min_width": null,
      "object_fit": null,
      "object_position": null,
      "order": null,
      "overflow": null,
      "overflow_x": null,
      "overflow_y": null,
      "padding": null,
      "right": null,
      "top": null,
      "visibility": null,
      "width": null
     }
    },
    "75272d20f3e3433c8d130e89315ed3e1": {
     "model_module": "@jupyter-widgets/controls",
     "model_name": "ButtonStyleModel",
     "model_module_version": "1.5.0",
     "state": {
      "_model_module": "@jupyter-widgets/controls",
      "_model_module_version": "1.5.0",
      "_model_name": "ButtonStyleModel",
      "_view_count": null,
      "_view_module": "@jupyter-widgets/base",
      "_view_module_version": "1.2.0",
      "_view_name": "StyleView",
      "button_color": null,
      "font_weight": ""
     }
    },
    "ea16232894674761bb5b35dce59a8463": {
     "model_module": "@jupyter-widgets/output",
     "model_name": "OutputModel",
     "model_module_version": "1.0.0",
     "state": {
      "_dom_classes": [],
      "_model_module": "@jupyter-widgets/output",
      "_model_module_version": "1.0.0",
      "_model_name": "OutputModel",
      "_view_count": null,
      "_view_module": "@jupyter-widgets/output",
      "_view_module_version": "1.0.0",
      "_view_name": "OutputView",
      "layout": "IPY_MODEL_a472aa8307d94d0499cff3ce525b2762",
      "msg_id": "",
      "outputs": []
     }
    },
    "a472aa8307d94d0499cff3ce525b2762": {
     "model_module": "@jupyter-widgets/base",
     "model_name": "LayoutModel",
     "model_module_version": "1.2.0",
     "state": {
      "_model_module": "@jupyter-widgets/base",
      "_model_module_version": "1.2.0",
      "_model_name": "LayoutModel",
      "_view_count": null,
      "_view_module": "@jupyter-widgets/base",
      "_view_module_version": "1.2.0",
      "_view_name": "LayoutView",
      "align_content": null,
      "align_items": null,
      "align_self": null,
      "border": null,
      "bottom": null,
      "display": null,
      "flex": null,
      "flex_flow": null,
      "grid_area": null,
      "grid_auto_columns": null,
      "grid_auto_flow": null,
      "grid_auto_rows": null,
      "grid_column": null,
      "grid_gap": null,
      "grid_row": null,
      "grid_template_areas": null,
      "grid_template_columns": null,
      "grid_template_rows": null,
      "height": null,
      "justify_content": null,
      "justify_items": null,
      "left": null,
      "margin": null,
      "max_height": null,
      "max_width": null,
      "min_height": null,
      "min_width": null,
      "object_fit": null,
      "object_position": null,
      "order": null,
      "overflow": null,
      "overflow_x": null,
      "overflow_y": null,
      "padding": null,
      "right": null,
      "top": null,
      "visibility": null,
      "width": null
     }
    },
    "03ea9b9e1800427da44176bae62c7976": {
     "model_module": "@jupyter-widgets/controls",
     "model_name": "HTMLModel",
     "model_module_version": "1.5.0",
     "state": {
      "_dom_classes": [],
      "_model_module": "@jupyter-widgets/controls",
      "_model_module_version": "1.5.0",
      "_model_name": "HTMLModel",
      "_view_count": null,
      "_view_module": "@jupyter-widgets/controls",
      "_view_module_version": "1.5.0",
      "_view_name": "HTMLView",
      "description": "",
      "description_tooltip": null,
      "layout": "IPY_MODEL_b013af47b59d4eb89db380f82c4a1022",
      "placeholder": "​",
      "style": "IPY_MODEL_64529dfe9bde4e6a82226ae2369e3f76",
      "value": "<b>¿Cuál es la máxima duración registrada de una interrupción? (Incluir los primeros dos decimales)</b>"
     }
    },
    "b013af47b59d4eb89db380f82c4a1022": {
     "model_module": "@jupyter-widgets/base",
     "model_name": "LayoutModel",
     "model_module_version": "1.2.0",
     "state": {
      "_model_module": "@jupyter-widgets/base",
      "_model_module_version": "1.2.0",
      "_model_name": "LayoutModel",
      "_view_count": null,
      "_view_module": "@jupyter-widgets/base",
      "_view_module_version": "1.2.0",
      "_view_name": "LayoutView",
      "align_content": null,
      "align_items": null,
      "align_self": null,
      "border": null,
      "bottom": null,
      "display": null,
      "flex": null,
      "flex_flow": null,
      "grid_area": null,
      "grid_auto_columns": null,
      "grid_auto_flow": null,
      "grid_auto_rows": null,
      "grid_column": null,
      "grid_gap": null,
      "grid_row": null,
      "grid_template_areas": null,
      "grid_template_columns": null,
      "grid_template_rows": null,
      "height": null,
      "justify_content": null,
      "justify_items": null,
      "left": null,
      "margin": null,
      "max_height": null,
      "max_width": null,
      "min_height": null,
      "min_width": null,
      "object_fit": null,
      "object_position": null,
      "order": null,
      "overflow": null,
      "overflow_x": null,
      "overflow_y": null,
      "padding": null,
      "right": null,
      "top": null,
      "visibility": null,
      "width": null
     }
    },
    "64529dfe9bde4e6a82226ae2369e3f76": {
     "model_module": "@jupyter-widgets/controls",
     "model_name": "DescriptionStyleModel",
     "model_module_version": "1.5.0",
     "state": {
      "_model_module": "@jupyter-widgets/controls",
      "_model_module_version": "1.5.0",
      "_model_name": "DescriptionStyleModel",
      "_view_count": null,
      "_view_module": "@jupyter-widgets/base",
      "_view_module_version": "1.2.0",
      "_view_name": "StyleView",
      "description_width": ""
     }
    },
    "422029ccbf0f467ebdcc5c885beb8d23": {
     "model_module": "@jupyter-widgets/controls",
     "model_name": "FloatTextModel",
     "model_module_version": "1.5.0",
     "state": {
      "_dom_classes": [],
      "_model_module": "@jupyter-widgets/controls",
      "_model_module_version": "1.5.0",
      "_model_name": "FloatTextModel",
      "_view_count": null,
      "_view_module": "@jupyter-widgets/controls",
      "_view_module_version": "1.5.0",
      "_view_name": "FloatTextView",
      "continuous_update": false,
      "description": "Respuesta:",
      "description_tooltip": null,
      "disabled": false,
      "layout": "IPY_MODEL_2b250194fc65458eab0ebde50b71232a",
      "step": null,
      "style": "IPY_MODEL_d412c6872d904c6eb9edcade45d3de63",
      "value": 0
     }
    },
    "2b250194fc65458eab0ebde50b71232a": {
     "model_module": "@jupyter-widgets/base",
     "model_name": "LayoutModel",
     "model_module_version": "1.2.0",
     "state": {
      "_model_module": "@jupyter-widgets/base",
      "_model_module_version": "1.2.0",
      "_model_name": "LayoutModel",
      "_view_count": null,
      "_view_module": "@jupyter-widgets/base",
      "_view_module_version": "1.2.0",
      "_view_name": "LayoutView",
      "align_content": null,
      "align_items": null,
      "align_self": null,
      "border": null,
      "bottom": null,
      "display": null,
      "flex": null,
      "flex_flow": null,
      "grid_area": null,
      "grid_auto_columns": null,
      "grid_auto_flow": null,
      "grid_auto_rows": null,
      "grid_column": null,
      "grid_gap": null,
      "grid_row": null,
      "grid_template_areas": null,
      "grid_template_columns": null,
      "grid_template_rows": null,
      "height": null,
      "justify_content": null,
      "justify_items": null,
      "left": null,
      "margin": null,
      "max_height": null,
      "max_width": null,
      "min_height": null,
      "min_width": null,
      "object_fit": null,
      "object_position": null,
      "order": null,
      "overflow": null,
      "overflow_x": null,
      "overflow_y": null,
      "padding": null,
      "right": null,
      "top": null,
      "visibility": null,
      "width": null
     }
    },
    "d412c6872d904c6eb9edcade45d3de63": {
     "model_module": "@jupyter-widgets/controls",
     "model_name": "DescriptionStyleModel",
     "model_module_version": "1.5.0",
     "state": {
      "_model_module": "@jupyter-widgets/controls",
      "_model_module_version": "1.5.0",
      "_model_name": "DescriptionStyleModel",
      "_view_count": null,
      "_view_module": "@jupyter-widgets/base",
      "_view_module_version": "1.2.0",
      "_view_name": "StyleView",
      "description_width": ""
     }
    },
    "700ba6528cc340bf8bc2f72b6005dc98": {
     "model_module": "@jupyter-widgets/controls",
     "model_name": "ButtonModel",
     "model_module_version": "1.5.0",
     "state": {
      "_dom_classes": [],
      "_model_module": "@jupyter-widgets/controls",
      "_model_module_version": "1.5.0",
      "_model_name": "ButtonModel",
      "_view_count": null,
      "_view_module": "@jupyter-widgets/controls",
      "_view_module_version": "1.5.0",
      "_view_name": "ButtonView",
      "button_style": "",
      "description": "Verificar",
      "disabled": false,
      "icon": "",
      "layout": "IPY_MODEL_c6df6c6efecc426ba7fb06ea2b2e29d1",
      "style": "IPY_MODEL_5e5bd0a4b24c48dc8e92a1741cc0852d",
      "tooltip": ""
     }
    },
    "c6df6c6efecc426ba7fb06ea2b2e29d1": {
     "model_module": "@jupyter-widgets/base",
     "model_name": "LayoutModel",
     "model_module_version": "1.2.0",
     "state": {
      "_model_module": "@jupyter-widgets/base",
      "_model_module_version": "1.2.0",
      "_model_name": "LayoutModel",
      "_view_count": null,
      "_view_module": "@jupyter-widgets/base",
      "_view_module_version": "1.2.0",
      "_view_name": "LayoutView",
      "align_content": null,
      "align_items": null,
      "align_self": null,
      "border": null,
      "bottom": null,
      "display": null,
      "flex": null,
      "flex_flow": null,
      "grid_area": null,
      "grid_auto_columns": null,
      "grid_auto_flow": null,
      "grid_auto_rows": null,
      "grid_column": null,
      "grid_gap": null,
      "grid_row": null,
      "grid_template_areas": null,
      "grid_template_columns": null,
      "grid_template_rows": null,
      "height": null,
      "justify_content": null,
      "justify_items": null,
      "left": null,
      "margin": null,
      "max_height": null,
      "max_width": null,
      "min_height": null,
      "min_width": null,
      "object_fit": null,
      "object_position": null,
      "order": null,
      "overflow": null,
      "overflow_x": null,
      "overflow_y": null,
      "padding": null,
      "right": null,
      "top": null,
      "visibility": null,
      "width": null
     }
    },
    "5e5bd0a4b24c48dc8e92a1741cc0852d": {
     "model_module": "@jupyter-widgets/controls",
     "model_name": "ButtonStyleModel",
     "model_module_version": "1.5.0",
     "state": {
      "_model_module": "@jupyter-widgets/controls",
      "_model_module_version": "1.5.0",
      "_model_name": "ButtonStyleModel",
      "_view_count": null,
      "_view_module": "@jupyter-widgets/base",
      "_view_module_version": "1.2.0",
      "_view_name": "StyleView",
      "button_color": null,
      "font_weight": ""
     }
    },
    "14bfdc76c61247f5ab6828da623c923d": {
     "model_module": "@jupyter-widgets/output",
     "model_name": "OutputModel",
     "model_module_version": "1.0.0",
     "state": {
      "_dom_classes": [],
      "_model_module": "@jupyter-widgets/output",
      "_model_module_version": "1.0.0",
      "_model_name": "OutputModel",
      "_view_count": null,
      "_view_module": "@jupyter-widgets/output",
      "_view_module_version": "1.0.0",
      "_view_name": "OutputView",
      "layout": "IPY_MODEL_eaeb73f4dcdc45dd9f6b53802c852651",
      "msg_id": "",
      "outputs": []
     }
    },
    "eaeb73f4dcdc45dd9f6b53802c852651": {
     "model_module": "@jupyter-widgets/base",
     "model_name": "LayoutModel",
     "model_module_version": "1.2.0",
     "state": {
      "_model_module": "@jupyter-widgets/base",
      "_model_module_version": "1.2.0",
      "_model_name": "LayoutModel",
      "_view_count": null,
      "_view_module": "@jupyter-widgets/base",
      "_view_module_version": "1.2.0",
      "_view_name": "LayoutView",
      "align_content": null,
      "align_items": null,
      "align_self": null,
      "border": null,
      "bottom": null,
      "display": null,
      "flex": null,
      "flex_flow": null,
      "grid_area": null,
      "grid_auto_columns": null,
      "grid_auto_flow": null,
      "grid_auto_rows": null,
      "grid_column": null,
      "grid_gap": null,
      "grid_row": null,
      "grid_template_areas": null,
      "grid_template_columns": null,
      "grid_template_rows": null,
      "height": null,
      "justify_content": null,
      "justify_items": null,
      "left": null,
      "margin": null,
      "max_height": null,
      "max_width": null,
      "min_height": null,
      "min_width": null,
      "object_fit": null,
      "object_position": null,
      "order": null,
      "overflow": null,
      "overflow_x": null,
      "overflow_y": null,
      "padding": null,
      "right": null,
      "top": null,
      "visibility": null,
      "width": null
     }
    },
    "4284249e4dd145b0b4d9676a5cabdcbd": {
     "model_module": "@jupyter-widgets/controls",
     "model_name": "HTMLModel",
     "model_module_version": "1.5.0",
     "state": {
      "_dom_classes": [],
      "_model_module": "@jupyter-widgets/controls",
      "_model_module_version": "1.5.0",
      "_model_name": "HTMLModel",
      "_view_count": null,
      "_view_module": "@jupyter-widgets/controls",
      "_view_module_version": "1.5.0",
      "_view_name": "HTMLView",
      "description": "",
      "description_tooltip": null,
      "layout": "IPY_MODEL_ccf1b5bb6bb94423a9ae343bc517c7ea",
      "placeholder": "​",
      "style": "IPY_MODEL_31c171182e9c45d1a2f3b08efcb986ac",
      "value": "<b>¿Cuántos tipos de equipo diferentes hay?</b>"
     }
    },
    "ccf1b5bb6bb94423a9ae343bc517c7ea": {
     "model_module": "@jupyter-widgets/base",
     "model_name": "LayoutModel",
     "model_module_version": "1.2.0",
     "state": {
      "_model_module": "@jupyter-widgets/base",
      "_model_module_version": "1.2.0",
      "_model_name": "LayoutModel",
      "_view_count": null,
      "_view_module": "@jupyter-widgets/base",
      "_view_module_version": "1.2.0",
      "_view_name": "LayoutView",
      "align_content": null,
      "align_items": null,
      "align_self": null,
      "border": null,
      "bottom": null,
      "display": null,
      "flex": null,
      "flex_flow": null,
      "grid_area": null,
      "grid_auto_columns": null,
      "grid_auto_flow": null,
      "grid_auto_rows": null,
      "grid_column": null,
      "grid_gap": null,
      "grid_row": null,
      "grid_template_areas": null,
      "grid_template_columns": null,
      "grid_template_rows": null,
      "height": null,
      "justify_content": null,
      "justify_items": null,
      "left": null,
      "margin": null,
      "max_height": null,
      "max_width": null,
      "min_height": null,
      "min_width": null,
      "object_fit": null,
      "object_position": null,
      "order": null,
      "overflow": null,
      "overflow_x": null,
      "overflow_y": null,
      "padding": null,
      "right": null,
      "top": null,
      "visibility": null,
      "width": null
     }
    },
    "31c171182e9c45d1a2f3b08efcb986ac": {
     "model_module": "@jupyter-widgets/controls",
     "model_name": "DescriptionStyleModel",
     "model_module_version": "1.5.0",
     "state": {
      "_model_module": "@jupyter-widgets/controls",
      "_model_module_version": "1.5.0",
      "_model_name": "DescriptionStyleModel",
      "_view_count": null,
      "_view_module": "@jupyter-widgets/base",
      "_view_module_version": "1.2.0",
      "_view_name": "StyleView",
      "description_width": ""
     }
    },
    "eef388ec53ed4f9a862745d3d4609be5": {
     "model_module": "@jupyter-widgets/controls",
     "model_name": "IntTextModel",
     "model_module_version": "1.5.0",
     "state": {
      "_dom_classes": [],
      "_model_module": "@jupyter-widgets/controls",
      "_model_module_version": "1.5.0",
      "_model_name": "IntTextModel",
      "_view_count": null,
      "_view_module": "@jupyter-widgets/controls",
      "_view_module_version": "1.5.0",
      "_view_name": "IntTextView",
      "continuous_update": false,
      "description": "Respuesta:",
      "description_tooltip": null,
      "disabled": false,
      "layout": "IPY_MODEL_165acecd1b5542f8b2d48c6e601dde99",
      "step": 1,
      "style": "IPY_MODEL_5b227fe63e9f4a9b974c68522c10dc93",
      "value": 0
     }
    },
    "165acecd1b5542f8b2d48c6e601dde99": {
     "model_module": "@jupyter-widgets/base",
     "model_name": "LayoutModel",
     "model_module_version": "1.2.0",
     "state": {
      "_model_module": "@jupyter-widgets/base",
      "_model_module_version": "1.2.0",
      "_model_name": "LayoutModel",
      "_view_count": null,
      "_view_module": "@jupyter-widgets/base",
      "_view_module_version": "1.2.0",
      "_view_name": "LayoutView",
      "align_content": null,
      "align_items": null,
      "align_self": null,
      "border": null,
      "bottom": null,
      "display": null,
      "flex": null,
      "flex_flow": null,
      "grid_area": null,
      "grid_auto_columns": null,
      "grid_auto_flow": null,
      "grid_auto_rows": null,
      "grid_column": null,
      "grid_gap": null,
      "grid_row": null,
      "grid_template_areas": null,
      "grid_template_columns": null,
      "grid_template_rows": null,
      "height": null,
      "justify_content": null,
      "justify_items": null,
      "left": null,
      "margin": null,
      "max_height": null,
      "max_width": null,
      "min_height": null,
      "min_width": null,
      "object_fit": null,
      "object_position": null,
      "order": null,
      "overflow": null,
      "overflow_x": null,
      "overflow_y": null,
      "padding": null,
      "right": null,
      "top": null,
      "visibility": null,
      "width": null
     }
    },
    "5b227fe63e9f4a9b974c68522c10dc93": {
     "model_module": "@jupyter-widgets/controls",
     "model_name": "DescriptionStyleModel",
     "model_module_version": "1.5.0",
     "state": {
      "_model_module": "@jupyter-widgets/controls",
      "_model_module_version": "1.5.0",
      "_model_name": "DescriptionStyleModel",
      "_view_count": null,
      "_view_module": "@jupyter-widgets/base",
      "_view_module_version": "1.2.0",
      "_view_name": "StyleView",
      "description_width": ""
     }
    },
    "a0ebbe8abc3d45e0be79c8fd179a7707": {
     "model_module": "@jupyter-widgets/controls",
     "model_name": "ButtonModel",
     "model_module_version": "1.5.0",
     "state": {
      "_dom_classes": [],
      "_model_module": "@jupyter-widgets/controls",
      "_model_module_version": "1.5.0",
      "_model_name": "ButtonModel",
      "_view_count": null,
      "_view_module": "@jupyter-widgets/controls",
      "_view_module_version": "1.5.0",
      "_view_name": "ButtonView",
      "button_style": "",
      "description": "Verificar",
      "disabled": false,
      "icon": "",
      "layout": "IPY_MODEL_f58e93e4b7764adba8aaf72bf7d30a19",
      "style": "IPY_MODEL_c032c47fd8b846ccbc7c4f6189ca6502",
      "tooltip": ""
     }
    },
    "f58e93e4b7764adba8aaf72bf7d30a19": {
     "model_module": "@jupyter-widgets/base",
     "model_name": "LayoutModel",
     "model_module_version": "1.2.0",
     "state": {
      "_model_module": "@jupyter-widgets/base",
      "_model_module_version": "1.2.0",
      "_model_name": "LayoutModel",
      "_view_count": null,
      "_view_module": "@jupyter-widgets/base",
      "_view_module_version": "1.2.0",
      "_view_name": "LayoutView",
      "align_content": null,
      "align_items": null,
      "align_self": null,
      "border": null,
      "bottom": null,
      "display": null,
      "flex": null,
      "flex_flow": null,
      "grid_area": null,
      "grid_auto_columns": null,
      "grid_auto_flow": null,
      "grid_auto_rows": null,
      "grid_column": null,
      "grid_gap": null,
      "grid_row": null,
      "grid_template_areas": null,
      "grid_template_columns": null,
      "grid_template_rows": null,
      "height": null,
      "justify_content": null,
      "justify_items": null,
      "left": null,
      "margin": null,
      "max_height": null,
      "max_width": null,
      "min_height": null,
      "min_width": null,
      "object_fit": null,
      "object_position": null,
      "order": null,
      "overflow": null,
      "overflow_x": null,
      "overflow_y": null,
      "padding": null,
      "right": null,
      "top": null,
      "visibility": null,
      "width": null
     }
    },
    "c032c47fd8b846ccbc7c4f6189ca6502": {
     "model_module": "@jupyter-widgets/controls",
     "model_name": "ButtonStyleModel",
     "model_module_version": "1.5.0",
     "state": {
      "_model_module": "@jupyter-widgets/controls",
      "_model_module_version": "1.5.0",
      "_model_name": "ButtonStyleModel",
      "_view_count": null,
      "_view_module": "@jupyter-widgets/base",
      "_view_module_version": "1.2.0",
      "_view_name": "StyleView",
      "button_color": null,
      "font_weight": ""
     }
    },
    "bbd1d39ce42b4d89a08ca478f6b0970c": {
     "model_module": "@jupyter-widgets/output",
     "model_name": "OutputModel",
     "model_module_version": "1.0.0",
     "state": {
      "_dom_classes": [],
      "_model_module": "@jupyter-widgets/output",
      "_model_module_version": "1.0.0",
      "_model_name": "OutputModel",
      "_view_count": null,
      "_view_module": "@jupyter-widgets/output",
      "_view_module_version": "1.0.0",
      "_view_name": "OutputView",
      "layout": "IPY_MODEL_e244c674d6fc45a193071cddddcb03ca",
      "msg_id": "",
      "outputs": []
     }
    },
    "e244c674d6fc45a193071cddddcb03ca": {
     "model_module": "@jupyter-widgets/base",
     "model_name": "LayoutModel",
     "model_module_version": "1.2.0",
     "state": {
      "_model_module": "@jupyter-widgets/base",
      "_model_module_version": "1.2.0",
      "_model_name": "LayoutModel",
      "_view_count": null,
      "_view_module": "@jupyter-widgets/base",
      "_view_module_version": "1.2.0",
      "_view_name": "LayoutView",
      "align_content": null,
      "align_items": null,
      "align_self": null,
      "border": null,
      "bottom": null,
      "display": null,
      "flex": null,
      "flex_flow": null,
      "grid_area": null,
      "grid_auto_columns": null,
      "grid_auto_flow": null,
      "grid_auto_rows": null,
      "grid_column": null,
      "grid_gap": null,
      "grid_row": null,
      "grid_template_areas": null,
      "grid_template_columns": null,
      "grid_template_rows": null,
      "height": null,
      "justify_content": null,
      "justify_items": null,
      "left": null,
      "margin": null,
      "max_height": null,
      "max_width": null,
      "min_height": null,
      "min_width": null,
      "object_fit": null,
      "object_position": null,
      "order": null,
      "overflow": null,
      "overflow_x": null,
      "overflow_y": null,
      "padding": null,
      "right": null,
      "top": null,
      "visibility": null,
      "width": null
     }
    },
    "b5ebf585469f482dadd0ad9a9b8efb47": {
     "model_module": "@jupyter-widgets/controls",
     "model_name": "HTMLModel",
     "model_module_version": "1.5.0",
     "state": {
      "_dom_classes": [],
      "_model_module": "@jupyter-widgets/controls",
      "_model_module_version": "1.5.0",
      "_model_name": "HTMLModel",
      "_view_count": null,
      "_view_module": "@jupyter-widgets/controls",
      "_view_module_version": "1.5.0",
      "_view_name": "HTMLView",
      "description": "",
      "description_tooltip": null,
      "layout": "IPY_MODEL_5caa430e908440b5a3977de41067b92f",
      "placeholder": "​",
      "style": "IPY_MODEL_c42580f4f1be4ce9947bad408b86318a",
      "value": "<b>¿Cuáles son las 2 variables que tienen mayor correlación positiva con SAIFI?</b>"
     }
    },
    "5caa430e908440b5a3977de41067b92f": {
     "model_module": "@jupyter-widgets/base",
     "model_name": "LayoutModel",
     "model_module_version": "1.2.0",
     "state": {
      "_model_module": "@jupyter-widgets/base",
      "_model_module_version": "1.2.0",
      "_model_name": "LayoutModel",
      "_view_count": null,
      "_view_module": "@jupyter-widgets/base",
      "_view_module_version": "1.2.0",
      "_view_name": "LayoutView",
      "align_content": null,
      "align_items": null,
      "align_self": null,
      "border": null,
      "bottom": null,
      "display": null,
      "flex": null,
      "flex_flow": null,
      "grid_area": null,
      "grid_auto_columns": null,
      "grid_auto_flow": null,
      "grid_auto_rows": null,
      "grid_column": null,
      "grid_gap": null,
      "grid_row": null,
      "grid_template_areas": null,
      "grid_template_columns": null,
      "grid_template_rows": null,
      "height": null,
      "justify_content": null,
      "justify_items": null,
      "left": null,
      "margin": null,
      "max_height": null,
      "max_width": null,
      "min_height": null,
      "min_width": null,
      "object_fit": null,
      "object_position": null,
      "order": null,
      "overflow": null,
      "overflow_x": null,
      "overflow_y": null,
      "padding": null,
      "right": null,
      "top": null,
      "visibility": null,
      "width": null
     }
    },
    "c42580f4f1be4ce9947bad408b86318a": {
     "model_module": "@jupyter-widgets/controls",
     "model_name": "DescriptionStyleModel",
     "model_module_version": "1.5.0",
     "state": {
      "_model_module": "@jupyter-widgets/controls",
      "_model_module_version": "1.5.0",
      "_model_name": "DescriptionStyleModel",
      "_view_count": null,
      "_view_module": "@jupyter-widgets/base",
      "_view_module_version": "1.2.0",
      "_view_name": "StyleView",
      "description_width": ""
     }
    },
    "d34deaad9f194c5da8e1e2e600ebcaf9": {
     "model_module": "@jupyter-widgets/controls",
     "model_name": "HTMLModel",
     "model_module_version": "1.5.0",
     "state": {
      "_dom_classes": [],
      "_model_module": "@jupyter-widgets/controls",
      "_model_module_version": "1.5.0",
      "_model_name": "HTMLModel",
      "_view_count": null,
      "_view_module": "@jupyter-widgets/controls",
      "_view_module_version": "1.5.0",
      "_view_name": "HTMLView",
      "description": "",
      "description_tooltip": null,
      "layout": "IPY_MODEL_466977a0a644450eb5119ce12db176ad",
      "placeholder": "​",
      "style": "IPY_MODEL_c9d05f26c4cd466aa320eac2d98eecc2",
      "value": "<i>Por favor, ingresa los nombres de las variables tal cual están escritas, separados por comas.</i>"
     }
    },
    "466977a0a644450eb5119ce12db176ad": {
     "model_module": "@jupyter-widgets/base",
     "model_name": "LayoutModel",
     "model_module_version": "1.2.0",
     "state": {
      "_model_module": "@jupyter-widgets/base",
      "_model_module_version": "1.2.0",
      "_model_name": "LayoutModel",
      "_view_count": null,
      "_view_module": "@jupyter-widgets/base",
      "_view_module_version": "1.2.0",
      "_view_name": "LayoutView",
      "align_content": null,
      "align_items": null,
      "align_self": null,
      "border": null,
      "bottom": null,
      "display": null,
      "flex": null,
      "flex_flow": null,
      "grid_area": null,
      "grid_auto_columns": null,
      "grid_auto_flow": null,
      "grid_auto_rows": null,
      "grid_column": null,
      "grid_gap": null,
      "grid_row": null,
      "grid_template_areas": null,
      "grid_template_columns": null,
      "grid_template_rows": null,
      "height": null,
      "justify_content": null,
      "justify_items": null,
      "left": null,
      "margin": null,
      "max_height": null,
      "max_width": null,
      "min_height": null,
      "min_width": null,
      "object_fit": null,
      "object_position": null,
      "order": null,
      "overflow": null,
      "overflow_x": null,
      "overflow_y": null,
      "padding": null,
      "right": null,
      "top": null,
      "visibility": null,
      "width": null
     }
    },
    "c9d05f26c4cd466aa320eac2d98eecc2": {
     "model_module": "@jupyter-widgets/controls",
     "model_name": "DescriptionStyleModel",
     "model_module_version": "1.5.0",
     "state": {
      "_model_module": "@jupyter-widgets/controls",
      "_model_module_version": "1.5.0",
      "_model_name": "DescriptionStyleModel",
      "_view_count": null,
      "_view_module": "@jupyter-widgets/base",
      "_view_module_version": "1.2.0",
      "_view_name": "StyleView",
      "description_width": ""
     }
    },
    "21956a653bfa4ca48b9fd7af3d39f090": {
     "model_module": "@jupyter-widgets/controls",
     "model_name": "TextModel",
     "model_module_version": "1.5.0",
     "state": {
      "_dom_classes": [],
      "_model_module": "@jupyter-widgets/controls",
      "_model_module_version": "1.5.0",
      "_model_name": "TextModel",
      "_view_count": null,
      "_view_module": "@jupyter-widgets/controls",
      "_view_module_version": "1.5.0",
      "_view_name": "TextView",
      "continuous_update": true,
      "description": "Respuesta:",
      "description_tooltip": null,
      "disabled": false,
      "layout": "IPY_MODEL_a39d978d14a84c45941ec193e1298365",
      "placeholder": "Ingresa las 2 variables separadas por comas",
      "style": "IPY_MODEL_3a1923c19e1b4f6794d137dd6d8106a7",
      "value": ""
     }
    },
    "a39d978d14a84c45941ec193e1298365": {
     "model_module": "@jupyter-widgets/base",
     "model_name": "LayoutModel",
     "model_module_version": "1.2.0",
     "state": {
      "_model_module": "@jupyter-widgets/base",
      "_model_module_version": "1.2.0",
      "_model_name": "LayoutModel",
      "_view_count": null,
      "_view_module": "@jupyter-widgets/base",
      "_view_module_version": "1.2.0",
      "_view_name": "LayoutView",
      "align_content": null,
      "align_items": null,
      "align_self": null,
      "border": null,
      "bottom": null,
      "display": null,
      "flex": null,
      "flex_flow": null,
      "grid_area": null,
      "grid_auto_columns": null,
      "grid_auto_flow": null,
      "grid_auto_rows": null,
      "grid_column": null,
      "grid_gap": null,
      "grid_row": null,
      "grid_template_areas": null,
      "grid_template_columns": null,
      "grid_template_rows": null,
      "height": null,
      "justify_content": null,
      "justify_items": null,
      "left": null,
      "margin": null,
      "max_height": null,
      "max_width": null,
      "min_height": null,
      "min_width": null,
      "object_fit": null,
      "object_position": null,
      "order": null,
      "overflow": null,
      "overflow_x": null,
      "overflow_y": null,
      "padding": null,
      "right": null,
      "top": null,
      "visibility": null,
      "width": "500px"
     }
    },
    "3a1923c19e1b4f6794d137dd6d8106a7": {
     "model_module": "@jupyter-widgets/controls",
     "model_name": "DescriptionStyleModel",
     "model_module_version": "1.5.0",
     "state": {
      "_model_module": "@jupyter-widgets/controls",
      "_model_module_version": "1.5.0",
      "_model_name": "DescriptionStyleModel",
      "_view_count": null,
      "_view_module": "@jupyter-widgets/base",
      "_view_module_version": "1.2.0",
      "_view_name": "StyleView",
      "description_width": ""
     }
    },
    "8d6c30af537f4941b939bbe809cc5990": {
     "model_module": "@jupyter-widgets/controls",
     "model_name": "ButtonModel",
     "model_module_version": "1.5.0",
     "state": {
      "_dom_classes": [],
      "_model_module": "@jupyter-widgets/controls",
      "_model_module_version": "1.5.0",
      "_model_name": "ButtonModel",
      "_view_count": null,
      "_view_module": "@jupyter-widgets/controls",
      "_view_module_version": "1.5.0",
      "_view_name": "ButtonView",
      "button_style": "",
      "description": "Verificar",
      "disabled": false,
      "icon": "",
      "layout": "IPY_MODEL_7909c0be8e8143f58675980612201c53",
      "style": "IPY_MODEL_2ffb5613b419437ba35bd2f1329171ac",
      "tooltip": ""
     }
    },
    "7909c0be8e8143f58675980612201c53": {
     "model_module": "@jupyter-widgets/base",
     "model_name": "LayoutModel",
     "model_module_version": "1.2.0",
     "state": {
      "_model_module": "@jupyter-widgets/base",
      "_model_module_version": "1.2.0",
      "_model_name": "LayoutModel",
      "_view_count": null,
      "_view_module": "@jupyter-widgets/base",
      "_view_module_version": "1.2.0",
      "_view_name": "LayoutView",
      "align_content": null,
      "align_items": null,
      "align_self": null,
      "border": null,
      "bottom": null,
      "display": null,
      "flex": null,
      "flex_flow": null,
      "grid_area": null,
      "grid_auto_columns": null,
      "grid_auto_flow": null,
      "grid_auto_rows": null,
      "grid_column": null,
      "grid_gap": null,
      "grid_row": null,
      "grid_template_areas": null,
      "grid_template_columns": null,
      "grid_template_rows": null,
      "height": null,
      "justify_content": null,
      "justify_items": null,
      "left": null,
      "margin": null,
      "max_height": null,
      "max_width": null,
      "min_height": null,
      "min_width": null,
      "object_fit": null,
      "object_position": null,
      "order": null,
      "overflow": null,
      "overflow_x": null,
      "overflow_y": null,
      "padding": null,
      "right": null,
      "top": null,
      "visibility": null,
      "width": null
     }
    },
    "2ffb5613b419437ba35bd2f1329171ac": {
     "model_module": "@jupyter-widgets/controls",
     "model_name": "ButtonStyleModel",
     "model_module_version": "1.5.0",
     "state": {
      "_model_module": "@jupyter-widgets/controls",
      "_model_module_version": "1.5.0",
      "_model_name": "ButtonStyleModel",
      "_view_count": null,
      "_view_module": "@jupyter-widgets/base",
      "_view_module_version": "1.2.0",
      "_view_name": "StyleView",
      "button_color": null,
      "font_weight": ""
     }
    },
    "96b9840f65dc4c43bd63c7a990567977": {
     "model_module": "@jupyter-widgets/output",
     "model_name": "OutputModel",
     "model_module_version": "1.0.0",
     "state": {
      "_dom_classes": [],
      "_model_module": "@jupyter-widgets/output",
      "_model_module_version": "1.0.0",
      "_model_name": "OutputModel",
      "_view_count": null,
      "_view_module": "@jupyter-widgets/output",
      "_view_module_version": "1.0.0",
      "_view_name": "OutputView",
      "layout": "IPY_MODEL_b22d2e4d17a349019ddc8aafa70e6559",
      "msg_id": "",
      "outputs": []
     }
    },
    "b22d2e4d17a349019ddc8aafa70e6559": {
     "model_module": "@jupyter-widgets/base",
     "model_name": "LayoutModel",
     "model_module_version": "1.2.0",
     "state": {
      "_model_module": "@jupyter-widgets/base",
      "_model_module_version": "1.2.0",
      "_model_name": "LayoutModel",
      "_view_count": null,
      "_view_module": "@jupyter-widgets/base",
      "_view_module_version": "1.2.0",
      "_view_name": "LayoutView",
      "align_content": null,
      "align_items": null,
      "align_self": null,
      "border": null,
      "bottom": null,
      "display": null,
      "flex": null,
      "flex_flow": null,
      "grid_area": null,
      "grid_auto_columns": null,
      "grid_auto_flow": null,
      "grid_auto_rows": null,
      "grid_column": null,
      "grid_gap": null,
      "grid_row": null,
      "grid_template_areas": null,
      "grid_template_columns": null,
      "grid_template_rows": null,
      "height": null,
      "justify_content": null,
      "justify_items": null,
      "left": null,
      "margin": null,
      "max_height": null,
      "max_width": null,
      "min_height": null,
      "min_width": null,
      "object_fit": null,
      "object_position": null,
      "order": null,
      "overflow": null,
      "overflow_x": null,
      "overflow_y": null,
      "padding": null,
      "right": null,
      "top": null,
      "visibility": null,
      "width": null
     }
    },
    "b4fdc0da919d42d59976ea30cab15847": {
     "model_module": "@jupyter-widgets/controls",
     "model_name": "VBoxModel",
     "model_module_version": "1.5.0",
     "state": {
      "_dom_classes": [
       "widget-interact"
      ],
      "_model_module": "@jupyter-widgets/controls",
      "_model_module_version": "1.5.0",
      "_model_name": "VBoxModel",
      "_view_count": null,
      "_view_module": "@jupyter-widgets/controls",
      "_view_module_version": "1.5.0",
      "_view_name": "VBoxView",
      "box_style": "",
      "children": [
       "IPY_MODEL_5b3f96cccdc043d9b90f677b81c7c91a",
       "IPY_MODEL_533946b43d59419daed2b51eb6b385ea"
      ],
      "layout": "IPY_MODEL_14dd6a42f17c40f88a10a02d2c254c22"
     }
    },
    "5b3f96cccdc043d9b90f677b81c7c91a": {
     "model_module": "@jupyter-widgets/controls",
     "model_name": "DropdownModel",
     "model_module_version": "1.5.0",
     "state": {
      "_dom_classes": [],
      "_model_module": "@jupyter-widgets/controls",
      "_model_module_version": "1.5.0",
      "_model_name": "DropdownModel",
      "_options_labels": [
       "equipo_ope",
       "tipo_equi_ope",
       "cto_equi_ope",
       "tipo_elemento",
       "tipo_duracion",
       "causa",
       "tipo_causa"
      ],
      "_view_count": null,
      "_view_module": "@jupyter-widgets/controls",
      "_view_module_version": "1.5.0",
      "_view_name": "DropdownView",
      "description": "Columna:",
      "description_tooltip": null,
      "disabled": false,
      "index": 0,
      "layout": "IPY_MODEL_a3e3c5742cfc425d8475dd112355e445",
      "style": "IPY_MODEL_a3c38bfa6c0b460b81630d7b38c3f6c9"
     }
    },
    "533946b43d59419daed2b51eb6b385ea": {
     "model_module": "@jupyter-widgets/output",
     "model_name": "OutputModel",
     "model_module_version": "1.0.0",
     "state": {
      "_dom_classes": [],
      "_model_module": "@jupyter-widgets/output",
      "_model_module_version": "1.0.0",
      "_model_name": "OutputModel",
      "_view_count": null,
      "_view_module": "@jupyter-widgets/output",
      "_view_module_version": "1.0.0",
      "_view_name": "OutputView",
      "layout": "IPY_MODEL_0f2f3c26ca1643659870a057dba46332",
      "msg_id": "",
      "outputs": [
       {
        "output_type": "display_data",
        "data": {
         "text/plain": "<Figure size 1000x600 with 1 Axes>",
         "image/png": "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\n"
        },
        "metadata": {}
       }
      ]
     }
    },
    "14dd6a42f17c40f88a10a02d2c254c22": {
     "model_module": "@jupyter-widgets/base",
     "model_name": "LayoutModel",
     "model_module_version": "1.2.0",
     "state": {
      "_model_module": "@jupyter-widgets/base",
      "_model_module_version": "1.2.0",
      "_model_name": "LayoutModel",
      "_view_count": null,
      "_view_module": "@jupyter-widgets/base",
      "_view_module_version": "1.2.0",
      "_view_name": "LayoutView",
      "align_content": null,
      "align_items": null,
      "align_self": null,
      "border": null,
      "bottom": null,
      "display": null,
      "flex": null,
      "flex_flow": null,
      "grid_area": null,
      "grid_auto_columns": null,
      "grid_auto_flow": null,
      "grid_auto_rows": null,
      "grid_column": null,
      "grid_gap": null,
      "grid_row": null,
      "grid_template_areas": null,
      "grid_template_columns": null,
      "grid_template_rows": null,
      "height": null,
      "justify_content": null,
      "justify_items": null,
      "left": null,
      "margin": null,
      "max_height": null,
      "max_width": null,
      "min_height": null,
      "min_width": null,
      "object_fit": null,
      "object_position": null,
      "order": null,
      "overflow": null,
      "overflow_x": null,
      "overflow_y": null,
      "padding": null,
      "right": null,
      "top": null,
      "visibility": null,
      "width": null
     }
    },
    "a3e3c5742cfc425d8475dd112355e445": {
     "model_module": "@jupyter-widgets/base",
     "model_name": "LayoutModel",
     "model_module_version": "1.2.0",
     "state": {
      "_model_module": "@jupyter-widgets/base",
      "_model_module_version": "1.2.0",
      "_model_name": "LayoutModel",
      "_view_count": null,
      "_view_module": "@jupyter-widgets/base",
      "_view_module_version": "1.2.0",
      "_view_name": "LayoutView",
      "align_content": null,
      "align_items": null,
      "align_self": null,
      "border": null,
      "bottom": null,
      "display": null,
      "flex": null,
      "flex_flow": null,
      "grid_area": null,
      "grid_auto_columns": null,
      "grid_auto_flow": null,
      "grid_auto_rows": null,
      "grid_column": null,
      "grid_gap": null,
      "grid_row": null,
      "grid_template_areas": null,
      "grid_template_columns": null,
      "grid_template_rows": null,
      "height": null,
      "justify_content": null,
      "justify_items": null,
      "left": null,
      "margin": null,
      "max_height": null,
      "max_width": null,
      "min_height": null,
      "min_width": null,
      "object_fit": null,
      "object_position": null,
      "order": null,
      "overflow": null,
      "overflow_x": null,
      "overflow_y": null,
      "padding": null,
      "right": null,
      "top": null,
      "visibility": null,
      "width": null
     }
    },
    "a3c38bfa6c0b460b81630d7b38c3f6c9": {
     "model_module": "@jupyter-widgets/controls",
     "model_name": "DescriptionStyleModel",
     "model_module_version": "1.5.0",
     "state": {
      "_model_module": "@jupyter-widgets/controls",
      "_model_module_version": "1.5.0",
      "_model_name": "DescriptionStyleModel",
      "_view_count": null,
      "_view_module": "@jupyter-widgets/base",
      "_view_module_version": "1.2.0",
      "_view_name": "StyleView",
      "description_width": "initial"
     }
    },
    "0f2f3c26ca1643659870a057dba46332": {
     "model_module": "@jupyter-widgets/base",
     "model_name": "LayoutModel",
     "model_module_version": "1.2.0",
     "state": {
      "_model_module": "@jupyter-widgets/base",
      "_model_module_version": "1.2.0",
      "_model_name": "LayoutModel",
      "_view_count": null,
      "_view_module": "@jupyter-widgets/base",
      "_view_module_version": "1.2.0",
      "_view_name": "LayoutView",
      "align_content": null,
      "align_items": null,
      "align_self": null,
      "border": null,
      "bottom": null,
      "display": null,
      "flex": null,
      "flex_flow": null,
      "grid_area": null,
      "grid_auto_columns": null,
      "grid_auto_flow": null,
      "grid_auto_rows": null,
      "grid_column": null,
      "grid_gap": null,
      "grid_row": null,
      "grid_template_areas": null,
      "grid_template_columns": null,
      "grid_template_rows": null,
      "height": null,
      "justify_content": null,
      "justify_items": null,
      "left": null,
      "margin": null,
      "max_height": null,
      "max_width": null,
      "min_height": null,
      "min_width": null,
      "object_fit": null,
      "object_position": null,
      "order": null,
      "overflow": null,
      "overflow_x": null,
      "overflow_y": null,
      "padding": null,
      "right": null,
      "top": null,
      "visibility": null,
      "width": null
     }
    },
    "8624869cf9bf44b5b0cd73a6a88a671d": {
     "model_module": "@jupyter-widgets/controls",
     "model_name": "HTMLModel",
     "model_module_version": "1.5.0",
     "state": {
      "_dom_classes": [],
      "_model_module": "@jupyter-widgets/controls",
      "_model_module_version": "1.5.0",
      "_model_name": "HTMLModel",
      "_view_count": null,
      "_view_module": "@jupyter-widgets/controls",
      "_view_module_version": "1.5.0",
      "_view_name": "HTMLView",
      "description": "",
      "description_tooltip": null,
      "layout": "IPY_MODEL_abebecd780e748ad94cc38e7c0ebf015",
      "placeholder": "​",
      "style": "IPY_MODEL_dffbdabd0bc445a79cea3b18660e9b38",
      "value": "<b>¿Cuáles son las 3 causas más frecuentes?</b>"
     }
    },
    "abebecd780e748ad94cc38e7c0ebf015": {
     "model_module": "@jupyter-widgets/base",
     "model_name": "LayoutModel",
     "model_module_version": "1.2.0",
     "state": {
      "_model_module": "@jupyter-widgets/base",
      "_model_module_version": "1.2.0",
      "_model_name": "LayoutModel",
      "_view_count": null,
      "_view_module": "@jupyter-widgets/base",
      "_view_module_version": "1.2.0",
      "_view_name": "LayoutView",
      "align_content": null,
      "align_items": null,
      "align_self": null,
      "border": null,
      "bottom": null,
      "display": null,
      "flex": null,
      "flex_flow": null,
      "grid_area": null,
      "grid_auto_columns": null,
      "grid_auto_flow": null,
      "grid_auto_rows": null,
      "grid_column": null,
      "grid_gap": null,
      "grid_row": null,
      "grid_template_areas": null,
      "grid_template_columns": null,
      "grid_template_rows": null,
      "height": null,
      "justify_content": null,
      "justify_items": null,
      "left": null,
      "margin": null,
      "max_height": null,
      "max_width": null,
      "min_height": null,
      "min_width": null,
      "object_fit": null,
      "object_position": null,
      "order": null,
      "overflow": null,
      "overflow_x": null,
      "overflow_y": null,
      "padding": null,
      "right": null,
      "top": null,
      "visibility": null,
      "width": null
     }
    },
    "dffbdabd0bc445a79cea3b18660e9b38": {
     "model_module": "@jupyter-widgets/controls",
     "model_name": "DescriptionStyleModel",
     "model_module_version": "1.5.0",
     "state": {
      "_model_module": "@jupyter-widgets/controls",
      "_model_module_version": "1.5.0",
      "_model_name": "DescriptionStyleModel",
      "_view_count": null,
      "_view_module": "@jupyter-widgets/base",
      "_view_module_version": "1.2.0",
      "_view_name": "StyleView",
      "description_width": ""
     }
    },
    "624d87156799478291339899ff2e24f4": {
     "model_module": "@jupyter-widgets/controls",
     "model_name": "HTMLModel",
     "model_module_version": "1.5.0",
     "state": {
      "_dom_classes": [],
      "_model_module": "@jupyter-widgets/controls",
      "_model_module_version": "1.5.0",
      "_model_name": "HTMLModel",
      "_view_count": null,
      "_view_module": "@jupyter-widgets/controls",
      "_view_module_version": "1.5.0",
      "_view_name": "HTMLView",
      "description": "",
      "description_tooltip": null,
      "layout": "IPY_MODEL_3eded8f01ccc4a2889197c37874855c9",
      "placeholder": "​",
      "style": "IPY_MODEL_62509f370bdf4a4b99d2e1b920492dfa",
      "value": "<i>Por favor, ingresa las causas sin decimales, separados por comas.</i>"
     }
    },
    "3eded8f01ccc4a2889197c37874855c9": {
     "model_module": "@jupyter-widgets/base",
     "model_name": "LayoutModel",
     "model_module_version": "1.2.0",
     "state": {
      "_model_module": "@jupyter-widgets/base",
      "_model_module_version": "1.2.0",
      "_model_name": "LayoutModel",
      "_view_count": null,
      "_view_module": "@jupyter-widgets/base",
      "_view_module_version": "1.2.0",
      "_view_name": "LayoutView",
      "align_content": null,
      "align_items": null,
      "align_self": null,
      "border": null,
      "bottom": null,
      "display": null,
      "flex": null,
      "flex_flow": null,
      "grid_area": null,
      "grid_auto_columns": null,
      "grid_auto_flow": null,
      "grid_auto_rows": null,
      "grid_column": null,
      "grid_gap": null,
      "grid_row": null,
      "grid_template_areas": null,
      "grid_template_columns": null,
      "grid_template_rows": null,
      "height": null,
      "justify_content": null,
      "justify_items": null,
      "left": null,
      "margin": null,
      "max_height": null,
      "max_width": null,
      "min_height": null,
      "min_width": null,
      "object_fit": null,
      "object_position": null,
      "order": null,
      "overflow": null,
      "overflow_x": null,
      "overflow_y": null,
      "padding": null,
      "right": null,
      "top": null,
      "visibility": null,
      "width": null
     }
    },
    "62509f370bdf4a4b99d2e1b920492dfa": {
     "model_module": "@jupyter-widgets/controls",
     "model_name": "DescriptionStyleModel",
     "model_module_version": "1.5.0",
     "state": {
      "_model_module": "@jupyter-widgets/controls",
      "_model_module_version": "1.5.0",
      "_model_name": "DescriptionStyleModel",
      "_view_count": null,
      "_view_module": "@jupyter-widgets/base",
      "_view_module_version": "1.2.0",
      "_view_name": "StyleView",
      "description_width": ""
     }
    },
    "138300bbdbe24e58963062db0610c98d": {
     "model_module": "@jupyter-widgets/controls",
     "model_name": "TextModel",
     "model_module_version": "1.5.0",
     "state": {
      "_dom_classes": [],
      "_model_module": "@jupyter-widgets/controls",
      "_model_module_version": "1.5.0",
      "_model_name": "TextModel",
      "_view_count": null,
      "_view_module": "@jupyter-widgets/controls",
      "_view_module_version": "1.5.0",
      "_view_name": "TextView",
      "continuous_update": true,
      "description": "Respuesta:",
      "description_tooltip": null,
      "disabled": false,
      "layout": "IPY_MODEL_c21bd89fb69746b8ad1e875cda461405",
      "placeholder": "Ingresa las 3 causas separadas por comas, sin decimales",
      "style": "IPY_MODEL_32be7cdd91854103b4e7cc500e625c64",
      "value": ""
     }
    },
    "c21bd89fb69746b8ad1e875cda461405": {
     "model_module": "@jupyter-widgets/base",
     "model_name": "LayoutModel",
     "model_module_version": "1.2.0",
     "state": {
      "_model_module": "@jupyter-widgets/base",
      "_model_module_version": "1.2.0",
      "_model_name": "LayoutModel",
      "_view_count": null,
      "_view_module": "@jupyter-widgets/base",
      "_view_module_version": "1.2.0",
      "_view_name": "LayoutView",
      "align_content": null,
      "align_items": null,
      "align_self": null,
      "border": null,
      "bottom": null,
      "display": null,
      "flex": null,
      "flex_flow": null,
      "grid_area": null,
      "grid_auto_columns": null,
      "grid_auto_flow": null,
      "grid_auto_rows": null,
      "grid_column": null,
      "grid_gap": null,
      "grid_row": null,
      "grid_template_areas": null,
      "grid_template_columns": null,
      "grid_template_rows": null,
      "height": null,
      "justify_content": null,
      "justify_items": null,
      "left": null,
      "margin": null,
      "max_height": null,
      "max_width": null,
      "min_height": null,
      "min_width": null,
      "object_fit": null,
      "object_position": null,
      "order": null,
      "overflow": null,
      "overflow_x": null,
      "overflow_y": null,
      "padding": null,
      "right": null,
      "top": null,
      "visibility": null,
      "width": "500px"
     }
    },
    "32be7cdd91854103b4e7cc500e625c64": {
     "model_module": "@jupyter-widgets/controls",
     "model_name": "DescriptionStyleModel",
     "model_module_version": "1.5.0",
     "state": {
      "_model_module": "@jupyter-widgets/controls",
      "_model_module_version": "1.5.0",
      "_model_name": "DescriptionStyleModel",
      "_view_count": null,
      "_view_module": "@jupyter-widgets/base",
      "_view_module_version": "1.2.0",
      "_view_name": "StyleView",
      "description_width": ""
     }
    },
    "69aeb135f58147a0ada2268c62428c1e": {
     "model_module": "@jupyter-widgets/controls",
     "model_name": "ButtonModel",
     "model_module_version": "1.5.0",
     "state": {
      "_dom_classes": [],
      "_model_module": "@jupyter-widgets/controls",
      "_model_module_version": "1.5.0",
      "_model_name": "ButtonModel",
      "_view_count": null,
      "_view_module": "@jupyter-widgets/controls",
      "_view_module_version": "1.5.0",
      "_view_name": "ButtonView",
      "button_style": "",
      "description": "Verificar",
      "disabled": false,
      "icon": "",
      "layout": "IPY_MODEL_e99a88180e9f405eaf2e7d0cae45bfcf",
      "style": "IPY_MODEL_5130ea16ea404a4f9863ba9247759814",
      "tooltip": ""
     }
    },
    "e99a88180e9f405eaf2e7d0cae45bfcf": {
     "model_module": "@jupyter-widgets/base",
     "model_name": "LayoutModel",
     "model_module_version": "1.2.0",
     "state": {
      "_model_module": "@jupyter-widgets/base",
      "_model_module_version": "1.2.0",
      "_model_name": "LayoutModel",
      "_view_count": null,
      "_view_module": "@jupyter-widgets/base",
      "_view_module_version": "1.2.0",
      "_view_name": "LayoutView",
      "align_content": null,
      "align_items": null,
      "align_self": null,
      "border": null,
      "bottom": null,
      "display": null,
      "flex": null,
      "flex_flow": null,
      "grid_area": null,
      "grid_auto_columns": null,
      "grid_auto_flow": null,
      "grid_auto_rows": null,
      "grid_column": null,
      "grid_gap": null,
      "grid_row": null,
      "grid_template_areas": null,
      "grid_template_columns": null,
      "grid_template_rows": null,
      "height": null,
      "justify_content": null,
      "justify_items": null,
      "left": null,
      "margin": null,
      "max_height": null,
      "max_width": null,
      "min_height": null,
      "min_width": null,
      "object_fit": null,
      "object_position": null,
      "order": null,
      "overflow": null,
      "overflow_x": null,
      "overflow_y": null,
      "padding": null,
      "right": null,
      "top": null,
      "visibility": null,
      "width": null
     }
    },
    "5130ea16ea404a4f9863ba9247759814": {
     "model_module": "@jupyter-widgets/controls",
     "model_name": "ButtonStyleModel",
     "model_module_version": "1.5.0",
     "state": {
      "_model_module": "@jupyter-widgets/controls",
      "_model_module_version": "1.5.0",
      "_model_name": "ButtonStyleModel",
      "_view_count": null,
      "_view_module": "@jupyter-widgets/base",
      "_view_module_version": "1.2.0",
      "_view_name": "StyleView",
      "button_color": null,
      "font_weight": ""
     }
    },
    "333dda30c9104b588c4318b3890959ab": {
     "model_module": "@jupyter-widgets/output",
     "model_name": "OutputModel",
     "model_module_version": "1.0.0",
     "state": {
      "_dom_classes": [],
      "_model_module": "@jupyter-widgets/output",
      "_model_module_version": "1.0.0",
      "_model_name": "OutputModel",
      "_view_count": null,
      "_view_module": "@jupyter-widgets/output",
      "_view_module_version": "1.0.0",
      "_view_name": "OutputView",
      "layout": "IPY_MODEL_35883a54ae6047cf8411f5d07adf4e70",
      "msg_id": "",
      "outputs": []
     }
    },
    "35883a54ae6047cf8411f5d07adf4e70": {
     "model_module": "@jupyter-widgets/base",
     "model_name": "LayoutModel",
     "model_module_version": "1.2.0",
     "state": {
      "_model_module": "@jupyter-widgets/base",
      "_model_module_version": "1.2.0",
      "_model_name": "LayoutModel",
      "_view_count": null,
      "_view_module": "@jupyter-widgets/base",
      "_view_module_version": "1.2.0",
      "_view_name": "LayoutView",
      "align_content": null,
      "align_items": null,
      "align_self": null,
      "border": null,
      "bottom": null,
      "display": null,
      "flex": null,
      "flex_flow": null,
      "grid_area": null,
      "grid_auto_columns": null,
      "grid_auto_flow": null,
      "grid_auto_rows": null,
      "grid_column": null,
      "grid_gap": null,
      "grid_row": null,
      "grid_template_areas": null,
      "grid_template_columns": null,
      "grid_template_rows": null,
      "height": null,
      "justify_content": null,
      "justify_items": null,
      "left": null,
      "margin": null,
      "max_height": null,
      "max_width": null,
      "min_height": null,
      "min_width": null,
      "object_fit": null,
      "object_position": null,
      "order": null,
      "overflow": null,
      "overflow_x": null,
      "overflow_y": null,
      "padding": null,
      "right": null,
      "top": null,
      "visibility": null,
      "width": null
     }
    },
    "8484a1ae0847433381bbb0948a4fb939": {
     "model_module": "@jupyter-widgets/controls",
     "model_name": "VBoxModel",
     "model_module_version": "1.5.0",
     "state": {
      "_dom_classes": [
       "widget-interact"
      ],
      "_model_module": "@jupyter-widgets/controls",
      "_model_module_version": "1.5.0",
      "_model_name": "VBoxModel",
      "_view_count": null,
      "_view_module": "@jupyter-widgets/controls",
      "_view_module_version": "1.5.0",
      "_view_name": "VBoxView",
      "box_style": "",
      "children": [
       "IPY_MODEL_351432d2558a4b8db45a8d3307a3979c",
       "IPY_MODEL_cfefac3ec8e64bc487513665651417c2",
       "IPY_MODEL_da459414aad64c03908470385334d8a2",
       "IPY_MODEL_08c6938f50fe47158bc388f2ec143c3c"
      ],
      "layout": "IPY_MODEL_88a158de936e4f04945651499e5135da"
     }
    },
    "351432d2558a4b8db45a8d3307a3979c": {
     "model_module": "@jupyter-widgets/controls",
     "model_name": "DropdownModel",
     "model_module_version": "1.5.0",
     "state": {
      "_dom_classes": [],
      "_model_module": "@jupyter-widgets/controls",
      "_model_module_version": "1.5.0",
      "_model_name": "DropdownModel",
      "_options_labels": [
       "periodo",
       "duracion_h",
       "CNT_TRAFOS_AFEC",
       "cnt_usus",
       "SAIDI",
       "SAIFI"
      ],
      "_view_count": null,
      "_view_module": "@jupyter-widgets/controls",
      "_view_module_version": "1.5.0",
      "_view_name": "DropdownView",
      "description": "Columna:",
      "description_tooltip": null,
      "disabled": false,
      "index": 1,
      "layout": "IPY_MODEL_298e6db968484783a53f1d0fe5950bce",
      "style": "IPY_MODEL_8a89f54127584614b9aaea2cc56654c2"
     }
    },
    "cfefac3ec8e64bc487513665651417c2": {
     "model_module": "@jupyter-widgets/controls",
     "model_name": "IntSliderModel",
     "model_module_version": "1.5.0",
     "state": {
      "_dom_classes": [],
      "_model_module": "@jupyter-widgets/controls",
      "_model_module_version": "1.5.0",
      "_model_name": "IntSliderModel",
      "_view_count": null,
      "_view_module": "@jupyter-widgets/controls",
      "_view_module_version": "1.5.0",
      "_view_name": "IntSliderView",
      "continuous_update": false,
      "description": "Bins:",
      "description_tooltip": null,
      "disabled": false,
      "layout": "IPY_MODEL_4137a981d6ef47a5a9f4128cb097b3ae",
      "max": 100,
      "min": 1,
      "orientation": "horizontal",
      "readout": true,
      "readout_format": "d",
      "step": 5,
      "style": "IPY_MODEL_f3d15ea8763c451184dc5e61d3c17a81",
      "value": 30
     }
    },
    "da459414aad64c03908470385334d8a2": {
     "model_module": "@jupyter-widgets/controls",
     "model_name": "CheckboxModel",
     "model_module_version": "1.5.0",
     "state": {
      "_dom_classes": [],
      "_model_module": "@jupyter-widgets/controls",
      "_model_module_version": "1.5.0",
      "_model_name": "CheckboxModel",
      "_view_count": null,
      "_view_module": "@jupyter-widgets/controls",
      "_view_module_version": "1.5.0",
      "_view_name": "CheckboxView",
      "description": "Escala Logarítmica",
      "description_tooltip": null,
      "disabled": false,
      "indent": true,
      "layout": "IPY_MODEL_1d60928523104584923fa6e7a99b7524",
      "style": "IPY_MODEL_95cffc18cb624eddb83cecacd62c4cf4",
      "value": false
     }
    },
    "08c6938f50fe47158bc388f2ec143c3c": {
     "model_module": "@jupyter-widgets/output",
     "model_name": "OutputModel",
     "model_module_version": "1.0.0",
     "state": {
      "_dom_classes": [],
      "_model_module": "@jupyter-widgets/output",
      "_model_module_version": "1.0.0",
      "_model_name": "OutputModel",
      "_view_count": null,
      "_view_module": "@jupyter-widgets/output",
      "_view_module_version": "1.0.0",
      "_view_name": "OutputView",
      "layout": "IPY_MODEL_3b21793d6c294ff984bb613538d7218f",
      "msg_id": "",
      "outputs": [
       {
        "output_type": "display_data",
        "data": {
         "text/plain": "<Figure size 800x600 with 1 Axes>",
         "image/png": "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\n"
        },
        "metadata": {}
       }
      ]
     }
    },
    "88a158de936e4f04945651499e5135da": {
     "model_module": "@jupyter-widgets/base",
     "model_name": "LayoutModel",
     "model_module_version": "1.2.0",
     "state": {
      "_model_module": "@jupyter-widgets/base",
      "_model_module_version": "1.2.0",
      "_model_name": "LayoutModel",
      "_view_count": null,
      "_view_module": "@jupyter-widgets/base",
      "_view_module_version": "1.2.0",
      "_view_name": "LayoutView",
      "align_content": null,
      "align_items": null,
      "align_self": null,
      "border": null,
      "bottom": null,
      "display": null,
      "flex": null,
      "flex_flow": null,
      "grid_area": null,
      "grid_auto_columns": null,
      "grid_auto_flow": null,
      "grid_auto_rows": null,
      "grid_column": null,
      "grid_gap": null,
      "grid_row": null,
      "grid_template_areas": null,
      "grid_template_columns": null,
      "grid_template_rows": null,
      "height": null,
      "justify_content": null,
      "justify_items": null,
      "left": null,
      "margin": null,
      "max_height": null,
      "max_width": null,
      "min_height": null,
      "min_width": null,
      "object_fit": null,
      "object_position": null,
      "order": null,
      "overflow": null,
      "overflow_x": null,
      "overflow_y": null,
      "padding": null,
      "right": null,
      "top": null,
      "visibility": null,
      "width": null
     }
    },
    "298e6db968484783a53f1d0fe5950bce": {
     "model_module": "@jupyter-widgets/base",
     "model_name": "LayoutModel",
     "model_module_version": "1.2.0",
     "state": {
      "_model_module": "@jupyter-widgets/base",
      "_model_module_version": "1.2.0",
      "_model_name": "LayoutModel",
      "_view_count": null,
      "_view_module": "@jupyter-widgets/base",
      "_view_module_version": "1.2.0",
      "_view_name": "LayoutView",
      "align_content": null,
      "align_items": null,
      "align_self": null,
      "border": null,
      "bottom": null,
      "display": null,
      "flex": null,
      "flex_flow": null,
      "grid_area": null,
      "grid_auto_columns": null,
      "grid_auto_flow": null,
      "grid_auto_rows": null,
      "grid_column": null,
      "grid_gap": null,
      "grid_row": null,
      "grid_template_areas": null,
      "grid_template_columns": null,
      "grid_template_rows": null,
      "height": null,
      "justify_content": null,
      "justify_items": null,
      "left": null,
      "margin": null,
      "max_height": null,
      "max_width": null,
      "min_height": null,
      "min_width": null,
      "object_fit": null,
      "object_position": null,
      "order": null,
      "overflow": null,
      "overflow_x": null,
      "overflow_y": null,
      "padding": null,
      "right": null,
      "top": null,
      "visibility": null,
      "width": null
     }
    },
    "8a89f54127584614b9aaea2cc56654c2": {
     "model_module": "@jupyter-widgets/controls",
     "model_name": "DescriptionStyleModel",
     "model_module_version": "1.5.0",
     "state": {
      "_model_module": "@jupyter-widgets/controls",
      "_model_module_version": "1.5.0",
      "_model_name": "DescriptionStyleModel",
      "_view_count": null,
      "_view_module": "@jupyter-widgets/base",
      "_view_module_version": "1.2.0",
      "_view_name": "StyleView",
      "description_width": ""
     }
    },
    "4137a981d6ef47a5a9f4128cb097b3ae": {
     "model_module": "@jupyter-widgets/base",
     "model_name": "LayoutModel",
     "model_module_version": "1.2.0",
     "state": {
      "_model_module": "@jupyter-widgets/base",
      "_model_module_version": "1.2.0",
      "_model_name": "LayoutModel",
      "_view_count": null,
      "_view_module": "@jupyter-widgets/base",
      "_view_module_version": "1.2.0",
      "_view_name": "LayoutView",
      "align_content": null,
      "align_items": null,
      "align_self": null,
      "border": null,
      "bottom": null,
      "display": null,
      "flex": null,
      "flex_flow": null,
      "grid_area": null,
      "grid_auto_columns": null,
      "grid_auto_flow": null,
      "grid_auto_rows": null,
      "grid_column": null,
      "grid_gap": null,
      "grid_row": null,
      "grid_template_areas": null,
      "grid_template_columns": null,
      "grid_template_rows": null,
      "height": null,
      "justify_content": null,
      "justify_items": null,
      "left": null,
      "margin": null,
      "max_height": null,
      "max_width": null,
      "min_height": null,
      "min_width": null,
      "object_fit": null,
      "object_position": null,
      "order": null,
      "overflow": null,
      "overflow_x": null,
      "overflow_y": null,
      "padding": null,
      "right": null,
      "top": null,
      "visibility": null,
      "width": null
     }
    },
    "f3d15ea8763c451184dc5e61d3c17a81": {
     "model_module": "@jupyter-widgets/controls",
     "model_name": "SliderStyleModel",
     "model_module_version": "1.5.0",
     "state": {
      "_model_module": "@jupyter-widgets/controls",
      "_model_module_version": "1.5.0",
      "_model_name": "SliderStyleModel",
      "_view_count": null,
      "_view_module": "@jupyter-widgets/base",
      "_view_module_version": "1.2.0",
      "_view_name": "StyleView",
      "description_width": "",
      "handle_color": null
     }
    },
    "1d60928523104584923fa6e7a99b7524": {
     "model_module": "@jupyter-widgets/base",
     "model_name": "LayoutModel",
     "model_module_version": "1.2.0",
     "state": {
      "_model_module": "@jupyter-widgets/base",
      "_model_module_version": "1.2.0",
      "_model_name": "LayoutModel",
      "_view_count": null,
      "_view_module": "@jupyter-widgets/base",
      "_view_module_version": "1.2.0",
      "_view_name": "LayoutView",
      "align_content": null,
      "align_items": null,
      "align_self": null,
      "border": null,
      "bottom": null,
      "display": null,
      "flex": null,
      "flex_flow": null,
      "grid_area": null,
      "grid_auto_columns": null,
      "grid_auto_flow": null,
      "grid_auto_rows": null,
      "grid_column": null,
      "grid_gap": null,
      "grid_row": null,
      "grid_template_areas": null,
      "grid_template_columns": null,
      "grid_template_rows": null,
      "height": null,
      "justify_content": null,
      "justify_items": null,
      "left": null,
      "margin": null,
      "max_height": null,
      "max_width": null,
      "min_height": null,
      "min_width": null,
      "object_fit": null,
      "object_position": null,
      "order": null,
      "overflow": null,
      "overflow_x": null,
      "overflow_y": null,
      "padding": null,
      "right": null,
      "top": null,
      "visibility": null,
      "width": null
     }
    },
    "95cffc18cb624eddb83cecacd62c4cf4": {
     "model_module": "@jupyter-widgets/controls",
     "model_name": "DescriptionStyleModel",
     "model_module_version": "1.5.0",
     "state": {
      "_model_module": "@jupyter-widgets/controls",
      "_model_module_version": "1.5.0",
      "_model_name": "DescriptionStyleModel",
      "_view_count": null,
      "_view_module": "@jupyter-widgets/base",
      "_view_module_version": "1.2.0",
      "_view_name": "StyleView",
      "description_width": "initial"
     }
    },
    "3b21793d6c294ff984bb613538d7218f": {
     "model_module": "@jupyter-widgets/base",
     "model_name": "LayoutModel",
     "model_module_version": "1.2.0",
     "state": {
      "_model_module": "@jupyter-widgets/base",
      "_model_module_version": "1.2.0",
      "_model_name": "LayoutModel",
      "_view_count": null,
      "_view_module": "@jupyter-widgets/base",
      "_view_module_version": "1.2.0",
      "_view_name": "LayoutView",
      "align_content": null,
      "align_items": null,
      "align_self": null,
      "border": null,
      "bottom": null,
      "display": null,
      "flex": null,
      "flex_flow": null,
      "grid_area": null,
      "grid_auto_columns": null,
      "grid_auto_flow": null,
      "grid_auto_rows": null,
      "grid_column": null,
      "grid_gap": null,
      "grid_row": null,
      "grid_template_areas": null,
      "grid_template_columns": null,
      "grid_template_rows": null,
      "height": null,
      "justify_content": null,
      "justify_items": null,
      "left": null,
      "margin": null,
      "max_height": null,
      "max_width": null,
      "min_height": null,
      "min_width": null,
      "object_fit": null,
      "object_position": null,
      "order": null,
      "overflow": null,
      "overflow_x": null,
      "overflow_y": null,
      "padding": null,
      "right": null,
      "top": null,
      "visibility": null,
      "width": null
     }
    }
   }
  }
 },
 "cells": [
  {
   "metadata": {},
   "cell_type": "markdown",
   "source": [
    "# Ciencia de datos y BigData<a class=\"tocSkip\">\n",
    "### Ingenieria Electrónica <a class=\"tocSkip\">\n",
    "### Universidad Popular del Cesar <a class=\"tocSkip\">\n",
    "### Prof.: Jose Ramón Iglesias Gamarra - [https://github.com/joseramoniglesias/](https://github.com/joseramoniglesias/) <a class=\"tocSkip\">\n",
    "  **joseiglesias@unicesar.edu.co**"
   ]
  },
  {
   "metadata": {
    "id": "1CT4WLi9nORc"
   },
   "cell_type": "markdown",
   "source": [
    "# **Práctica 1: Manejo de Pandas y Análisis Exploratorio**\n",
    "En esta práctica vamos a aplicar los conocimientos obtenidos en este primer módulo a una base de datos real de la empresa CHEC Grupo EPM."
   ]
  },
  {
   "cell_type": "markdown",
   "source": [
    "## **Importación de Librerías**\n",
    "Importamos las liberías necesarias para el desarrollo de la práctica"
   ],
   "metadata": {
    "id": "gvWav3hWoZ04"
   }
  },
  {
   "cell_type": "code",
   "source": [
    "import pandas as pd             # manipulación y análisis de datos tabulares\n",
    "import matplotlib.pyplot as plt\n",
    "import ipywidgets as widgets\n",
    "from ipywidgets import interact\n",
    "from IPython.display import clear_output\n",
    "import seaborn as sns\n",
    "import numpy as np"
   ],
   "metadata": {
    "id": "rXSElaPvykXu",
    "ExecuteTime": {
     "end_time": "2025-01-21T15:15:57.845220Z",
     "start_time": "2025-01-21T15:15:57.831497Z"
    }
   },
   "outputs": [],
   "execution_count": 1
  },
  {
   "cell_type": "markdown",
   "source": [
    "## **Importación y Exploración Inicial de Datos**\n",
    "Para esta práctica usaremos un dataset de interrupciones del fluido eléctrico en la red CHEC en algunos circuitos y transformadores, el cual está conformado por las siguientes columnas:\n",
    "- **`periodo`:** mes al que corresponde\n",
    "- **`evento`:** ID del evento\n",
    "- **`equipo_ope`:** equipo que vio la interrupción\n",
    "- **`tipo_equi_ope`:** tipo de equipo\n",
    "- **`cto_equi_ope`:** tramo de red al que pertenece el servicio\n",
    "- **`tipo_elemento`:** relacionado con la tensión a la que opera el equipo\n",
    "- **`inicio`:** fecha y hora de inicio de la interrupción\n",
    "- **`fin`:** fecha y hora de finalización de la interrupción\n",
    "- **`duracion_h`:** duración de la interrupción\n",
    "- **`tipo_duracion`:** si la interrupción duró más o menos de 3 minutos\n",
    "- **`causa`:** codificación de la causa de la interrupción\n",
    "- **`tipo_causa`:** causa que provocó la interrupción\n",
    "- **`CNT_TRAFOS_AFEC`:** cantidad de trafos afectados\n",
    "- **`cnt_usus`:** cantidad de usuarios afectados\n",
    "- **`SAIDI`:** indicador de calidad del servicio por tiempo de falla\n",
    "- **`SAIFI`:** indicador de calidad del servicio por cantidad de fallas\n"
   ],
   "metadata": {
    "id": "fW9uG4ctohko"
   }
  },
  {
   "cell_type": "markdown",
   "source": [
    "Estos datos se encuentran en formato CSV, por lo que para cargarlos usaremos la función [`read_csv`](https://pandas.pydata.org/docs/reference/api/pandas.read_csv.html). Además, en este caso usaremos algunos parámetros adicionales de acuerdo a la naturaleza de los datos:\n",
    "- Dado que la columna `evento` corresponde a un indicador único de las interrupciones, dejaremos esta como índice del DataFrame con el parámetro `index_col`.\n",
    "- Como las columnas `inicio` y `fin` corresponden a fechas, indicaremos que se codifiquen de esta manera, y no como cadenas de texto, con el argumento `parse_dates`.\n",
    "- Si bien la columna `causa` contiene valores numéricos, estos no deben ser tratados como tal ya que corresponden a causas de interrupciones en las que no hay una noción de orden. Por este motivo se leen como cadenas haciendo uso del parámetro `dtype`.\n",
    "- Mediante una inspección previa se encontró que en algunas columnas se usan los caracteres `'-'` y `'XXX'` para indicar datos faltantes. Por defecto se leen como valores nulos únicamente los espacios vacíos, pero se pueden indicar valores adicionales a considerar como valores nulos con el argumento `na_values`.\n"
   ],
   "metadata": {
    "id": "uJSUGXrKVj38"
   }
  },
  {
   "cell_type": "code",
   "source": [
    "interrupciones = pd.read_csv('databases/interrupciones.csv', index_col='evento',\n",
    "                             dtype={'causa': str}, parse_dates=['inicio', 'fin'], na_values=['-', 'XXX'])"
   ],
   "metadata": {
    "id": "CgTn45t4g2lB",
    "ExecuteTime": {
     "end_time": "2025-01-21T15:16:33.912603Z",
     "start_time": "2025-01-21T15:16:31.714499Z"
    }
   },
   "outputs": [],
   "execution_count": 3
  },
  {
   "cell_type": "code",
   "source": [
    "# @title\n",
    "@interact(x=(5, 100, 1))\n",
    "def actualizar(x=5):\n",
    "    # la función display es para que se muestra la tabla al ser usado\n",
    "    # .head dentro de una función\n",
    "    display(interrupciones.head(x))"
   ],
   "metadata": {
    "colab": {
     "base_uri": "https://localhost:8080/",
     "height": 460,
     "referenced_widgets": [
      "6af52a612dba4499a32e28cc1b20ec2f",
      "4f551a599189406a8a62d785ec8fa2a7",
      "c8b56c210db04ef1af5793ae9f1720cb",
      "0f13dadf8f454949bcce4101af82386a",
      "07248f044fcc4663a4423900b040254f",
      "2270fb4d7e0f41ce92672c8178d8106d",
      "c49759a419d2458386dfcf26fc8f46be"
     ]
    },
    "id": "WeB-i6rbyczA",
    "outputId": "1dd7b958-de0f-4a7b-eb8c-08be74d490f1",
    "cellView": "form",
    "ExecuteTime": {
     "end_time": "2025-01-21T15:16:43.182228Z",
     "start_time": "2025-01-21T15:16:43.102874Z"
    }
   },
   "outputs": [
    {
     "data": {
      "text/plain": [
       "interactive(children=(IntSlider(value=5, description='x', min=5), Output()), _dom_classes=('widget-interact',)…"
      ],
      "application/vnd.jupyter.widget-view+json": {
       "version_major": 2,
       "version_minor": 0,
       "model_id": "98282934925042de97dc83576616280c"
      }
     },
     "metadata": {},
     "output_type": "display_data"
    }
   ],
   "execution_count": 4
  },
  {
   "cell_type": "markdown",
   "source": [
    "Revisamos información general de los datos"
   ],
   "metadata": {
    "id": "wFKma8xXrlhg"
   }
  },
  {
   "cell_type": "code",
   "source": [
    "interrupciones.info()"
   ],
   "metadata": {
    "colab": {
     "base_uri": "https://localhost:8080/"
    },
    "id": "HFT2oAzX0-C_",
    "outputId": "747f5893-5be9-45a6-cdca-b58ffa750adc",
    "ExecuteTime": {
     "end_time": "2025-01-21T15:17:01.109102Z",
     "start_time": "2025-01-21T15:17:01.029278Z"
    }
   },
   "outputs": [
    {
     "name": "stdout",
     "output_type": "stream",
     "text": [
      "<class 'pandas.core.frame.DataFrame'>\n",
      "Index: 189639 entries, 7549809 to 8272946\n",
      "Data columns (total 15 columns):\n",
      " #   Column           Non-Null Count   Dtype         \n",
      "---  ------           --------------   -----         \n",
      " 0   periodo          189639 non-null  int64         \n",
      " 1   equipo_ope       189598 non-null  object        \n",
      " 2   tipo_equi_ope    189598 non-null  object        \n",
      " 3   cto_equi_ope     189591 non-null  object        \n",
      " 4   tipo_elemento    189590 non-null  object        \n",
      " 5   inicio           189639 non-null  datetime64[ns]\n",
      " 6   fin              189639 non-null  datetime64[ns]\n",
      " 7   duracion_h       189639 non-null  float64       \n",
      " 8   tipo_duracion    189639 non-null  object        \n",
      " 9   causa            189324 non-null  object        \n",
      " 10  tipo_causa       189597 non-null  object        \n",
      " 11  CNT_TRAFOS_AFEC  189639 non-null  int64         \n",
      " 12  cnt_usus         189639 non-null  int64         \n",
      " 13  SAIDI            189639 non-null  float64       \n",
      " 14  SAIFI            189639 non-null  float64       \n",
      "dtypes: datetime64[ns](2), float64(3), int64(3), object(7)\n",
      "memory usage: 23.1+ MB\n"
     ]
    }
   ],
   "execution_count": 5
  },
  {
   "cell_type": "code",
   "source": [
    "# @title\n",
    "# Función para obtener las columnas con valores faltantes\n",
    "def obtener_columnas_faltantes(df):\n",
    "    return df.columns[df.isnull().any()].tolist()\n",
    "\n",
    "# Función interactiva\n",
    "def verificar_valores_faltantes(df):\n",
    "    columnas_faltantes = obtener_columnas_faltantes(df)\n",
    "\n",
    "    # Crear checkboxes para todas las columnas del DataFrame\n",
    "    checkbox_items = [widgets.Checkbox(value=False, description=col) for col in df.columns]\n",
    "\n",
    "    # Botón para verificar las columnas seleccionadas\n",
    "    button = widgets.Button(description=\"Verificar\")\n",
    "\n",
    "    # Área de salida para mostrar solo un mensaje actualizado\n",
    "    output = widgets.Output()\n",
    "\n",
    "    # Función para manejar la acción del botón\n",
    "    def verificar_seleccion(b):\n",
    "        seleccionadas = [cb.description for cb in checkbox_items if cb.value]\n",
    "\n",
    "        with output:\n",
    "            output.clear_output()  # Limpiar el mensaje anterior\n",
    "            if set(seleccionadas) == set(columnas_faltantes):\n",
    "                print(\"¡Correcto! Seleccionaste todas las columnas con valores faltantes.\")\n",
    "            else:\n",
    "                print(\"Incorrecto. Debes seleccionar exactamente las columnas con valores faltante.\")\n",
    "\n",
    "    button.on_click(verificar_seleccion)\n",
    "\n",
    "    # Mostrar los checkboxes, el botón y el área de salida\n",
    "    display(*checkbox_items, button, output)\n",
    "\n",
    "print(\"Seleccione las columnas en las que hay valores faltantes:\")\n",
    "# Llamar a la función con el DataFrame \"interrupciones\"\n",
    "verificar_valores_faltantes(interrupciones)"
   ],
   "metadata": {
    "colab": {
     "base_uri": "https://localhost:8080/",
     "height": 518,
     "referenced_widgets": [
      "0794b4d858844a9e97658936452665ad",
      "40f20a905e604322bcb48ec6abc90403",
      "57ff449e3ad9451f898e4557d9322447",
      "693cf2c63f8b42f6832bec98e5de38fa",
      "d42cdabcee6a408aa087dd6ef66fcfc0",
      "a46fcbba852d49408aed03b57427c805",
      "d7915a73d0734c1b98d1d794929ff146",
      "a63a7174b0234d0eaea33b55effa0a7b",
      "f3baf9b4ad764947b3de46cbf33473fd",
      "36b9d8e3a2a9464ca436028a3d071b6c",
      "9ea888dd93294474a4cab048ef0eabbc",
      "1c5754bea6b24d1b9fe28d9b84ce4d1a",
      "dc1909ee569a4f2782579750a10dc5dd",
      "1ab2a4f8f40e43e9b2687223dfbf5b4d",
      "0403f71b64fe4d858f93f11784fde5c8",
      "e9d0d4d5902e4bf29217000417fea982",
      "690f730f96f4400a8847876f8941cfa5",
      "0975cfd8afc248029211584c0e54029c",
      "e5e9458b5b2a43fcb53a2b3d046e7438",
      "c3b59ef315404b95aa798ffeb626f8de",
      "0a3af5f7a4924842af148a6a1e7097cd",
      "27404a0d4dea44fab715ac70a049a71a",
      "7314cc556681423e908cac3a4a4f7e9e",
      "68c092345e5d4d54af33eadf4d72a658",
      "dc6a2a86c3e9403f95e5f4ba59a853d6",
      "5edd4d849ccd476fb5bcada53441bf2c",
      "e2087b7c519149aa80e749442edbf654",
      "b4b9e0c272ea4c56a6f11dd0b39b90dc",
      "b91f55d82ea646f4be75d52bad03487b",
      "d952d76085a7431ea3132f3eeba1021d",
      "a7b40dc9fac94249b903a0dd0510ce7b",
      "9ee1c8e44ebf4ceab3ce18026b1be316",
      "0ada9d3ab4494ddeb34abce607376c8e",
      "930dfe2834e54f928c04dacd3263ecd8",
      "c0b5a558b1ac42cd890338500a592d80",
      "c730df119fe947f982868e27acf70681",
      "eac06aeb605d4f7bb3d2e25c003829c0",
      "5c0d4dd2e15e411899e0b59c84e9286d",
      "47fa8eb14339443b8a84bb78697cb2a7",
      "2749c1f2035b4268a97dc2c6e9924b4f",
      "607b4e5c992142be9cb31cf3bb00434e",
      "e979d44e39c444339693b861333443d1",
      "25c016c984074e2fb12cafd802778a29",
      "18fb3a9bab3e4cdc9aa6fe6b4a06967b",
      "1a9bb9ef9f774e3ba5fb8da04a886409",
      "c8985b3b81df4ab781c6e1d607a17934",
      "92422777055e47bb9ef98922cb4c1137",
      "ec6df1059b084acda82b9d4f5496383e",
      "a35b6361068143919f4d8d9aa9e44d89",
      "4ec20bdc1dd94273837a336836df248c"
     ]
    },
    "id": "QBmkcZiXzCRe",
    "outputId": "fed0724a-87f3-4fd7-8245-1bc1660b58c7",
    "cellView": "form",
    "ExecuteTime": {
     "end_time": "2025-01-21T15:17:11.355425Z",
     "start_time": "2025-01-21T15:17:11.221161Z"
    }
   },
   "outputs": [
    {
     "name": "stdout",
     "output_type": "stream",
     "text": [
      "Seleccione las columnas en las que hay valores faltantes:\n"
     ]
    },
    {
     "data": {
      "text/plain": [
       "Checkbox(value=False, description='periodo')"
      ],
      "application/vnd.jupyter.widget-view+json": {
       "version_major": 2,
       "version_minor": 0,
       "model_id": "5e2efa5eac78479e8c4f448d94bb3f86"
      }
     },
     "metadata": {},
     "output_type": "display_data"
    },
    {
     "data": {
      "text/plain": [
       "Checkbox(value=False, description='equipo_ope')"
      ],
      "application/vnd.jupyter.widget-view+json": {
       "version_major": 2,
       "version_minor": 0,
       "model_id": "8fe6967cfce14ea8ab05c1670879a3f0"
      }
     },
     "metadata": {},
     "output_type": "display_data"
    },
    {
     "data": {
      "text/plain": [
       "Checkbox(value=False, description='tipo_equi_ope')"
      ],
      "application/vnd.jupyter.widget-view+json": {
       "version_major": 2,
       "version_minor": 0,
       "model_id": "e4c37d031e9b4b53884cb537a64938bc"
      }
     },
     "metadata": {},
     "output_type": "display_data"
    },
    {
     "data": {
      "text/plain": [
       "Checkbox(value=False, description='cto_equi_ope')"
      ],
      "application/vnd.jupyter.widget-view+json": {
       "version_major": 2,
       "version_minor": 0,
       "model_id": "34bd55264b134eea8b6298f4353db030"
      }
     },
     "metadata": {},
     "output_type": "display_data"
    },
    {
     "data": {
      "text/plain": [
       "Checkbox(value=False, description='tipo_elemento')"
      ],
      "application/vnd.jupyter.widget-view+json": {
       "version_major": 2,
       "version_minor": 0,
       "model_id": "734c212a4aa249fd89455c5c1f534dbc"
      }
     },
     "metadata": {},
     "output_type": "display_data"
    },
    {
     "data": {
      "text/plain": [
       "Checkbox(value=False, description='inicio')"
      ],
      "application/vnd.jupyter.widget-view+json": {
       "version_major": 2,
       "version_minor": 0,
       "model_id": "9fcf7ddf72da496d853816ec3d281640"
      }
     },
     "metadata": {},
     "output_type": "display_data"
    },
    {
     "data": {
      "text/plain": [
       "Checkbox(value=False, description='fin')"
      ],
      "application/vnd.jupyter.widget-view+json": {
       "version_major": 2,
       "version_minor": 0,
       "model_id": "d8eccdf65135490eb7f679af573319b1"
      }
     },
     "metadata": {},
     "output_type": "display_data"
    },
    {
     "data": {
      "text/plain": [
       "Checkbox(value=False, description='duracion_h')"
      ],
      "application/vnd.jupyter.widget-view+json": {
       "version_major": 2,
       "version_minor": 0,
       "model_id": "362fb65fe4d548e09d2869d0c8053dc2"
      }
     },
     "metadata": {},
     "output_type": "display_data"
    },
    {
     "data": {
      "text/plain": [
       "Checkbox(value=False, description='tipo_duracion')"
      ],
      "application/vnd.jupyter.widget-view+json": {
       "version_major": 2,
       "version_minor": 0,
       "model_id": "d118d8e41e664ecba9d837d6da73a1a0"
      }
     },
     "metadata": {},
     "output_type": "display_data"
    },
    {
     "data": {
      "text/plain": [
       "Checkbox(value=False, description='causa')"
      ],
      "application/vnd.jupyter.widget-view+json": {
       "version_major": 2,
       "version_minor": 0,
       "model_id": "c145444b284e4c8586f214c9d392b30c"
      }
     },
     "metadata": {},
     "output_type": "display_data"
    },
    {
     "data": {
      "text/plain": [
       "Checkbox(value=False, description='tipo_causa')"
      ],
      "application/vnd.jupyter.widget-view+json": {
       "version_major": 2,
       "version_minor": 0,
       "model_id": "5ba14f0dc1394018a226f9c6a7fb7a42"
      }
     },
     "metadata": {},
     "output_type": "display_data"
    },
    {
     "data": {
      "text/plain": [
       "Checkbox(value=False, description='CNT_TRAFOS_AFEC')"
      ],
      "application/vnd.jupyter.widget-view+json": {
       "version_major": 2,
       "version_minor": 0,
       "model_id": "945f3a0068f64f8da17db0a4bdf2f8c7"
      }
     },
     "metadata": {},
     "output_type": "display_data"
    },
    {
     "data": {
      "text/plain": [
       "Checkbox(value=False, description='cnt_usus')"
      ],
      "application/vnd.jupyter.widget-view+json": {
       "version_major": 2,
       "version_minor": 0,
       "model_id": "86021efd20cd4e53bd5a7261d636433f"
      }
     },
     "metadata": {},
     "output_type": "display_data"
    },
    {
     "data": {
      "text/plain": [
       "Checkbox(value=False, description='SAIDI')"
      ],
      "application/vnd.jupyter.widget-view+json": {
       "version_major": 2,
       "version_minor": 0,
       "model_id": "04d3d283af504f18b15df62ed05ad432"
      }
     },
     "metadata": {},
     "output_type": "display_data"
    },
    {
     "data": {
      "text/plain": [
       "Checkbox(value=False, description='SAIFI')"
      ],
      "application/vnd.jupyter.widget-view+json": {
       "version_major": 2,
       "version_minor": 0,
       "model_id": "971f59a99bd24221ad5170339745139f"
      }
     },
     "metadata": {},
     "output_type": "display_data"
    },
    {
     "data": {
      "text/plain": [
       "Button(description='Verificar', style=ButtonStyle())"
      ],
      "application/vnd.jupyter.widget-view+json": {
       "version_major": 2,
       "version_minor": 0,
       "model_id": "c7e9d9004ccd4de5a07ae9b09853eb41"
      }
     },
     "metadata": {},
     "output_type": "display_data"
    },
    {
     "data": {
      "text/plain": [
       "Output()"
      ],
      "application/vnd.jupyter.widget-view+json": {
       "version_major": 2,
       "version_minor": 0,
       "model_id": "873082e7076e44b184bdc1bf1dc7f806"
      }
     },
     "metadata": {},
     "output_type": "display_data"
    }
   ],
   "execution_count": 6
  },
  {
   "cell_type": "markdown",
   "source": [
    "## Filtrado del Dataset\n",
    "En ocasiones no estamos interesados en trabajar con la totalidad del conjunto de datos, sino con algún subconjunto de este que cumpla condiciones específicas.\n",
    "\n",
    "En este caso, nos centraremos en los registros de interrupciones tales que el tipo de causa es `'NP'` y el tipo de elemento es `'13.2'`."
   ],
   "metadata": {
    "id": "XPjBqKh3Jny0"
   }
  },
  {
   "cell_type": "code",
   "source": [
    "condicion1 = interrupciones['tipo_causa'] == 'NP'\n",
    "condicion2 = interrupciones['tipo_elemento'] == '13.2'"
   ],
   "metadata": {
    "id": "dMcpFNi96piH",
    "ExecuteTime": {
     "end_time": "2025-01-21T15:19:17.960036Z",
     "start_time": "2025-01-21T15:19:17.924853Z"
    }
   },
   "outputs": [],
   "execution_count": 7
  },
  {
   "cell_type": "code",
   "source": [
    "condicion1.value_counts()"
   ],
   "metadata": {
    "colab": {
     "base_uri": "https://localhost:8080/",
     "height": 178
    },
    "id": "ZOyIXSHRQQRC",
    "outputId": "220d5e18-a5e1-402e-f5c2-cdfc0674bb3b",
    "ExecuteTime": {
     "end_time": "2025-01-21T15:19:37.003727Z",
     "start_time": "2025-01-21T15:19:36.972958Z"
    }
   },
   "outputs": [
    {
     "data": {
      "text/plain": [
       "tipo_causa\n",
       "True     153267\n",
       "False     36372\n",
       "Name: count, dtype: int64"
      ]
     },
     "execution_count": 8,
     "metadata": {},
     "output_type": "execute_result"
    }
   ],
   "execution_count": 8
  },
  {
   "cell_type": "code",
   "source": [
    "condicion2.value_counts()"
   ],
   "metadata": {
    "colab": {
     "base_uri": "https://localhost:8080/",
     "height": 178
    },
    "id": "7P3kD_-RQWf8",
    "outputId": "63190585-204b-4763-d15a-f8626293bdd8",
    "ExecuteTime": {
     "end_time": "2025-01-21T15:19:48.477422Z",
     "start_time": "2025-01-21T15:19:48.446253Z"
    }
   },
   "outputs": [
    {
     "data": {
      "text/plain": [
       "tipo_elemento\n",
       "True     112030\n",
       "False     77609\n",
       "Name: count, dtype: int64"
      ]
     },
     "execution_count": 9,
     "metadata": {},
     "output_type": "execute_result"
    }
   ],
   "execution_count": 9
  },
  {
   "cell_type": "markdown",
   "source": [
    "Para aplicar varias condiciones a la vez se pueden unir de diferente manera haciendo uso de [operadores booleanos](https://pandas.pydata.org/docs/user_guide/boolean.html#kleene-logical-operations). En este caso queremos que las dos condiciones se cumplan simultáneamente, y esto lo podemos hacer con el operador AND, que en `pandas` se hace con `&`"
   ],
   "metadata": {
    "id": "UId-Mea0QhjL"
   }
  },
  {
   "cell_type": "code",
   "source": [
    "condiciones = condicion1 & condicion2\n",
    "condiciones.value_counts()"
   ],
   "metadata": {
    "colab": {
     "base_uri": "https://localhost:8080/",
     "height": 147
    },
    "id": "besMj1ooRLe_",
    "outputId": "19dcdb82-c46e-4d5f-8428-f150fc2cabd1",
    "ExecuteTime": {
     "end_time": "2025-01-21T15:20:07.225274Z",
     "start_time": "2025-01-21T15:20:07.209457Z"
    }
   },
   "outputs": [
    {
     "data": {
      "text/plain": [
       "False    96516\n",
       "True     93123\n",
       "Name: count, dtype: int64"
      ]
     },
     "execution_count": 10,
     "metadata": {},
     "output_type": "execute_result"
    }
   ],
   "execution_count": 10
  },
  {
   "cell_type": "code",
   "source": [
    "# filtramos los datos con las condiciones definidas\n",
    "interrupciones_fltr = interrupciones[condiciones]"
   ],
   "metadata": {
    "id": "vtD9A7TwRa3i",
    "ExecuteTime": {
     "end_time": "2025-01-21T15:20:17.643830Z",
     "start_time": "2025-01-21T15:20:17.612304Z"
    }
   },
   "outputs": [],
   "execution_count": 11
  },
  {
   "cell_type": "markdown",
   "source": [
    "Exploramos esta versión filtrada del dataset"
   ],
   "metadata": {
    "id": "7Iifkkzji1R4"
   }
  },
  {
   "cell_type": "code",
   "source": [
    "interrupciones_fltr.info()"
   ],
   "metadata": {
    "colab": {
     "base_uri": "https://localhost:8080/"
    },
    "id": "ouFgTDZkueXi",
    "outputId": "b628a825-12ed-44b5-9a4d-bfcf5c92ad65",
    "ExecuteTime": {
     "end_time": "2025-01-21T15:20:22.919912Z",
     "start_time": "2025-01-21T15:20:22.857785Z"
    }
   },
   "outputs": [
    {
     "name": "stdout",
     "output_type": "stream",
     "text": [
      "<class 'pandas.core.frame.DataFrame'>\n",
      "Index: 93123 entries, 7549851 to 8272942\n",
      "Data columns (total 15 columns):\n",
      " #   Column           Non-Null Count  Dtype         \n",
      "---  ------           --------------  -----         \n",
      " 0   periodo          93123 non-null  int64         \n",
      " 1   equipo_ope       93123 non-null  object        \n",
      " 2   tipo_equi_ope    93123 non-null  object        \n",
      " 3   cto_equi_ope     93123 non-null  object        \n",
      " 4   tipo_elemento    93123 non-null  object        \n",
      " 5   inicio           93123 non-null  datetime64[ns]\n",
      " 6   fin              93123 non-null  datetime64[ns]\n",
      " 7   duracion_h       93123 non-null  float64       \n",
      " 8   tipo_duracion    93123 non-null  object        \n",
      " 9   causa            92866 non-null  object        \n",
      " 10  tipo_causa       93123 non-null  object        \n",
      " 11  CNT_TRAFOS_AFEC  93123 non-null  int64         \n",
      " 12  cnt_usus         93123 non-null  int64         \n",
      " 13  SAIDI            93123 non-null  float64       \n",
      " 14  SAIFI            93123 non-null  float64       \n",
      "dtypes: datetime64[ns](2), float64(3), int64(3), object(7)\n",
      "memory usage: 11.4+ MB\n"
     ]
    }
   ],
   "execution_count": 12
  },
  {
   "cell_type": "code",
   "source": [
    "interrupciones_fltr.describe()"
   ],
   "metadata": {
    "colab": {
     "base_uri": "https://localhost:8080/",
     "height": 300
    },
    "id": "_rWyM68DrzFT",
    "outputId": "67a6e3b9-0387-4dc1-c1e8-241b9d098c41",
    "ExecuteTime": {
     "end_time": "2025-01-21T15:20:30.180295Z",
     "start_time": "2025-01-21T15:20:30.115633Z"
    }
   },
   "outputs": [
    {
     "data": {
      "text/plain": [
       "             periodo                         inicio  \\\n",
       "count   93123.000000                          93123   \n",
       "mean   202194.858907  2022-05-15 17:29:04.802852096   \n",
       "min    201901.000000            2019-01-01 02:37:15   \n",
       "25%    202103.000000            2021-03-16 06:24:22   \n",
       "50%    202210.000000            2022-10-17 08:32:07   \n",
       "75%    202309.000000            2023-09-13 17:15:37   \n",
       "max    202406.000000            2024-06-30 23:11:25   \n",
       "std       158.190313                            NaN   \n",
       "\n",
       "                                 fin    duracion_h  CNT_TRAFOS_AFEC  \\\n",
       "count                          93123  93123.000000     93123.000000   \n",
       "mean   2022-05-15 23:13:26.125081856      5.739256        32.187677   \n",
       "min              2019-01-01 02:40:46      0.000000         1.000000   \n",
       "25%              2021-03-16 10:38:46      0.237222         2.000000   \n",
       "50%              2022-10-17 13:45:02      2.166667         7.000000   \n",
       "75%              2023-09-13 17:37:31      6.366667        45.000000   \n",
       "max              2024-06-30 23:59:59    392.906667       536.000000   \n",
       "std                              NaN     10.023106        49.872370   \n",
       "\n",
       "           cnt_usus         SAIDI         SAIFI  \n",
       "count  93123.000000  93123.000000  93123.000000  \n",
       "mean     556.544914      0.000888      0.001029  \n",
       "min        0.000000      0.000000      0.000000  \n",
       "25%       10.000000      0.000030      0.000019  \n",
       "50%       58.000000      0.000145      0.000108  \n",
       "75%      442.000000      0.000585      0.000814  \n",
       "max    29654.000000      0.165435      0.053018  \n",
       "std     1383.112494      0.003073      0.002550  "
      ],
      "text/html": [
       "<div>\n",
       "<style scoped>\n",
       "    .dataframe tbody tr th:only-of-type {\n",
       "        vertical-align: middle;\n",
       "    }\n",
       "\n",
       "    .dataframe tbody tr th {\n",
       "        vertical-align: top;\n",
       "    }\n",
       "\n",
       "    .dataframe thead th {\n",
       "        text-align: right;\n",
       "    }\n",
       "</style>\n",
       "<table border=\"1\" class=\"dataframe\">\n",
       "  <thead>\n",
       "    <tr style=\"text-align: right;\">\n",
       "      <th></th>\n",
       "      <th>periodo</th>\n",
       "      <th>inicio</th>\n",
       "      <th>fin</th>\n",
       "      <th>duracion_h</th>\n",
       "      <th>CNT_TRAFOS_AFEC</th>\n",
       "      <th>cnt_usus</th>\n",
       "      <th>SAIDI</th>\n",
       "      <th>SAIFI</th>\n",
       "    </tr>\n",
       "  </thead>\n",
       "  <tbody>\n",
       "    <tr>\n",
       "      <th>count</th>\n",
       "      <td>93123.000000</td>\n",
       "      <td>93123</td>\n",
       "      <td>93123</td>\n",
       "      <td>93123.000000</td>\n",
       "      <td>93123.000000</td>\n",
       "      <td>93123.000000</td>\n",
       "      <td>93123.000000</td>\n",
       "      <td>93123.000000</td>\n",
       "    </tr>\n",
       "    <tr>\n",
       "      <th>mean</th>\n",
       "      <td>202194.858907</td>\n",
       "      <td>2022-05-15 17:29:04.802852096</td>\n",
       "      <td>2022-05-15 23:13:26.125081856</td>\n",
       "      <td>5.739256</td>\n",
       "      <td>32.187677</td>\n",
       "      <td>556.544914</td>\n",
       "      <td>0.000888</td>\n",
       "      <td>0.001029</td>\n",
       "    </tr>\n",
       "    <tr>\n",
       "      <th>min</th>\n",
       "      <td>201901.000000</td>\n",
       "      <td>2019-01-01 02:37:15</td>\n",
       "      <td>2019-01-01 02:40:46</td>\n",
       "      <td>0.000000</td>\n",
       "      <td>1.000000</td>\n",
       "      <td>0.000000</td>\n",
       "      <td>0.000000</td>\n",
       "      <td>0.000000</td>\n",
       "    </tr>\n",
       "    <tr>\n",
       "      <th>25%</th>\n",
       "      <td>202103.000000</td>\n",
       "      <td>2021-03-16 06:24:22</td>\n",
       "      <td>2021-03-16 10:38:46</td>\n",
       "      <td>0.237222</td>\n",
       "      <td>2.000000</td>\n",
       "      <td>10.000000</td>\n",
       "      <td>0.000030</td>\n",
       "      <td>0.000019</td>\n",
       "    </tr>\n",
       "    <tr>\n",
       "      <th>50%</th>\n",
       "      <td>202210.000000</td>\n",
       "      <td>2022-10-17 08:32:07</td>\n",
       "      <td>2022-10-17 13:45:02</td>\n",
       "      <td>2.166667</td>\n",
       "      <td>7.000000</td>\n",
       "      <td>58.000000</td>\n",
       "      <td>0.000145</td>\n",
       "      <td>0.000108</td>\n",
       "    </tr>\n",
       "    <tr>\n",
       "      <th>75%</th>\n",
       "      <td>202309.000000</td>\n",
       "      <td>2023-09-13 17:15:37</td>\n",
       "      <td>2023-09-13 17:37:31</td>\n",
       "      <td>6.366667</td>\n",
       "      <td>45.000000</td>\n",
       "      <td>442.000000</td>\n",
       "      <td>0.000585</td>\n",
       "      <td>0.000814</td>\n",
       "    </tr>\n",
       "    <tr>\n",
       "      <th>max</th>\n",
       "      <td>202406.000000</td>\n",
       "      <td>2024-06-30 23:11:25</td>\n",
       "      <td>2024-06-30 23:59:59</td>\n",
       "      <td>392.906667</td>\n",
       "      <td>536.000000</td>\n",
       "      <td>29654.000000</td>\n",
       "      <td>0.165435</td>\n",
       "      <td>0.053018</td>\n",
       "    </tr>\n",
       "    <tr>\n",
       "      <th>std</th>\n",
       "      <td>158.190313</td>\n",
       "      <td>NaN</td>\n",
       "      <td>NaN</td>\n",
       "      <td>10.023106</td>\n",
       "      <td>49.872370</td>\n",
       "      <td>1383.112494</td>\n",
       "      <td>0.003073</td>\n",
       "      <td>0.002550</td>\n",
       "    </tr>\n",
       "  </tbody>\n",
       "</table>\n",
       "</div>"
      ]
     },
     "execution_count": 13,
     "metadata": {},
     "output_type": "execute_result"
    }
   ],
   "execution_count": 13
  },
  {
   "cell_type": "code",
   "source": [
    "# @title\n",
    "# Cálculo del valor promedio de la columna cnt_usus en el DataFrame interrupciones_fltr\n",
    "promedio = interrupciones_fltr['cnt_usus'].mean()\n",
    "\n",
    "# Creación del widget de entrada\n",
    "entrada = widgets.FloatText(description=\"Respuesta:\", placeholder=\"Ingresa el promedio\")\n",
    "boton = widgets.Button(description=\"Verificar\")\n",
    "resultado = widgets.Output()\n",
    "\n",
    "# Función que verifica si el valor ingresado es correcto cuando se presiona el botón\n",
    "def verificar_respuesta(b):\n",
    "    with resultado:\n",
    "        resultado.clear_output()  # Limpiar cualquier mensaje anterior\n",
    "        if abs(entrada.value - promedio) < 0.01:  # Tolerancia pequeña por temas de decimales\n",
    "            print(\"¡Correcto!\")\n",
    "        else:\n",
    "            print(f\"Incorrecto.\")\n",
    "\n",
    "# Ligar el botón con la función de verificación\n",
    "boton.on_click(verificar_respuesta)\n",
    "\n",
    "# Mostrar la pregunta, el campo de entrada y el botón\n",
    "display(widgets.HTML(value=\"<b>¿Cuál es la cantidad promedio de usuarios afectados? (Incluir los primeros dos decimales)</b>\"))\n",
    "display(entrada)\n",
    "display(boton)\n",
    "display(resultado)"
   ],
   "metadata": {
    "colab": {
     "base_uri": "https://localhost:8080/",
     "height": 111,
     "referenced_widgets": [
      "7f3903b44e7e400382c5a21e82af52e7",
      "b56f9ee6eb24419d952174592d3e54ea",
      "55efc85c05d84de290c8e59575c183cf",
      "3d96c619b74b4aedbdf6ca97b138cc10",
      "524a84532dd54218aed13800d7f05068",
      "ea3fd265adf1467caa2ebdb1ec6e9881",
      "06c2137f8a794c95b2034535068c3d96",
      "2890bc64368f4194b1846158982b1f8e",
      "75272d20f3e3433c8d130e89315ed3e1",
      "ea16232894674761bb5b35dce59a8463",
      "a472aa8307d94d0499cff3ce525b2762"
     ]
    },
    "cellView": "form",
    "id": "w9zSXUk2uyDL",
    "outputId": "5350acda-7468-4b22-b963-ea9425e63fe3",
    "ExecuteTime": {
     "end_time": "2025-01-21T15:20:43.222531Z",
     "start_time": "2025-01-21T15:20:43.190248Z"
    }
   },
   "outputs": [
    {
     "data": {
      "text/plain": [
       "HTML(value='<b>¿Cuál es la cantidad promedio de usuarios afectados? (Incluir los primeros dos decimales)</b>')"
      ],
      "application/vnd.jupyter.widget-view+json": {
       "version_major": 2,
       "version_minor": 0,
       "model_id": "31cf5510ead2428aa1e69b48e27af3f0"
      }
     },
     "metadata": {},
     "output_type": "display_data"
    },
    {
     "data": {
      "text/plain": [
       "FloatText(value=0.0, description='Respuesta:')"
      ],
      "application/vnd.jupyter.widget-view+json": {
       "version_major": 2,
       "version_minor": 0,
       "model_id": "096ba8b966404f039ef0007d5c699a97"
      }
     },
     "metadata": {},
     "output_type": "display_data"
    },
    {
     "data": {
      "text/plain": [
       "Button(description='Verificar', style=ButtonStyle())"
      ],
      "application/vnd.jupyter.widget-view+json": {
       "version_major": 2,
       "version_minor": 0,
       "model_id": "fe521105c84943e594280fc08b10bda3"
      }
     },
     "metadata": {},
     "output_type": "display_data"
    },
    {
     "data": {
      "text/plain": [
       "Output()"
      ],
      "application/vnd.jupyter.widget-view+json": {
       "version_major": 2,
       "version_minor": 0,
       "model_id": "ad580c603acc41c0ac4722526e82f96b"
      }
     },
     "metadata": {},
     "output_type": "display_data"
    }
   ],
   "execution_count": 14
  },
  {
   "cell_type": "code",
   "source": [
    "# @title\n",
    "# Cálculo del valor máximo de la columna cnt_usus en el DataFrame interrupciones_fltr\n",
    "maximo = interrupciones_fltr['duracion_h'].max()\n",
    "\n",
    "# Creación del widget de entrada\n",
    "entrada = widgets.FloatText(description=\"Respuesta:\", placeholder=\"Ingresa la máxima duración\")\n",
    "boton = widgets.Button(description=\"Verificar\")\n",
    "resultado = widgets.Output()\n",
    "\n",
    "# Función que verifica si el valor ingresado es correcto cuando se presiona el botón\n",
    "def verificar_respuesta(b):\n",
    "    with resultado:\n",
    "        resultado.clear_output()  # Limpiar cualquier mensaje anterior\n",
    "        if abs(entrada.value - maximo) < 0.1:  # Tolerancia pequeña por temas de decimales\n",
    "            print(\"¡Correcto!\")\n",
    "        else:\n",
    "            print(f\"Incorrecto.\")\n",
    "\n",
    "# Ligar el botón con la función de verificación\n",
    "boton.on_click(verificar_respuesta)\n",
    "\n",
    "# Mostrar la pregunta, el campo de entrada y el botón\n",
    "display(widgets.HTML(value=\"<b>¿Cuál es la máxima duración registrada de una interrupción? (Incluir los primeros dos decimales)</b>\"))\n",
    "display(entrada)\n",
    "display(boton)\n",
    "display(resultado)"
   ],
   "metadata": {
    "colab": {
     "base_uri": "https://localhost:8080/",
     "height": 111,
     "referenced_widgets": [
      "03ea9b9e1800427da44176bae62c7976",
      "b013af47b59d4eb89db380f82c4a1022",
      "64529dfe9bde4e6a82226ae2369e3f76",
      "422029ccbf0f467ebdcc5c885beb8d23",
      "2b250194fc65458eab0ebde50b71232a",
      "d412c6872d904c6eb9edcade45d3de63",
      "700ba6528cc340bf8bc2f72b6005dc98",
      "c6df6c6efecc426ba7fb06ea2b2e29d1",
      "5e5bd0a4b24c48dc8e92a1741cc0852d",
      "14bfdc76c61247f5ab6828da623c923d",
      "eaeb73f4dcdc45dd9f6b53802c852651"
     ]
    },
    "cellView": "form",
    "id": "lz9iz-nRwJQM",
    "outputId": "7fc31fb6-19e2-4370-8d41-251dca37c54c",
    "ExecuteTime": {
     "end_time": "2025-01-21T15:21:38.292406Z",
     "start_time": "2025-01-21T15:21:38.260638Z"
    }
   },
   "outputs": [
    {
     "data": {
      "text/plain": [
       "HTML(value='<b>¿Cuál es la máxima duración registrada de una interrupción? (Incluir los primeros dos decimales…"
      ],
      "application/vnd.jupyter.widget-view+json": {
       "version_major": 2,
       "version_minor": 0,
       "model_id": "9c5bbb80ece0484ca329272fe181475a"
      }
     },
     "metadata": {},
     "output_type": "display_data"
    },
    {
     "data": {
      "text/plain": [
       "FloatText(value=0.0, description='Respuesta:')"
      ],
      "application/vnd.jupyter.widget-view+json": {
       "version_major": 2,
       "version_minor": 0,
       "model_id": "5147911d7aa44067adcfa6defc4b3d77"
      }
     },
     "metadata": {},
     "output_type": "display_data"
    },
    {
     "data": {
      "text/plain": [
       "Button(description='Verificar', style=ButtonStyle())"
      ],
      "application/vnd.jupyter.widget-view+json": {
       "version_major": 2,
       "version_minor": 0,
       "model_id": "66da263a85d04534b29583e11d17911d"
      }
     },
     "metadata": {},
     "output_type": "display_data"
    },
    {
     "data": {
      "text/plain": [
       "Output()"
      ],
      "application/vnd.jupyter.widget-view+json": {
       "version_major": 2,
       "version_minor": 0,
       "model_id": "01b9409340d74e2d8028446f191ef3ec"
      }
     },
     "metadata": {},
     "output_type": "display_data"
    }
   ],
   "execution_count": 15
  },
  {
   "cell_type": "code",
   "source": [
    "interrupciones_fltr.describe(include=['object'])"
   ],
   "metadata": {
    "colab": {
     "base_uri": "https://localhost:8080/",
     "height": 175
    },
    "id": "aT4xyA5S1r7X",
    "outputId": "cb7e871d-2fa7-43a6-c513-3db7e4e45dff",
    "ExecuteTime": {
     "end_time": "2025-01-21T15:22:24.652625Z",
     "start_time": "2025-01-21T15:22:24.559410Z"
    }
   },
   "outputs": [
    {
     "data": {
      "text/plain": [
       "       equipo_ope tipo_equi_ope cto_equi_ope tipo_elemento tipo_duracion  \\\n",
       "count       93123         93123        93123         93123         93123   \n",
       "unique       7262             2          219             1             2   \n",
       "top      NSA23L14   interruptor     SNA23L15          13.2       > 3 min   \n",
       "freq          661         92689         2505         93123         79781   \n",
       "\n",
       "        causa tipo_causa  \n",
       "count   92866      93123  \n",
       "unique     22          1  \n",
       "top      30.0         NP  \n",
       "freq    46504      93123  "
      ],
      "text/html": [
       "<div>\n",
       "<style scoped>\n",
       "    .dataframe tbody tr th:only-of-type {\n",
       "        vertical-align: middle;\n",
       "    }\n",
       "\n",
       "    .dataframe tbody tr th {\n",
       "        vertical-align: top;\n",
       "    }\n",
       "\n",
       "    .dataframe thead th {\n",
       "        text-align: right;\n",
       "    }\n",
       "</style>\n",
       "<table border=\"1\" class=\"dataframe\">\n",
       "  <thead>\n",
       "    <tr style=\"text-align: right;\">\n",
       "      <th></th>\n",
       "      <th>equipo_ope</th>\n",
       "      <th>tipo_equi_ope</th>\n",
       "      <th>cto_equi_ope</th>\n",
       "      <th>tipo_elemento</th>\n",
       "      <th>tipo_duracion</th>\n",
       "      <th>causa</th>\n",
       "      <th>tipo_causa</th>\n",
       "    </tr>\n",
       "  </thead>\n",
       "  <tbody>\n",
       "    <tr>\n",
       "      <th>count</th>\n",
       "      <td>93123</td>\n",
       "      <td>93123</td>\n",
       "      <td>93123</td>\n",
       "      <td>93123</td>\n",
       "      <td>93123</td>\n",
       "      <td>92866</td>\n",
       "      <td>93123</td>\n",
       "    </tr>\n",
       "    <tr>\n",
       "      <th>unique</th>\n",
       "      <td>7262</td>\n",
       "      <td>2</td>\n",
       "      <td>219</td>\n",
       "      <td>1</td>\n",
       "      <td>2</td>\n",
       "      <td>22</td>\n",
       "      <td>1</td>\n",
       "    </tr>\n",
       "    <tr>\n",
       "      <th>top</th>\n",
       "      <td>NSA23L14</td>\n",
       "      <td>interruptor</td>\n",
       "      <td>SNA23L15</td>\n",
       "      <td>13.2</td>\n",
       "      <td>&gt; 3 min</td>\n",
       "      <td>30.0</td>\n",
       "      <td>NP</td>\n",
       "    </tr>\n",
       "    <tr>\n",
       "      <th>freq</th>\n",
       "      <td>661</td>\n",
       "      <td>92689</td>\n",
       "      <td>2505</td>\n",
       "      <td>93123</td>\n",
       "      <td>79781</td>\n",
       "      <td>46504</td>\n",
       "      <td>93123</td>\n",
       "    </tr>\n",
       "  </tbody>\n",
       "</table>\n",
       "</div>"
      ]
     },
     "execution_count": 16,
     "metadata": {},
     "output_type": "execute_result"
    }
   ],
   "execution_count": 16
  },
  {
   "cell_type": "code",
   "source": [
    "# @title\n",
    "# Cálculo del número de valores distintos de la columna tipo_equi_ope en el DataFrame interrupciones_fltr\n",
    "valores_distintos = interrupciones_fltr['tipo_equi_ope'].nunique()\n",
    "\n",
    "# Creación del widget de entrada\n",
    "entrada = widgets.IntText(description=\"Respuesta:\", placeholder=\"Ingresa el número\")\n",
    "boton = widgets.Button(description=\"Verificar\")\n",
    "resultado = widgets.Output()\n",
    "\n",
    "# Función que verifica si el valor ingresado es correcto cuando se presiona el botón\n",
    "def verificar_respuesta(b):\n",
    "    with resultado:\n",
    "        resultado.clear_output()  # Limpiar cualquier mensaje anterior\n",
    "        if entrada.value == valores_distintos:\n",
    "            print(\"¡Correcto!\")\n",
    "        else:\n",
    "            print(f\"Incorrecto.\")\n",
    "\n",
    "# Ligar el botón con la función de verificación\n",
    "boton.on_click(verificar_respuesta)\n",
    "\n",
    "# Mostrar la pregunta, el campo de entrada y el botón\n",
    "display(widgets.HTML(value=\"<b>¿Cuántos tipos de equipo diferentes hay?</b>\"))\n",
    "display(entrada)\n",
    "display(boton)\n",
    "display(resultado)"
   ],
   "metadata": {
    "colab": {
     "base_uri": "https://localhost:8080/",
     "height": 111,
     "referenced_widgets": [
      "4284249e4dd145b0b4d9676a5cabdcbd",
      "ccf1b5bb6bb94423a9ae343bc517c7ea",
      "31c171182e9c45d1a2f3b08efcb986ac",
      "eef388ec53ed4f9a862745d3d4609be5",
      "165acecd1b5542f8b2d48c6e601dde99",
      "5b227fe63e9f4a9b974c68522c10dc93",
      "a0ebbe8abc3d45e0be79c8fd179a7707",
      "f58e93e4b7764adba8aaf72bf7d30a19",
      "c032c47fd8b846ccbc7c4f6189ca6502",
      "bbd1d39ce42b4d89a08ca478f6b0970c",
      "e244c674d6fc45a193071cddddcb03ca"
     ]
    },
    "cellView": "form",
    "id": "Kb6zd7lCw3ti",
    "outputId": "9e6716be-eca3-4df0-904f-6964f49cefc7",
    "ExecuteTime": {
     "end_time": "2025-01-21T15:22:36.939587Z",
     "start_time": "2025-01-21T15:22:36.896355Z"
    }
   },
   "outputs": [
    {
     "data": {
      "text/plain": [
       "HTML(value='<b>¿Cuántos tipos de equipo diferentes hay?</b>')"
      ],
      "application/vnd.jupyter.widget-view+json": {
       "version_major": 2,
       "version_minor": 0,
       "model_id": "f8e1ada273d54ca886911973f5835294"
      }
     },
     "metadata": {},
     "output_type": "display_data"
    },
    {
     "data": {
      "text/plain": [
       "IntText(value=0, description='Respuesta:')"
      ],
      "application/vnd.jupyter.widget-view+json": {
       "version_major": 2,
       "version_minor": 0,
       "model_id": "69067211fc4a46b3aa5e36299789f717"
      }
     },
     "metadata": {},
     "output_type": "display_data"
    },
    {
     "data": {
      "text/plain": [
       "Button(description='Verificar', style=ButtonStyle())"
      ],
      "application/vnd.jupyter.widget-view+json": {
       "version_major": 2,
       "version_minor": 0,
       "model_id": "076ead0c73fa47fbab0f9d1414b0d415"
      }
     },
     "metadata": {},
     "output_type": "display_data"
    },
    {
     "data": {
      "text/plain": [
       "Output()"
      ],
      "application/vnd.jupyter.widget-view+json": {
       "version_major": 2,
       "version_minor": 0,
       "model_id": "c7c66dcd115b40a282b0534004eaffc0"
      }
     },
     "metadata": {},
     "output_type": "display_data"
    }
   ],
   "execution_count": 17
  },
  {
   "cell_type": "markdown",
   "source": [
    "Revisemos ahora las correlaciones de las variables numéricas"
   ],
   "metadata": {
    "id": "1PGuwIQBxs8M"
   }
  },
  {
   "cell_type": "code",
   "source": [
    "interrupciones_num = interrupciones_fltr.select_dtypes([int, float])\n",
    "interrupciones_cat = interrupciones_fltr.select_dtypes('object')"
   ],
   "metadata": {
    "id": "AVFUipRNNm50",
    "ExecuteTime": {
     "end_time": "2025-01-21T15:22:53.955365Z",
     "start_time": "2025-01-21T15:22:53.942621Z"
    }
   },
   "outputs": [],
   "execution_count": 18
  },
  {
   "cell_type": "code",
   "source": [
    "# @title\n",
    "# con el método .select_dtypes seleccionamos las columnas con los tipos de datos especificados\n",
    "corr_matrix = interrupciones_num.corr()\n",
    "sns.heatmap(corr_matrix,\n",
    "            xticklabels=corr_matrix.columns.values,  # Etiquetas del eje X\n",
    "            yticklabels=corr_matrix.columns.values,  # Etiquetas del eje Y\n",
    "            cmap='coolwarm',  # gama de colores a usar\n",
    "            annot=True, # mostrar valor en cada casilla\n",
    "            fmt=\".3f\",  # redondear valores a 3 decimales\n",
    "            annot_kws={\"size\": 8}) # tamaño de valores mostrados en cada casilla"
   ],
   "metadata": {
    "colab": {
     "base_uri": "https://localhost:8080/",
     "height": 572
    },
    "id": "qYzu0kEexgo2",
    "outputId": "344f6a73-0b31-4476-f816-09db14330899",
    "cellView": "form",
    "ExecuteTime": {
     "end_time": "2025-01-21T15:23:03.524120Z",
     "start_time": "2025-01-21T15:23:02.858777Z"
    }
   },
   "outputs": [
    {
     "data": {
      "text/plain": [
       "<Axes: >"
      ]
     },
     "execution_count": 19,
     "metadata": {},
     "output_type": "execute_result"
    },
    {
     "data": {
      "text/plain": [
       "<Figure size 640x480 with 2 Axes>"
      ],
      "image/png": "[encoded data removed]"
     },
     "metadata": {},
     "output_type": "display_data"
    }
   ],
   "execution_count": 19
  },
  {
   "cell_type": "code",
   "source": [
    "# @title\n",
    "# Seleccionar las tres variables con mayor correlación positiva con SAIFI\n",
    "top_2_corr = corr_matrix['SAIFI'].nlargest(3).index[1:]  # Excluir SAIFI mismo\n",
    "\n",
    "# Creación del widget de entrada\n",
    "entrada = widgets.Text(description=\"Respuesta:\", placeholder=\"Ingresa las 2 variables separadas por comas\",\n",
    "                       layout=widgets.Layout(width='500px'))\n",
    "boton = widgets.Button(description=\"Verificar\")\n",
    "resultado = widgets.Output()\n",
    "\n",
    "# Función que verifica si el valor ingresado es correcto cuando se presiona el botón\n",
    "def verificar_respuesta(b):\n",
    "    with resultado:\n",
    "        resultado.clear_output()  # Limpiar cualquier mensaje anterior\n",
    "        respuesta_ingresada = [var.strip() for var in entrada.value.split(',')]\n",
    "        if set(respuesta_ingresada) == set(top_2_corr):\n",
    "            print(\"¡Correcto!\")\n",
    "        else:\n",
    "            print(f\"Incorrecto.\")\n",
    "\n",
    "# Ligar el botón con la función de verificación\n",
    "boton.on_click(verificar_respuesta)\n",
    "\n",
    "# Mostrar la pregunta, el campo de entrada y el botón\n",
    "display(widgets.HTML(value=\"<b>¿Cuáles son las 2 variables que tienen mayor correlación positiva con SAIFI?</b>\"))\n",
    "display(widgets.HTML(value=\"<i>Por favor, ingresa los nombres de las variables tal cual están escritas, separados por comas.</i>\"))\n",
    "display(entrada)\n",
    "display(boton)\n",
    "display(resultado)"
   ],
   "metadata": {
    "colab": {
     "base_uri": "https://localhost:8080/",
     "height": 141,
     "referenced_widgets": [
      "b5ebf585469f482dadd0ad9a9b8efb47",
      "5caa430e908440b5a3977de41067b92f",
      "c42580f4f1be4ce9947bad408b86318a",
      "d34deaad9f194c5da8e1e2e600ebcaf9",
      "466977a0a644450eb5119ce12db176ad",
      "c9d05f26c4cd466aa320eac2d98eecc2",
      "21956a653bfa4ca48b9fd7af3d39f090",
      "a39d978d14a84c45941ec193e1298365",
      "3a1923c19e1b4f6794d137dd6d8106a7",
      "8d6c30af537f4941b939bbe809cc5990",
      "7909c0be8e8143f58675980612201c53",
      "2ffb5613b419437ba35bd2f1329171ac",
      "96b9840f65dc4c43bd63c7a990567977",
      "b22d2e4d17a349019ddc8aafa70e6559"
     ]
    },
    "cellView": "form",
    "id": "VtsH8gGbynnx",
    "outputId": "13e0d6cd-81fb-40f5-b1a7-bda73e1c126c",
    "ExecuteTime": {
     "end_time": "2025-01-21T15:23:11.048050Z",
     "start_time": "2025-01-21T15:23:10.996674Z"
    }
   },
   "outputs": [
    {
     "data": {
      "text/plain": [
       "HTML(value='<b>¿Cuáles son las 2 variables que tienen mayor correlación positiva con SAIFI?</b>')"
      ],
      "application/vnd.jupyter.widget-view+json": {
       "version_major": 2,
       "version_minor": 0,
       "model_id": "b20477e868c24de0b554a547a5dadaa9"
      }
     },
     "metadata": {},
     "output_type": "display_data"
    },
    {
     "data": {
      "text/plain": [
       "HTML(value='<i>Por favor, ingresa los nombres de las variables tal cual están escritas, separados por comas.</…"
      ],
      "application/vnd.jupyter.widget-view+json": {
       "version_major": 2,
       "version_minor": 0,
       "model_id": "f6da0a0742b148bfa69c235701e6a4d2"
      }
     },
     "metadata": {},
     "output_type": "display_data"
    },
    {
     "data": {
      "text/plain": [
       "Text(value='', description='Respuesta:', layout=Layout(width='500px'), placeholder='Ingresa las 2 variables se…"
      ],
      "application/vnd.jupyter.widget-view+json": {
       "version_major": 2,
       "version_minor": 0,
       "model_id": "9a11c16dda9b42ff9a53ca0953a37b8d"
      }
     },
     "metadata": {},
     "output_type": "display_data"
    },
    {
     "data": {
      "text/plain": [
       "Button(description='Verificar', style=ButtonStyle())"
      ],
      "application/vnd.jupyter.widget-view+json": {
       "version_major": 2,
       "version_minor": 0,
       "model_id": "80da9704f2dc44639c368d98db4836b0"
      }
     },
     "metadata": {},
     "output_type": "display_data"
    },
    {
     "data": {
      "text/plain": [
       "Output()"
      ],
      "application/vnd.jupyter.widget-view+json": {
       "version_major": 2,
       "version_minor": 0,
       "model_id": "a0a01293ce374900bd4c86a0c3cac489"
      }
     },
     "metadata": {},
     "output_type": "display_data"
    }
   ],
   "execution_count": 20
  },
  {
   "cell_type": "code",
   "source": [
    "# @title\n",
    "# Función para actualizar el gráfico\n",
    "def actualizar_grafico(columna):\n",
    "    plt.figure(figsize=(10, 6))\n",
    "\n",
    "    # Contar las ocurrencias de las categorías\n",
    "    counts = interrupciones_cat[columna].value_counts()\n",
    "\n",
    "    # Si hay más de 20 categorías, agrupar las demás bajo \"otros\"\n",
    "    if len(counts) > 20:\n",
    "        top_20 = counts[:20]\n",
    "    else:\n",
    "        top_20 = counts\n",
    "\n",
    "    # Graficar las 20 más frecuentes (incluyendo \"otros\" si aplica)\n",
    "    top_20.plot(kind='bar')\n",
    "\n",
    "    plt.title(f'Frecuencia de categorías en {columna}')\n",
    "    plt.xlabel('Categorías')\n",
    "    plt.ylabel('Frecuencia')\n",
    "    plt.xticks(rotation=45)\n",
    "    plt.show()\n",
    "\n",
    "# Widget de selección para elegir la columna categórica\n",
    "selector_columna = widgets.Dropdown(\n",
    "    options=interrupciones_cat.columns,\n",
    "    description='Columna:',\n",
    "    style={'description_width': 'initial'}\n",
    ")\n",
    "\n",
    "# Llamada a la función interactiva\n",
    "widgets.interact(actualizar_grafico, columna=selector_columna)"
   ],
   "metadata": {
    "colab": {
     "base_uri": "https://localhost:8080/",
     "height": 732,
     "referenced_widgets": [
      "b4fdc0da919d42d59976ea30cab15847",
      "5b3f96cccdc043d9b90f677b81c7c91a",
      "533946b43d59419daed2b51eb6b385ea",
      "14dd6a42f17c40f88a10a02d2c254c22",
      "a3e3c5742cfc425d8475dd112355e445",
      "a3c38bfa6c0b460b81630d7b38c3f6c9",
      "0f2f3c26ca1643659870a057dba46332"
     ]
    },
    "id": "WPyscRD81l7G",
    "outputId": "d1eca744-e1f1-4846-bf9a-39bb715a4610",
    "cellView": "form",
    "ExecuteTime": {
     "end_time": "2025-01-21T15:23:53.624481Z",
     "start_time": "2025-01-21T15:23:53.095067Z"
    }
   },
   "outputs": [
    {
     "data": {
      "text/plain": [
       "interactive(children=(Dropdown(description='Columna:', options=('equipo_ope', 'tipo_equi_ope', 'cto_equi_ope',…"
      ],
      "application/vnd.jupyter.widget-view+json": {
       "version_major": 2,
       "version_minor": 0,
       "model_id": "323b7c83baba4d5099a6b27fb95466f2"
      }
     },
     "metadata": {},
     "output_type": "display_data"
    },
    {
     "data": {
      "text/plain": [
       "<function __main__.actualizar_grafico(columna)>"
      ]
     },
     "execution_count": 21,
     "metadata": {},
     "output_type": "execute_result"
    }
   ],
   "execution_count": 21
  },
  {
   "cell_type": "code",
   "source": [
    "# @title\n",
    "top_3_causas =  interrupciones_fltr['causa'].value_counts()[:3].index\n",
    "\n",
    "# Creación del widget de entrada\n",
    "entrada = widgets.Text(description=\"Respuesta:\", placeholder=\"Ingresa las 3 causas separadas por comas, sin decimales\",\n",
    "                       layout=widgets.Layout(width='500px'))\n",
    "boton = widgets.Button(description=\"Verificar\")\n",
    "resultado = widgets.Output()\n",
    "\n",
    "# Función que verifica si el valor ingresado es correcto cuando se presiona el botón\n",
    "def verificar_respuesta(b):\n",
    "    with resultado:\n",
    "        resultado.clear_output()  # Limpiar cualquier mensaje anterior\n",
    "        respuesta_ingresada = [var.strip() for var in entrada.value.split(',')]\n",
    "        if set(respuesta_ingresada) == set(causa.replace(\".0\", \"\") for causa in top_3_causas):\n",
    "            print(\"¡Correcto!\")\n",
    "        else:\n",
    "            print(f\"Incorrecto.\")\n",
    "\n",
    "# Ligar el botón con la función de verificación\n",
    "boton.on_click(verificar_respuesta)\n",
    "\n",
    "# Mostrar la pregunta, el campo de entrada y el botón\n",
    "display(widgets.HTML(value=\"<b>¿Cuáles son las 3 causas más frecuentes?</b>\"))\n",
    "display(widgets.HTML(value=\"<i>Por favor, ingresa las causas sin decimales, separados por comas.</i>\"))\n",
    "display(entrada)\n",
    "display(boton)\n",
    "display(resultado)"
   ],
   "metadata": {
    "colab": {
     "base_uri": "https://localhost:8080/",
     "height": 141,
     "referenced_widgets": [
      "8624869cf9bf44b5b0cd73a6a88a671d",
      "abebecd780e748ad94cc38e7c0ebf015",
      "dffbdabd0bc445a79cea3b18660e9b38",
      "624d87156799478291339899ff2e24f4",
      "3eded8f01ccc4a2889197c37874855c9",
      "62509f370bdf4a4b99d2e1b920492dfa",
      "138300bbdbe24e58963062db0610c98d",
      "c21bd89fb69746b8ad1e875cda461405",
      "32be7cdd91854103b4e7cc500e625c64",
      "69aeb135f58147a0ada2268c62428c1e",
      "e99a88180e9f405eaf2e7d0cae45bfcf",
      "5130ea16ea404a4f9863ba9247759814",
      "333dda30c9104b588c4318b3890959ab",
      "35883a54ae6047cf8411f5d07adf4e70"
     ]
    },
    "cellView": "form",
    "id": "1NWPKxR_bvXc",
    "outputId": "4a0e74e2-1741-4466-eaae-8a6134e0dedd",
    "ExecuteTime": {
     "end_time": "2025-01-21T15:24:11.135810Z",
     "start_time": "2025-01-21T15:24:11.080533Z"
    }
   },
   "outputs": [
    {
     "data": {
      "text/plain": [
       "HTML(value='<b>¿Cuáles son las 3 causas más frecuentes?</b>')"
      ],
      "application/vnd.jupyter.widget-view+json": {
       "version_major": 2,
       "version_minor": 0,
       "model_id": "e6ced7017cfb40f4be5695654e82cc03"
      }
     },
     "metadata": {},
     "output_type": "display_data"
    },
    {
     "data": {
      "text/plain": [
       "HTML(value='<i>Por favor, ingresa las causas sin decimales, separados por comas.</i>')"
      ],
      "application/vnd.jupyter.widget-view+json": {
       "version_major": 2,
       "version_minor": 0,
       "model_id": "5cb48d9eed054006a80e3e3889b4a612"
      }
     },
     "metadata": {},
     "output_type": "display_data"
    },
    {
     "data": {
      "text/plain": [
       "Text(value='', description='Respuesta:', layout=Layout(width='500px'), placeholder='Ingresa las 3 causas separ…"
      ],
      "application/vnd.jupyter.widget-view+json": {
       "version_major": 2,
       "version_minor": 0,
       "model_id": "7b5c59511519457eaac2d16c7c342f4c"
      }
     },
     "metadata": {},
     "output_type": "display_data"
    },
    {
     "data": {
      "text/plain": [
       "Button(description='Verificar', style=ButtonStyle())"
      ],
      "application/vnd.jupyter.widget-view+json": {
       "version_major": 2,
       "version_minor": 0,
       "model_id": "594eb4de0ab04e92a0e5c63bed6da246"
      }
     },
     "metadata": {},
     "output_type": "display_data"
    },
    {
     "data": {
      "text/plain": [
       "Output()"
      ],
      "application/vnd.jupyter.widget-view+json": {
       "version_major": 2,
       "version_minor": 0,
       "model_id": "66a023d99ee8471a979a647cb11fe919"
      }
     },
     "metadata": {},
     "output_type": "display_data"
    }
   ],
   "execution_count": 22
  },
  {
   "cell_type": "markdown",
   "source": [
    "## Escala logarítmica\n",
    "\n",
    "La [escala logarítmica](https://en.wikipedia.org/wiki/Logarithmic_scale) muestra valores en potencias de 10 (u otra base). En gráficas como histogramas, se usa para visualizar mejor datos que varían en varios órdenes de magnitud, resaltando tanto valores pequeños como grandes.\n",
    "\n",
    "En nuestro caso encontramos frecuencias de repetición que varían en orden de magnitud entre distintos rangos de valores. La mayoría de funciones para generar visualizaciones cuentan con argumentos para usar escala logarítmica en una o varias dimensiones."
   ],
   "metadata": {
    "id": "t7rKj4fuOMYd"
   }
  },
  {
   "cell_type": "code",
   "source": [
    "# @title\n",
    "# Función para generar el histograma\n",
    "def matplotlib_histograma(column_name, bins, log_scale):\n",
    "    plt.figure(figsize=(8, 6))  # Ajustar el tamaño de la figura\n",
    "    data = interrupciones_fltr.select_dtypes([float, int])[column_name]\n",
    "\n",
    "    # Crear el histograma\n",
    "    plt.hist(data, bins=bins, color='blue', edgecolor='black', log=log_scale)\n",
    "\n",
    "    # Añadir título y etiquetas\n",
    "    plt.title(f'Histograma del {column_name}')\n",
    "    plt.xlabel(f'{column_name}')\n",
    "    plt.ylabel('Frecuencia (log)' if log_scale else 'Frecuencia')\n",
    "\n",
    "    # Mostrar el histograma\n",
    "    plt.show()\n",
    "\n",
    "# Dropdown para seleccionar la columna\n",
    "column_dropdown = widgets.Dropdown(\n",
    "    options=interrupciones_num.columns.tolist(),\n",
    "    value=interrupciones_num.columns[1],\n",
    "    description='Columna:',\n",
    ")\n",
    "\n",
    "# Slider para seleccionar el número de bins\n",
    "bins_slider = widgets.IntSlider(\n",
    "    value=30,\n",
    "    min=1,\n",
    "    max=100,\n",
    "    step=5,\n",
    "    description='Bins:',\n",
    "    continuous_update=False\n",
    ")\n",
    "\n",
    "# Checkbox para escala logarítmica\n",
    "log_scale_checkbox = widgets.Checkbox(\n",
    "    value=False,\n",
    "    description='Escala Logarítmica',\n",
    "    style={'description_width': 'initial'}\n",
    ")\n",
    "\n",
    "# Mostrar el widget y la gráfica interactiva\n",
    "widgets.interactive(matplotlib_histograma, column_name=column_dropdown, bins=bins_slider, log_scale=log_scale_checkbox)"
   ],
   "metadata": {
    "colab": {
     "base_uri": "https://localhost:8080/",
     "height": 660,
     "referenced_widgets": [
      "8484a1ae0847433381bbb0948a4fb939",
      "351432d2558a4b8db45a8d3307a3979c",
      "cfefac3ec8e64bc487513665651417c2",
      "da459414aad64c03908470385334d8a2",
      "08c6938f50fe47158bc388f2ec143c3c",
      "88a158de936e4f04945651499e5135da",
      "298e6db968484783a53f1d0fe5950bce",
      "8a89f54127584614b9aaea2cc56654c2",
      "4137a981d6ef47a5a9f4128cb097b3ae",
      "f3d15ea8763c451184dc5e61d3c17a81",
      "1d60928523104584923fa6e7a99b7524",
      "95cffc18cb624eddb83cecacd62c4cf4",
      "3b21793d6c294ff984bb613538d7218f"
     ]
    },
    "id": "NpeUpdZG4ArW",
    "outputId": "a9b9d2b4-9dcb-43f3-9fac-0d4daf324413",
    "cellView": "form",
    "ExecuteTime": {
     "end_time": "2025-01-21T15:24:22.695949Z",
     "start_time": "2025-01-21T15:24:22.336437Z"
    }
   },
   "outputs": [
    {
     "data": {
      "text/plain": [
       "interactive(children=(Dropdown(description='Columna:', index=1, options=('periodo', 'duracion_h', 'CNT_TRAFOS_…"
      ],
      "application/vnd.jupyter.widget-view+json": {
       "version_major": 2,
       "version_minor": 0,
       "model_id": "a22d37f6614040e49fece6669f2a38e9"
      }
     },
     "execution_count": 23,
     "metadata": {},
     "output_type": "execute_result"
    }
   ],
   "execution_count": 23
  },
  {
   "cell_type": "markdown",
   "source": [
    "Ahora veamos cómo se distribuyen conjuntamente un par de variables, discriminando una tercera. En la gráfica podemos ver el número usuarios afectados contrastado con el número de trafos, diferenciándo las interrupciones con duración mayor y menor a 3 minutos."
   ],
   "metadata": {
    "id": "GCDrMsYPYN6f"
   }
  },
  {
   "cell_type": "code",
   "source": [
    "# @title\n",
    "def kde_plot(df, x_var, y_var, category_var):\n",
    "    fig = plt.figure(figsize=(10, 7))\n",
    "    gs = fig.add_gridspec(3, 3, width_ratios=[3, 0.1, 0.5], height_ratios=[0.5, 0.1, 3])  # Ajustar el tamaño relativo\n",
    "\n",
    "    # Crear los ejes para el gráfico principal y las distribuciones marginales\n",
    "    ax_main = fig.add_subplot(gs[2:, :-1])  # Gráfico principal\n",
    "    ax_right = fig.add_subplot(gs[2:, -1], sharey=ax_main)  # Distribución marginal derecha\n",
    "    ax_top = fig.add_subplot(gs[0, :-1], sharex=ax_main)  # Distribución marginal superior\n",
    "\n",
    "    # Graficar el KDE principal\n",
    "    sns.kdeplot(\n",
    "        data=df,\n",
    "        x=x_var,\n",
    "        y=y_var,\n",
    "        hue=category_var,\n",
    "        fill=True,\n",
    "        common_norm=False,\n",
    "        palette=\"Set2\",\n",
    "        ax=ax_main,\n",
    "        alpha=0.3# Aplicar escala logarítmica\n",
    "    )\n",
    "    sns.scatterplot(\n",
    "        data=df,\n",
    "        x=x_var,\n",
    "        y=y_var,\n",
    "        hue=category_var,\n",
    "        ax=ax_main,\n",
    "        palette=\"Set2\",\n",
    "        s=10\n",
    "    )\n",
    "    # Agregar las distribuciones marginales con ajustes en tamaño\n",
    "    sns.kdeplot(data=df, x=x_var, palette=\"Set2\", hue=category_var, common_norm=False, alpha=0.5, ax=ax_top, legend=False)\n",
    "    sns.kdeplot(data=df, y=y_var, palette=\"Set2\", hue=category_var, common_norm=False, ax=ax_right, legend=False)\n",
    "\n",
    "    # Apagar los ejes de las distribuciones marginales\n",
    "    ax_top.axis(\"off\")\n",
    "    ax_right.axis(\"off\")\n",
    "\n",
    "    # Personalizar el gráfico principal\n",
    "    ax_main.set_xlabel(f\"{x_var}\")\n",
    "    ax_main.set_ylabel(f\"{y_var}\")\n",
    "    ax_main.set_title(f\"Distribución de {x_var} vs {y_var}\")\n",
    "\n",
    "    # Agregar la leyenda manualmente\n",
    "    handles, labels = ax_main.get_legend_handles_labels()\n",
    "    if handles:  # Si se encuentran handles, agregar la leyenda\n",
    "        ax_main.legend(handles=handles, labels=labels, title=category_var, loc='best', framealpha=1.0)\n",
    "\n",
    "    # Ajustar el diseño y mostrar\n",
    "    plt.tight_layout()\n",
    "    plt.show()"
   ],
   "metadata": {
    "id": "xl12MEojWSYG",
    "ExecuteTime": {
     "end_time": "2025-01-21T15:25:03.785306Z",
     "start_time": "2025-01-21T15:25:03.757762Z"
    }
   },
   "outputs": [],
   "execution_count": 24
  },
  {
   "cell_type": "markdown",
   "source": [
    "La función que realiza la siguiente gráfica es computacionalmente costosa. Para nuestros fines, es suficiente con tomar una muestra del total de datos para realizar la gráfica."
   ],
   "metadata": {
    "id": "1nXjDcaHY4rq"
   }
  },
  {
   "cell_type": "code",
   "source": [
    "# Filtrar las filas de la clase menos común\n",
    "df_min_class = interrupciones_fltr[interrupciones_fltr['tipo_duracion'] == '> 3 min'].sample(n=1000, random_state=23)\n",
    "\n",
    "# Submuestrear la clase más común\n",
    "df_max_class = interrupciones_fltr[interrupciones_fltr['tipo_duracion'] == '<= 3 min'].sample(n=1000, random_state=42)\n",
    "\n",
    "# Combinar ambas clases en un nuevo DataFrame\n",
    "df_balanced = pd.concat([df_min_class, df_max_class])"
   ],
   "metadata": {
    "id": "jANPu_rBnJRu",
    "ExecuteTime": {
     "end_time": "2025-01-21T15:25:19.986906Z",
     "start_time": "2025-01-21T15:25:19.942582Z"
    }
   },
   "outputs": [],
   "execution_count": 25
  },
  {
   "cell_type": "code",
   "source": [
    "kde_plot(df_balanced, 'CNT_TRAFOS_AFEC', 'cnt_usus', 'tipo_duracion')"
   ],
   "metadata": {
    "colab": {
     "base_uri": "https://localhost:8080/",
     "height": 707
    },
    "id": "mZcoJlRTnOfK",
    "outputId": "be68564f-7909-42cf-b235-4033d3ddd780",
    "ExecuteTime": {
     "end_time": "2025-01-21T15:25:32.082991Z",
     "start_time": "2025-01-21T15:25:29.821896Z"
    }
   },
   "outputs": [
    {
     "name": "stderr",
     "output_type": "stream",
     "text": [
      "C:\\Users\\ASUS\\anaconda3\\lib\\site-packages\\seaborn\\_oldcore.py:1119: FutureWarning: use_inf_as_na option is deprecated and will be removed in a future version. Convert inf values to NaN before operating instead.\n",
      "  with pd.option_context('mode.use_inf_as_na', True):\n",
      "C:\\Users\\ASUS\\anaconda3\\lib\\site-packages\\seaborn\\_oldcore.py:1119: FutureWarning: use_inf_as_na option is deprecated and will be removed in a future version. Convert inf values to NaN before operating instead.\n",
      "  with pd.option_context('mode.use_inf_as_na', True):\n",
      "C:\\Users\\ASUS\\anaconda3\\lib\\site-packages\\seaborn\\_oldcore.py:1075: FutureWarning: When grouping with a length-1 list-like, you will need to pass a length-1 tuple to get_group in a future version of pandas. Pass `(name,)` instead of `name` to silence this warning.\n",
      "  data_subset = grouped_data.get_group(pd_key)\n",
      "C:\\Users\\ASUS\\anaconda3\\lib\\site-packages\\seaborn\\_oldcore.py:1075: FutureWarning: When grouping with a length-1 list-like, you will need to pass a length-1 tuple to get_group in a future version of pandas. Pass `(name,)` instead of `name` to silence this warning.\n",
      "  data_subset = grouped_data.get_group(pd_key)\n",
      "C:\\Users\\ASUS\\anaconda3\\lib\\site-packages\\seaborn\\_oldcore.py:1075: FutureWarning: When grouping with a length-1 list-like, you will need to pass a length-1 tuple to get_group in a future version of pandas. Pass `(name,)` instead of `name` to silence this warning.\n",
      "  data_subset = grouped_data.get_group(pd_key)\n",
      "C:\\Users\\ASUS\\anaconda3\\lib\\site-packages\\seaborn\\_oldcore.py:1075: FutureWarning: When grouping with a length-1 list-like, you will need to pass a length-1 tuple to get_group in a future version of pandas. Pass `(name,)` instead of `name` to silence this warning.\n",
      "  data_subset = grouped_data.get_group(pd_key)\n",
      "C:\\Users\\ASUS\\anaconda3\\lib\\site-packages\\seaborn\\_oldcore.py:1119: FutureWarning: use_inf_as_na option is deprecated and will be removed in a future version. Convert inf values to NaN before operating instead.\n",
      "  with pd.option_context('mode.use_inf_as_na', True):\n",
      "C:\\Users\\ASUS\\anaconda3\\lib\\site-packages\\seaborn\\_oldcore.py:1075: FutureWarning: When grouping with a length-1 list-like, you will need to pass a length-1 tuple to get_group in a future version of pandas. Pass `(name,)` instead of `name` to silence this warning.\n",
      "  data_subset = grouped_data.get_group(pd_key)\n",
      "C:\\Users\\ASUS\\anaconda3\\lib\\site-packages\\seaborn\\_oldcore.py:1075: FutureWarning: When grouping with a length-1 list-like, you will need to pass a length-1 tuple to get_group in a future version of pandas. Pass `(name,)` instead of `name` to silence this warning.\n",
      "  data_subset = grouped_data.get_group(pd_key)\n",
      "C:\\Users\\ASUS\\anaconda3\\lib\\site-packages\\seaborn\\_oldcore.py:1075: FutureWarning: When grouping with a length-1 list-like, you will need to pass a length-1 tuple to get_group in a future version of pandas. Pass `(name,)` instead of `name` to silence this warning.\n",
      "  data_subset = grouped_data.get_group(pd_key)\n",
      "C:\\Users\\ASUS\\anaconda3\\lib\\site-packages\\seaborn\\_oldcore.py:1119: FutureWarning: use_inf_as_na option is deprecated and will be removed in a future version. Convert inf values to NaN before operating instead.\n",
      "  with pd.option_context('mode.use_inf_as_na', True):\n",
      "C:\\Users\\ASUS\\anaconda3\\lib\\site-packages\\seaborn\\_oldcore.py:1075: FutureWarning: When grouping with a length-1 list-like, you will need to pass a length-1 tuple to get_group in a future version of pandas. Pass `(name,)` instead of `name` to silence this warning.\n",
      "  data_subset = grouped_data.get_group(pd_key)\n",
      "C:\\Users\\ASUS\\anaconda3\\lib\\site-packages\\seaborn\\_oldcore.py:1075: FutureWarning: When grouping with a length-1 list-like, you will need to pass a length-1 tuple to get_group in a future version of pandas. Pass `(name,)` instead of `name` to silence this warning.\n",
      "  data_subset = grouped_data.get_group(pd_key)\n",
      "C:\\Users\\ASUS\\anaconda3\\lib\\site-packages\\seaborn\\_oldcore.py:1075: FutureWarning: When grouping with a length-1 list-like, you will need to pass a length-1 tuple to get_group in a future version of pandas. Pass `(name,)` instead of `name` to silence this warning.\n",
      "  data_subset = grouped_data.get_group(pd_key)\n"
     ]
    },
    {
     "data": {
      "text/plain": [
       "<Figure size 1000x700 with 3 Axes>"
      ],
      "image/png": "[encoded data removed]"
     },
     "metadata": {},
     "output_type": "display_data"
    }
   ],
   "execution_count": 26
  },
  {
   "cell_type": "markdown",
   "source": [
    "¿Qué puede decir al respecto?"
   ],
   "metadata": {
    "id": "ujhg2k-uZcIg"
   }
  },
  {
   "metadata": {},
   "cell_type": "markdown",
   "source": [
    "**Copyright**\n",
    "\n",
    "The notebooks are provided as [Open Educational Resource](https://de.wikipedia.org/wiki/Open_Educational_Resources). Feel free to use the notebooks for your own educational purposes. The text is licensed under [Creative Commons Attribution 4.0](https://creativecommons.org/licenses/by/4.0/), the code of the IPython examples under the [MIT license](https://opensource.org/licenses/MIT)."
   ]
  },
  {
   "metadata": {},
   "cell_type": "code",
   "outputs": [],
   "execution_count": null,
   "source": ""
  }
 ]
}
